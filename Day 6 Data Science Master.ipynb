{
 "cells": [
  {
   "cell_type": "markdown",
   "id": "2c481ace-b732-43a8-bd4b-7e8954b1f278",
   "metadata": {},
   "source": [
    "# Function"
   ]
  },
  {
   "cell_type": "code",
   "execution_count": 29,
   "id": "2bdfef99-726c-4cf4-a55c-fff3291dc6af",
   "metadata": {},
   "outputs": [
    {
     "name": "stdout",
     "output_type": "stream",
     "text": [
      "Everything is ok\n"
     ]
    }
   ],
   "source": [
    "print(\"Everything is ok\")"
   ]
  },
  {
   "cell_type": "code",
   "execution_count": 30,
   "id": "5471dc07-96be-445f-aa58-71f8993900bb",
   "metadata": {},
   "outputs": [],
   "source": [
    "def test():\n",
    "    pass"
   ]
  },
  {
   "cell_type": "code",
   "execution_count": 31,
   "id": "83bbd22e-12e1-4e78-a6b4-ae5b66d12c38",
   "metadata": {},
   "outputs": [],
   "source": [
    "def test1():\n",
    "    print(\"This is my very first function\")"
   ]
  },
  {
   "cell_type": "code",
   "execution_count": 32,
   "id": "c8b4c2eb-76c8-4414-9753-d8e828ac06c6",
   "metadata": {},
   "outputs": [
    {
     "name": "stdout",
     "output_type": "stream",
     "text": [
      "This is my very first function\n"
     ]
    }
   ],
   "source": [
    "test1()"
   ]
  },
  {
   "cell_type": "code",
   "execution_count": 33,
   "id": "670645e9-f20d-4ebf-baaa-264e470c71dc",
   "metadata": {},
   "outputs": [
    {
     "name": "stdout",
     "output_type": "stream",
     "text": [
      "This is my very first function\n"
     ]
    },
    {
     "ename": "TypeError",
     "evalue": "unsupported operand type(s) for +: 'NoneType' and 'str'",
     "output_type": "error",
     "traceback": [
      "\u001b[0;31m---------------------------------------------------------------------------\u001b[0m",
      "\u001b[0;31mTypeError\u001b[0m                                 Traceback (most recent call last)",
      "Cell \u001b[0;32mIn[33], line 1\u001b[0m\n\u001b[0;32m----> 1\u001b[0m \u001b[43mtest1\u001b[49m\u001b[43m(\u001b[49m\u001b[43m)\u001b[49m\u001b[38;5;241;43m+\u001b[39;49m\u001b[38;5;124;43m\"\u001b[39;49m\u001b[38;5;124;43mAkshat\u001b[39;49m\u001b[38;5;124;43m\"\u001b[39;49m\n",
      "\u001b[0;31mTypeError\u001b[0m: unsupported operand type(s) for +: 'NoneType' and 'str'"
     ]
    }
   ],
   "source": [
    "test1()+\"Akshat\""
   ]
  },
  {
   "cell_type": "markdown",
   "id": "aa399b0a-8b32-4031-987b-12a984fe45a0",
   "metadata": {},
   "source": [
    "*** print always return NONETYPE ***"
   ]
  },
  {
   "cell_type": "code",
   "execution_count": 34,
   "id": "15d586d2-4d9d-46ef-a62f-6fcaa0bbe4a8",
   "metadata": {},
   "outputs": [],
   "source": [
    "def tst2():\n",
    "    return \"This is my fun with return\""
   ]
  },
  {
   "cell_type": "code",
   "execution_count": 35,
   "id": "2d1efd3e-8e72-41b5-991e-c0509d0facf5",
   "metadata": {},
   "outputs": [
    {
     "data": {
      "text/plain": [
       "'This is my fun with return'"
      ]
     },
     "execution_count": 35,
     "metadata": {},
     "output_type": "execute_result"
    }
   ],
   "source": [
    "tst2()"
   ]
  },
  {
   "cell_type": "code",
   "execution_count": 36,
   "id": "4340e6f8-2730-4e2e-9904-e9436b11f625",
   "metadata": {},
   "outputs": [
    {
     "data": {
      "text/plain": [
       "'This is my fun with returnAkshat'"
      ]
     },
     "execution_count": 36,
     "metadata": {},
     "output_type": "execute_result"
    }
   ],
   "source": [
    "tst2()+\"Akshat\""
   ]
  },
  {
   "cell_type": "code",
   "execution_count": 37,
   "id": "c9679c9d-2a39-4458-acfe-a611734a4fd2",
   "metadata": {},
   "outputs": [],
   "source": [
    "def test3():\n",
    "    return 1,3,\"Akshat\",34.17"
   ]
  },
  {
   "cell_type": "code",
   "execution_count": 38,
   "id": "788c7271-73c3-46c6-bbf8-9b48af18a9ee",
   "metadata": {},
   "outputs": [
    {
     "data": {
      "text/plain": [
       "(1, 3, 'Akshat', 34.17)"
      ]
     },
     "execution_count": 38,
     "metadata": {},
     "output_type": "execute_result"
    }
   ],
   "source": [
    "test3()"
   ]
  },
  {
   "cell_type": "code",
   "execution_count": 39,
   "id": "dbbfbe7a-1134-4123-b66e-32ae833ba804",
   "metadata": {},
   "outputs": [],
   "source": [
    "a=1,2,3,4,5"
   ]
  },
  {
   "cell_type": "code",
   "execution_count": 40,
   "id": "6d9e9b34-ac98-4751-a03b-3fd0e69fb222",
   "metadata": {},
   "outputs": [
    {
     "data": {
      "text/plain": [
       "(1, 2, 3, 4, 5)"
      ]
     },
     "execution_count": 40,
     "metadata": {},
     "output_type": "execute_result"
    }
   ],
   "source": [
    "a"
   ]
  },
  {
   "cell_type": "code",
   "execution_count": 41,
   "id": "a1f28270-d829-4a5f-bc06-23e48f4d1fc2",
   "metadata": {},
   "outputs": [],
   "source": [
    "a,b,c,d=1,3,34.17,\"Akshat\""
   ]
  },
  {
   "cell_type": "code",
   "execution_count": 42,
   "id": "701a0e27-3d57-4eeb-9a6a-933cdc63e226",
   "metadata": {},
   "outputs": [
    {
     "data": {
      "text/plain": [
       "1"
      ]
     },
     "execution_count": 42,
     "metadata": {},
     "output_type": "execute_result"
    }
   ],
   "source": [
    "a"
   ]
  },
  {
   "cell_type": "code",
   "execution_count": 43,
   "id": "368ae7f9-3432-41b7-95a2-f36803d49e6a",
   "metadata": {},
   "outputs": [
    {
     "data": {
      "text/plain": [
       "3"
      ]
     },
     "execution_count": 43,
     "metadata": {},
     "output_type": "execute_result"
    }
   ],
   "source": [
    "b"
   ]
  },
  {
   "cell_type": "code",
   "execution_count": 44,
   "id": "f1cc8764-fcc6-415e-959a-f42e3ff74ed9",
   "metadata": {},
   "outputs": [
    {
     "data": {
      "text/plain": [
       "34.17"
      ]
     },
     "execution_count": 44,
     "metadata": {},
     "output_type": "execute_result"
    }
   ],
   "source": [
    "c"
   ]
  },
  {
   "cell_type": "code",
   "execution_count": 45,
   "id": "ae159616-8ed0-4701-a275-25470116b8fb",
   "metadata": {},
   "outputs": [
    {
     "data": {
      "text/plain": [
       "'Akshat'"
      ]
     },
     "execution_count": 45,
     "metadata": {},
     "output_type": "execute_result"
    }
   ],
   "source": [
    "d"
   ]
  },
  {
   "cell_type": "code",
   "execution_count": 46,
   "id": "12a0a67f-6a5b-4316-b0ec-1d4e14c34e85",
   "metadata": {},
   "outputs": [
    {
     "data": {
      "text/plain": [
       "(1, 3, 'Akshat', 34.17)"
      ]
     },
     "execution_count": 46,
     "metadata": {},
     "output_type": "execute_result"
    }
   ],
   "source": [
    "test3()"
   ]
  },
  {
   "cell_type": "code",
   "execution_count": 47,
   "id": "ce3e65a9-d23f-4b72-9fae-5e68af1e6a0f",
   "metadata": {},
   "outputs": [
    {
     "data": {
      "text/plain": [
       "'Akshat'"
      ]
     },
     "execution_count": 47,
     "metadata": {},
     "output_type": "execute_result"
    }
   ],
   "source": [
    "test3()[2]"
   ]
  },
  {
   "cell_type": "code",
   "execution_count": 48,
   "id": "32f2f9b1-b874-4007-af29-2509b249b29b",
   "metadata": {},
   "outputs": [
    {
     "data": {
      "text/plain": [
       "3"
      ]
     },
     "execution_count": 48,
     "metadata": {},
     "output_type": "execute_result"
    }
   ],
   "source": [
    "test3()[1]"
   ]
  },
  {
   "cell_type": "code",
   "execution_count": 49,
   "id": "0638ade0-4a78-49b3-aaa2-c9726b9872b3",
   "metadata": {},
   "outputs": [
    {
     "data": {
      "text/plain": [
       "34.17"
      ]
     },
     "execution_count": 49,
     "metadata": {},
     "output_type": "execute_result"
    }
   ],
   "source": [
    "test3()[3]"
   ]
  },
  {
   "cell_type": "code",
   "execution_count": 50,
   "id": "0fa35cd0-82b9-43b3-8650-2a0fcd65a02f",
   "metadata": {},
   "outputs": [],
   "source": [
    "a,b,c,d=test3()"
   ]
  },
  {
   "cell_type": "code",
   "execution_count": 51,
   "id": "0689aeb6-87f2-4ce5-9735-de2fcb93bd2a",
   "metadata": {},
   "outputs": [
    {
     "data": {
      "text/plain": [
       "1"
      ]
     },
     "execution_count": 51,
     "metadata": {},
     "output_type": "execute_result"
    }
   ],
   "source": [
    "a"
   ]
  },
  {
   "cell_type": "code",
   "execution_count": 52,
   "id": "c0634861-31ea-41a2-9807-24d957ab1195",
   "metadata": {},
   "outputs": [
    {
     "data": {
      "text/plain": [
       "3"
      ]
     },
     "execution_count": 52,
     "metadata": {},
     "output_type": "execute_result"
    }
   ],
   "source": [
    "b"
   ]
  },
  {
   "cell_type": "code",
   "execution_count": 53,
   "id": "6dc03b42-38ee-475c-9ad7-b9f4af022c5b",
   "metadata": {},
   "outputs": [
    {
     "data": {
      "text/plain": [
       "'Akshat'"
      ]
     },
     "execution_count": 53,
     "metadata": {},
     "output_type": "execute_result"
    }
   ],
   "source": [
    "c"
   ]
  },
  {
   "cell_type": "code",
   "execution_count": 54,
   "id": "6794f538-9b35-4213-89bb-00a5332815e5",
   "metadata": {},
   "outputs": [
    {
     "data": {
      "text/plain": [
       "34.17"
      ]
     },
     "execution_count": 54,
     "metadata": {},
     "output_type": "execute_result"
    }
   ],
   "source": [
    "d"
   ]
  },
  {
   "cell_type": "code",
   "execution_count": 55,
   "id": "4fc47515-15e4-43d1-825a-36b4a152048b",
   "metadata": {},
   "outputs": [],
   "source": [
    "def test4():\n",
    "    a=3*4+5\n",
    "    return a"
   ]
  },
  {
   "cell_type": "code",
   "execution_count": 56,
   "id": "83f35aac-1e81-46de-90e6-0c6133caa005",
   "metadata": {},
   "outputs": [
    {
     "data": {
      "text/plain": [
       "1"
      ]
     },
     "execution_count": 56,
     "metadata": {},
     "output_type": "execute_result"
    }
   ],
   "source": [
    "a"
   ]
  },
  {
   "cell_type": "code",
   "execution_count": 57,
   "id": "a7385fb3-6771-4709-a8a4-8e7a96c6a597",
   "metadata": {},
   "outputs": [
    {
     "data": {
      "text/plain": [
       "int"
      ]
     },
     "execution_count": 57,
     "metadata": {},
     "output_type": "execute_result"
    }
   ],
   "source": [
    "type(test4())"
   ]
  },
  {
   "cell_type": "code",
   "execution_count": 58,
   "id": "0145fb36-d0b5-4696-90aa-cb3d3b163cf9",
   "metadata": {},
   "outputs": [],
   "source": [
    "def test5(a,b):\n",
    "    c=a+b\n",
    "    return c"
   ]
  },
  {
   "cell_type": "code",
   "execution_count": 59,
   "id": "53fc1718-49b7-4ab7-be90-4083275185b8",
   "metadata": {},
   "outputs": [
    {
     "data": {
      "text/plain": [
       "15"
      ]
     },
     "execution_count": 59,
     "metadata": {},
     "output_type": "execute_result"
    }
   ],
   "source": [
    "test5(7,8)"
   ]
  },
  {
   "cell_type": "code",
   "execution_count": 60,
   "id": "f6421dfe-10a1-4e9d-9eb0-2af29d0fa112",
   "metadata": {},
   "outputs": [
    {
     "data": {
      "text/plain": [
       "7"
      ]
     },
     "execution_count": 60,
     "metadata": {},
     "output_type": "execute_result"
    }
   ],
   "source": [
    "test5(3,4)"
   ]
  },
  {
   "cell_type": "code",
   "execution_count": 61,
   "id": "545493c2-cb95-419e-bc87-50696ad38a22",
   "metadata": {},
   "outputs": [
    {
     "data": {
      "text/plain": [
       "'Akshat Srivastava'"
      ]
     },
     "execution_count": 61,
     "metadata": {},
     "output_type": "execute_result"
    }
   ],
   "source": [
    "test5(\"Akshat\",\" Srivastava\")"
   ]
  },
  {
   "cell_type": "code",
   "execution_count": 62,
   "id": "4738f457-5917-4be9-aa6c-87029a4ef838",
   "metadata": {},
   "outputs": [
    {
     "data": {
      "text/plain": [
       "[1, 2, 3, 4, 5, 4, 5, 6, 7, 8, 9]"
      ]
     },
     "execution_count": 62,
     "metadata": {},
     "output_type": "execute_result"
    }
   ],
   "source": [
    "test5([1,2,3,4,5],[4,5,6,7,8,9])"
   ]
  },
  {
   "cell_type": "code",
   "execution_count": 63,
   "id": "1fea86c5-e5cb-47c7-8d2c-e29ad7431a4e",
   "metadata": {},
   "outputs": [
    {
     "data": {
      "text/plain": [
       "'Akshat Srivastava'"
      ]
     },
     "execution_count": 63,
     "metadata": {},
     "output_type": "execute_result"
    }
   ],
   "source": [
    "test5(b=\" Srivastava\",a=\"Akshat\")"
   ]
  },
  {
   "cell_type": "code",
   "execution_count": 64,
   "id": "f36e3c97-abf2-4d09-993a-cba96fa91ea3",
   "metadata": {},
   "outputs": [],
   "source": [
    "l=[1,2,3,4,5,\"Akshat\",\"Srivastava\",[1,2,3,4,5,6,7,8,9]]"
   ]
  },
  {
   "cell_type": "code",
   "execution_count": 65,
   "id": "4751d326-5dd1-488d-b88a-5f9dd0a19c61",
   "metadata": {},
   "outputs": [],
   "source": [
    "#create a function which will take list a a input and give me a final list with all the numeric value"
   ]
  },
  {
   "cell_type": "code",
   "execution_count": 66,
   "id": "34711ac6-8e78-4a41-ab0e-8234af1da5ba",
   "metadata": {},
   "outputs": [],
   "source": [
    "def test6(a):\n",
    "    n=[]\n",
    "    for i in a:\n",
    "        if type(i) == int or type(i)==float:\n",
    "            n.append(i)\n",
    "    return n"
   ]
  },
  {
   "cell_type": "code",
   "execution_count": 67,
   "id": "9280e150-d521-49bb-bb34-a5a0287503d9",
   "metadata": {},
   "outputs": [
    {
     "data": {
      "text/plain": [
       "[1, 2, 3, 4, 5]"
      ]
     },
     "execution_count": 67,
     "metadata": {},
     "output_type": "execute_result"
    }
   ],
   "source": [
    "test6(l)"
   ]
  },
  {
   "cell_type": "code",
   "execution_count": 68,
   "id": "2ddc65b6-7655-4bee-8c8d-e12a3217073b",
   "metadata": {},
   "outputs": [
    {
     "data": {
      "text/plain": [
       "[1, 2, 3, 4, 5, 'Akshat', 'Srivastava', [1, 2, 3, 4, 5, 6, 7, 8, 9]]"
      ]
     },
     "execution_count": 68,
     "metadata": {},
     "output_type": "execute_result"
    }
   ],
   "source": [
    "l"
   ]
  },
  {
   "cell_type": "code",
   "execution_count": 69,
   "id": "2ae6fc19-93ff-4927-a81d-f05232e9d008",
   "metadata": {},
   "outputs": [],
   "source": [
    "def test7(a):\n",
    "    n=[]\n",
    "    for i in a:\n",
    "        if type(i)==list:\n",
    "            for j in i:\n",
    "                if type(j)==int or type(j)==float:\n",
    "                    n.append(j)\n",
    "        else:\n",
    "            if type(i)==int or type(i)==float:\n",
    "                n.append(i)\n",
    "    return n"
   ]
  },
  {
   "cell_type": "code",
   "execution_count": 70,
   "id": "0d2ad0f9-89fc-4a63-b7e0-edf74e31a463",
   "metadata": {},
   "outputs": [
    {
     "data": {
      "text/plain": [
       "[1, 2, 3, 4, 5, 1, 2, 3, 4, 5, 6, 7, 8, 9]"
      ]
     },
     "execution_count": 70,
     "metadata": {},
     "output_type": "execute_result"
    }
   ],
   "source": [
    "test7(l)"
   ]
  },
  {
   "cell_type": "code",
   "execution_count": 71,
   "id": "7bbeff0d-c406-424e-ba1d-0bd245d1b613",
   "metadata": {},
   "outputs": [
    {
     "data": {
      "text/plain": [
       "[1, 2, 3, 4, 5, 'Akshat', 'Srivastava', [1, 2, 3, 4, 5, 6, 7, 8, 9]]"
      ]
     },
     "execution_count": 71,
     "metadata": {},
     "output_type": "execute_result"
    }
   ],
   "source": [
    "l"
   ]
  },
  {
   "cell_type": "code",
   "execution_count": 1,
   "id": "7fe6a00e-a8bb-47e8-936a-126dd7a613b3",
   "metadata": {},
   "outputs": [],
   "source": [
    "def tst(a,b,c,d,e):\n",
    "    pass"
   ]
  },
  {
   "cell_type": "code",
   "execution_count": 2,
   "id": "5b22377b-e8f1-4979-9158-e7686c16297b",
   "metadata": {},
   "outputs": [],
   "source": [
    "tst(1,2,3,4,5)"
   ]
  },
  {
   "cell_type": "code",
   "execution_count": 3,
   "id": "1bef035b-6558-49a6-abbd-5229749e1e19",
   "metadata": {},
   "outputs": [],
   "source": [
    "def tst1(*args):\n",
    "    return args"
   ]
  },
  {
   "cell_type": "code",
   "execution_count": 4,
   "id": "2cd7ae55-8f36-4d66-836b-56d95c8f060a",
   "metadata": {},
   "outputs": [
    {
     "data": {
      "text/plain": [
       "(1,)"
      ]
     },
     "execution_count": 4,
     "metadata": {},
     "output_type": "execute_result"
    }
   ],
   "source": [
    "tst1(1)"
   ]
  },
  {
   "cell_type": "code",
   "execution_count": 5,
   "id": "855e78df-158e-421d-a948-dd7e929e82de",
   "metadata": {},
   "outputs": [
    {
     "data": {
      "text/plain": [
       "('Akshat', [1, 2, 3, 4, 5], (1, 2, 3, 45, 6), 17)"
      ]
     },
     "execution_count": 5,
     "metadata": {},
     "output_type": "execute_result"
    }
   ],
   "source": [
    "tst1(\"Akshat\",[1,2,3,4,5],(1,2,3,45,6),17)"
   ]
  },
  {
   "cell_type": "code",
   "execution_count": 6,
   "id": "f7b55d81-dbba-47cf-947c-7c7d5e016a3a",
   "metadata": {},
   "outputs": [],
   "source": [
    "def tst2(*akshat):\n",
    "    return akshat"
   ]
  },
  {
   "cell_type": "code",
   "execution_count": 7,
   "id": "7fb92857-048a-40b1-89e4-5d3f5695559b",
   "metadata": {},
   "outputs": [
    {
     "data": {
      "text/plain": [
       "(3, 4, 5, 6)"
      ]
     },
     "execution_count": 7,
     "metadata": {},
     "output_type": "execute_result"
    }
   ],
   "source": [
    "tst2(3,4,5,6)"
   ]
  },
  {
   "cell_type": "code",
   "execution_count": 8,
   "id": "ffa4e205-b496-44d5-b046-2fb55d9bf200",
   "metadata": {},
   "outputs": [],
   "source": [
    "def tst3(*akshat, a):\n",
    "    return akshat ,a "
   ]
  },
  {
   "cell_type": "code",
   "execution_count": 9,
   "id": "43adb2c7-65c3-468a-857d-219a5c16d74e",
   "metadata": {},
   "outputs": [
    {
     "ename": "TypeError",
     "evalue": "tst3() missing 1 required keyword-only argument: 'a'",
     "output_type": "error",
     "traceback": [
      "\u001b[0;31m---------------------------------------------------------------------------\u001b[0m",
      "\u001b[0;31mTypeError\u001b[0m                                 Traceback (most recent call last)",
      "Cell \u001b[0;32mIn[9], line 1\u001b[0m\n\u001b[0;32m----> 1\u001b[0m \u001b[43mtst3\u001b[49m\u001b[43m(\u001b[49m\u001b[38;5;241;43m3\u001b[39;49m\u001b[43m)\u001b[49m\n",
      "\u001b[0;31mTypeError\u001b[0m: tst3() missing 1 required keyword-only argument: 'a'"
     ]
    }
   ],
   "source": [
    "tst3(3)"
   ]
  },
  {
   "cell_type": "code",
   "execution_count": 10,
   "id": "e2cf8665-b386-4277-b6ab-399d6216dc1f",
   "metadata": {},
   "outputs": [
    {
     "data": {
      "text/plain": [
       "((1, 2, 3, 4, 5), 'Akshat Srivastava')"
      ]
     },
     "execution_count": 10,
     "metadata": {},
     "output_type": "execute_result"
    }
   ],
   "source": [
    "tst3(1,2,3,4,5,a=\"Akshat Srivastava\")"
   ]
  },
  {
   "cell_type": "code",
   "execution_count": 12,
   "id": "2beb2b96-e487-4687-a3fa-57e5acbbe32d",
   "metadata": {},
   "outputs": [],
   "source": [
    "def tst4(*akshat):\n",
    "    l=[]\n",
    "    for i in akshat:\n",
    "        if type(i) == list:\n",
    "            l.append(i)\n",
    "    return l"
   ]
  },
  {
   "cell_type": "code",
   "execution_count": 15,
   "id": "88bbcfb6-8560-4bc2-a621-8b9b7917f136",
   "metadata": {},
   "outputs": [
    {
     "data": {
      "text/plain": [
       "[[35, 17, 334, 76], [4, 5, 7], [6, 17, 34]]"
      ]
     },
     "execution_count": 15,
     "metadata": {},
     "output_type": "execute_result"
    }
   ],
   "source": [
    "tst4(1,2,3,4,5,[35,17,334,76],\"Akshat\",[4,5,7],[6,17,34])"
   ]
  },
  {
   "cell_type": "code",
   "execution_count": 16,
   "id": "870489e3-9e81-4b27-bd7e-e04cf2779dc3",
   "metadata": {},
   "outputs": [],
   "source": [
    "def tst5(**akshat):\n",
    "    return akshat"
   ]
  },
  {
   "cell_type": "code",
   "execution_count": 17,
   "id": "4501c85e-d9de-40ef-9a4d-7aaca62d7f3a",
   "metadata": {},
   "outputs": [
    {
     "data": {
      "text/plain": [
       "<function __main__.tst5(**akshat)>"
      ]
     },
     "execution_count": 17,
     "metadata": {},
     "output_type": "execute_result"
    }
   ],
   "source": [
    "tst5"
   ]
  },
  {
   "cell_type": "code",
   "execution_count": 18,
   "id": "8019bfad-1b58-4a8f-8523-c8d8ccf13fd6",
   "metadata": {},
   "outputs": [
    {
     "data": {
      "text/plain": [
       "{}"
      ]
     },
     "execution_count": 18,
     "metadata": {},
     "output_type": "execute_result"
    }
   ],
   "source": [
    "tst5()"
   ]
  },
  {
   "cell_type": "code",
   "execution_count": 19,
   "id": "7d13803d-3a92-4af6-8ee9-80c7d2c5fd4d",
   "metadata": {},
   "outputs": [
    {
     "data": {
      "text/plain": [
       "dict"
      ]
     },
     "execution_count": 19,
     "metadata": {},
     "output_type": "execute_result"
    }
   ],
   "source": [
    "type(tst5())"
   ]
  },
  {
   "cell_type": "code",
   "execution_count": 20,
   "id": "14dd1341-959f-488c-b4ce-74b667c14fda",
   "metadata": {},
   "outputs": [
    {
     "data": {
      "text/plain": [
       "{'a': 27, 'b': 17, 'c': [1, 2, 3], 'd': ('Akshat', 'Srivastava')}"
      ]
     },
     "execution_count": 20,
     "metadata": {},
     "output_type": "execute_result"
    }
   ],
   "source": [
    "tst5(a=27,b=17,c=[1,2,3],d=(\"Akshat\",\"Srivastava\"))"
   ]
  },
  {
   "cell_type": "code",
   "execution_count": 22,
   "id": "03c1d1d0-3646-4045-a006-6aec792ad524",
   "metadata": {},
   "outputs": [],
   "source": [
    "def tst6(**akshat):\n",
    "    for i in akshat.keys():\n",
    "        if type(akshat[i])==list:\n",
    "            return i,akshat[i]"
   ]
  },
  {
   "cell_type": "code",
   "execution_count": 24,
   "id": "5bd27006-1045-409f-b68b-4ee3a19eb978",
   "metadata": {},
   "outputs": [
    {
     "data": {
      "text/plain": [
       "('c', [1, 2, 3])"
      ]
     },
     "execution_count": 24,
     "metadata": {},
     "output_type": "execute_result"
    }
   ],
   "source": [
    "tst6(a=34,b=17,c=[1,2,3],d=(\"Akshat\",\"Srivastava\"))"
   ]
  },
  {
   "cell_type": "code",
   "execution_count": 27,
   "id": "b9abdf10-e52c-4b62-8ef0-f60109cab7c5",
   "metadata": {},
   "outputs": [],
   "source": [
    "def tst7(*akshat,**srivastav):\n",
    "    return akshat,srivastav"
   ]
  },
  {
   "cell_type": "code",
   "execution_count": 28,
   "id": "7eb72624-48eb-418b-9ac9-8f3375aa4447",
   "metadata": {},
   "outputs": [
    {
     "data": {
      "text/plain": [
       "((2, 3, 4, 5), {'a': 34, 'b': 17})"
      ]
     },
     "execution_count": 28,
     "metadata": {},
     "output_type": "execute_result"
    }
   ],
   "source": [
    "tst7(2,3,4,5,a=34,b=17)"
   ]
  },
  {
   "cell_type": "code",
   "execution_count": 72,
   "id": "45dbf215-298b-4eaf-ab24-e323ddd04592",
   "metadata": {},
   "outputs": [
    {
     "data": {
      "text/plain": [
       "range(1, 10)"
      ]
     },
     "execution_count": 72,
     "metadata": {},
     "output_type": "execute_result"
    }
   ],
   "source": [
    "range(1,10)"
   ]
  },
  {
   "cell_type": "code",
   "execution_count": 73,
   "id": "1157787a-e870-493d-8075-891d70df2c01",
   "metadata": {},
   "outputs": [
    {
     "name": "stdout",
     "output_type": "stream",
     "text": [
      "1\n",
      "2\n",
      "3\n",
      "4\n",
      "5\n",
      "6\n",
      "7\n",
      "8\n",
      "9\n"
     ]
    }
   ],
   "source": [
    "for i in range(1,10):\n",
    "    print(i)"
   ]
  },
  {
   "cell_type": "code",
   "execution_count": 74,
   "id": "9cde7d06-1d29-49f5-9ded-1eb89d2037ee",
   "metadata": {},
   "outputs": [],
   "source": [
    "l=[1,2,3,4,5,6,7,\"Akshat\",\"Srivastava\"]"
   ]
  },
  {
   "cell_type": "code",
   "execution_count": 75,
   "id": "f2d6e748-e591-4197-9101-be3091e4da0f",
   "metadata": {},
   "outputs": [],
   "source": [
    "def ts(a):\n",
    "    n=[]\n",
    "    for i in a:\n",
    "        if type(i)==int:\n",
    "            n.append(i)\n",
    "    return n"
   ]
  },
  {
   "cell_type": "code",
   "execution_count": 76,
   "id": "d36e67b1-2149-41de-af83-f4ff03c07b05",
   "metadata": {},
   "outputs": [
    {
     "data": {
      "text/plain": [
       "[1, 2, 3, 4, 5, 6, 7]"
      ]
     },
     "execution_count": 76,
     "metadata": {},
     "output_type": "execute_result"
    }
   ],
   "source": [
    "ts(l)"
   ]
  },
  {
   "cell_type": "markdown",
   "id": "396c6aa3-4786-4a64-a10a-7f8847c25017",
   "metadata": {},
   "source": [
    "*** fibonacci:\n",
    "0,1,1,2,3,5,8,13,21,34***"
   ]
  },
  {
   "cell_type": "code",
   "execution_count": 81,
   "id": "93bae043-fb1a-46c8-9f29-00bb3e1385a1",
   "metadata": {},
   "outputs": [],
   "source": [
    "def ts2(n):\n",
    "    a,b = 0,1\n",
    "    for i in range(n):\n",
    "        yield a\n",
    "        a,b=b,a+b"
   ]
  },
  {
   "cell_type": "code",
   "execution_count": 82,
   "id": "97d1b7db-9370-42cf-8fe5-9a999018b909",
   "metadata": {},
   "outputs": [
    {
     "data": {
      "text/plain": [
       "<generator object ts2 at 0x7f55ec453840>"
      ]
     },
     "execution_count": 82,
     "metadata": {},
     "output_type": "execute_result"
    }
   ],
   "source": [
    "ts2(10)"
   ]
  },
  {
   "cell_type": "code",
   "execution_count": 83,
   "id": "94e96af2-f2d2-443a-bd07-f7d4bd6d3f5b",
   "metadata": {},
   "outputs": [
    {
     "name": "stdout",
     "output_type": "stream",
     "text": [
      "0\n",
      "1\n",
      "1\n",
      "2\n",
      "3\n",
      "5\n",
      "8\n",
      "13\n",
      "21\n",
      "34\n"
     ]
    }
   ],
   "source": [
    "for i in ts2(10):\n",
    "    print(i)"
   ]
  },
  {
   "cell_type": "code",
   "execution_count": 84,
   "id": "040c8961-0ca5-4442-94e9-022cc907727d",
   "metadata": {},
   "outputs": [
    {
     "name": "stdout",
     "output_type": "stream",
     "text": [
      "0\n",
      "1\n",
      "2\n",
      "3\n",
      "4\n",
      "5\n",
      "6\n",
      "7\n",
      "8\n",
      "9\n",
      "10\n",
      "11\n",
      "12\n",
      "13\n",
      "14\n",
      "15\n",
      "16\n",
      "17\n",
      "18\n",
      "19\n",
      "20\n",
      "21\n",
      "22\n",
      "23\n",
      "24\n",
      "25\n",
      "26\n",
      "27\n",
      "28\n",
      "29\n",
      "30\n",
      "31\n",
      "32\n",
      "33\n",
      "34\n",
      "35\n",
      "36\n",
      "37\n",
      "38\n",
      "39\n",
      "40\n",
      "41\n",
      "42\n",
      "43\n",
      "44\n",
      "45\n",
      "46\n",
      "47\n",
      "48\n",
      "49\n",
      "50\n",
      "51\n",
      "52\n",
      "53\n",
      "54\n",
      "55\n",
      "56\n",
      "57\n",
      "58\n",
      "59\n",
      "60\n",
      "61\n",
      "62\n",
      "63\n",
      "64\n",
      "65\n",
      "66\n",
      "67\n",
      "68\n",
      "69\n",
      "70\n",
      "71\n",
      "72\n",
      "73\n",
      "74\n",
      "75\n",
      "76\n",
      "77\n",
      "78\n",
      "79\n",
      "80\n",
      "81\n",
      "82\n",
      "83\n",
      "84\n",
      "85\n",
      "86\n",
      "87\n",
      "88\n",
      "89\n",
      "90\n",
      "91\n",
      "92\n",
      "93\n",
      "94\n",
      "95\n",
      "96\n",
      "97\n",
      "98\n",
      "99\n"
     ]
    }
   ],
   "source": [
    "for i in range(100):\n",
    "    print(i)"
   ]
  },
  {
   "cell_type": "code",
   "execution_count": null,
   "id": "5432f2e4-05f9-4663-8a16-4209c0d5258c",
   "metadata": {},
   "outputs": [],
   "source": []
  }
 ],
 "metadata": {
  "kernelspec": {
   "display_name": "Python 3 (ipykernel)",
   "language": "python",
   "name": "python3"
  },
  "language_info": {
   "codemirror_mode": {
    "name": "ipython",
    "version": 3
   },
   "file_extension": ".py",
   "mimetype": "text/x-python",
   "name": "python",
   "nbconvert_exporter": "python",
   "pygments_lexer": "ipython3",
   "version": "3.10.8"
  }
 },
 "nbformat": 4,
 "nbformat_minor": 5
}
