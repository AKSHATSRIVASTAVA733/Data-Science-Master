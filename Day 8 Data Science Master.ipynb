{
 "cells": [
  {
   "cell_type": "markdown",
   "id": "78e5e1cb-4461-4344-9db8-1d52f282f5af",
   "metadata": {},
   "source": [
    "# OOPS"
   ]
  },
  {
   "cell_type": "code",
   "execution_count": 1,
   "id": "87016485-2e17-4f39-9006-62d1f5adc13a",
   "metadata": {},
   "outputs": [],
   "source": [
    "a=1"
   ]
  },
  {
   "cell_type": "code",
   "execution_count": 2,
   "id": "22523ebf-0a28-4e07-98e0-5d9ded3d6e18",
   "metadata": {},
   "outputs": [
    {
     "name": "stdout",
     "output_type": "stream",
     "text": [
      "<class 'int'>\n"
     ]
    }
   ],
   "source": [
    "print(type(a))"
   ]
  },
  {
   "cell_type": "code",
   "execution_count": 3,
   "id": "2500d1e8-67fb-430f-b5dc-5fb5fffae30d",
   "metadata": {},
   "outputs": [
    {
     "name": "stdout",
     "output_type": "stream",
     "text": [
      "<class 'str'>\n"
     ]
    }
   ],
   "source": [
    "print(type(\"Akshat\"))"
   ]
  },
  {
   "cell_type": "code",
   "execution_count": 5,
   "id": "5d57bae4-8fbf-454c-abb8-79b039c32775",
   "metadata": {},
   "outputs": [],
   "source": [
    "class test:\n",
    "    pass\n"
   ]
  },
  {
   "cell_type": "code",
   "execution_count": 6,
   "id": "bf34b35a-ef39-4065-b315-b6509f89dbab",
   "metadata": {},
   "outputs": [],
   "source": [
    "a=test()"
   ]
  },
  {
   "cell_type": "code",
   "execution_count": 7,
   "id": "65e1383a-331a-4f90-87f6-0feef0925345",
   "metadata": {},
   "outputs": [
    {
     "name": "stdout",
     "output_type": "stream",
     "text": [
      "<class '__main__.test'>\n"
     ]
    }
   ],
   "source": [
    "print(type(a))"
   ]
  },
  {
   "cell_type": "code",
   "execution_count": 12,
   "id": "6dfe1bb6-b118-48dd-82ff-d4b80dcc39de",
   "metadata": {},
   "outputs": [],
   "source": [
    "class akshat:\n",
    "    def srivastava(self):\n",
    "        print(\"Akshat is the best coder\")"
   ]
  },
  {
   "cell_type": "code",
   "execution_count": 13,
   "id": "2577486e-0435-433f-bb70-7ada57edd5e1",
   "metadata": {},
   "outputs": [],
   "source": [
    "prabhat=akshat()"
   ]
  },
  {
   "cell_type": "code",
   "execution_count": 14,
   "id": "47716514-2cf6-4095-be1a-877d8770863f",
   "metadata": {},
   "outputs": [
    {
     "name": "stdout",
     "output_type": "stream",
     "text": [
      "Akshat is the best coder\n"
     ]
    }
   ],
   "source": [
    "prabhat.srivastava()"
   ]
  },
  {
   "cell_type": "code",
   "execution_count": 15,
   "id": "84e96f33-e956-448f-aeee-3fa28302a9f5",
   "metadata": {},
   "outputs": [],
   "source": [
    "Ayushi=akshat()"
   ]
  },
  {
   "cell_type": "code",
   "execution_count": 16,
   "id": "2f5bcb7e-7c2b-4c08-a2c5-d6546a891aeb",
   "metadata": {},
   "outputs": [
    {
     "name": "stdout",
     "output_type": "stream",
     "text": [
      "Akshat is the best coder\n"
     ]
    }
   ],
   "source": [
    "Ayushi.srivastava()"
   ]
  },
  {
   "cell_type": "code",
   "execution_count": 2,
   "id": "003b453c-11ff-4fae-9938-c837c5e665fb",
   "metadata": {},
   "outputs": [],
   "source": [
    "a=1\n",
    "b=2"
   ]
  },
  {
   "cell_type": "code",
   "execution_count": 3,
   "id": "a47b6b89-719a-4c67-8376-c7edee6f3b0c",
   "metadata": {},
   "outputs": [
    {
     "data": {
      "text/plain": [
       "1"
      ]
     },
     "execution_count": 3,
     "metadata": {},
     "output_type": "execute_result"
    }
   ],
   "source": [
    "a"
   ]
  },
  {
   "cell_type": "code",
   "execution_count": 4,
   "id": "df904d26-d271-43d2-903a-01a389e7925d",
   "metadata": {},
   "outputs": [
    {
     "data": {
      "text/plain": [
       "2"
      ]
     },
     "execution_count": 4,
     "metadata": {},
     "output_type": "execute_result"
    }
   ],
   "source": [
    "b"
   ]
  },
  {
   "cell_type": "code",
   "execution_count": 31,
   "id": "5d212561-6303-45ba-983f-992527f01d71",
   "metadata": {},
   "outputs": [],
   "source": [
    "class Akshat:\n",
    "    def _init_(ram ,phone_number ,Email_id ,Student_id):\n",
    "        ram.phone_number = phone_number\n",
    "        ram.Email_id = Email_id\n",
    "        ram.Student_id = Student_id\n",
    "    def return_student_details(ram):\n",
    "        return ram.phone_number, ram.Email_id, ram.Student_id"
   ]
  },
  {
   "cell_type": "code",
   "execution_count": 34,
   "id": "8e244132-4a37-4f82-8a1e-34ef0a7e2cd0",
   "metadata": {},
   "outputs": [],
   "source": [
    "prabhu = Akshat()"
   ]
  },
  {
   "cell_type": "code",
   "execution_count": 36,
   "id": "23c1aba8-b70c-4168-b1d9-f3010ef52ad6",
   "metadata": {},
   "outputs": [
    {
     "ename": "TypeError",
     "evalue": "Akshat() takes no arguments",
     "output_type": "error",
     "traceback": [
      "\u001b[0;31m---------------------------------------------------------------------------\u001b[0m",
      "\u001b[0;31mTypeError\u001b[0m                                 Traceback (most recent call last)",
      "Cell \u001b[0;32mIn[36], line 1\u001b[0m\n\u001b[0;32m----> 1\u001b[0m prabhu \u001b[38;5;241m=\u001b[39m \u001b[43mAkshat\u001b[49m\u001b[43m(\u001b[49m\u001b[38;5;241;43m7355746972\u001b[39;49m\u001b[43m,\u001b[49m\u001b[38;5;124;43m\"\u001b[39;49m\u001b[38;5;124;43msrivastavaakshat686@gmail.com\u001b[39;49m\u001b[38;5;124;43m\"\u001b[39;49m\u001b[43m,\u001b[49m\u001b[38;5;241;43m200105001\u001b[39;49m\u001b[43m)\u001b[49m\n",
      "\u001b[0;31mTypeError\u001b[0m: Akshat() takes no arguments"
     ]
    }
   ],
   "source": [
    "prabhu = Akshat(7355746972,\"srivastavaakshat686@gmail.com\",200105001)"
   ]
  },
  {
   "cell_type": "code",
   "execution_count": 30,
   "id": "f4ecf404-0130-423d-90da-5337e51b0ffb",
   "metadata": {},
   "outputs": [
    {
     "ename": "NameError",
     "evalue": "name 'prabhat' is not defined",
     "output_type": "error",
     "traceback": [
      "\u001b[0;31m---------------------------------------------------------------------------\u001b[0m",
      "\u001b[0;31mNameError\u001b[0m                                 Traceback (most recent call last)",
      "Cell \u001b[0;32mIn[30], line 1\u001b[0m\n\u001b[0;32m----> 1\u001b[0m \u001b[43mprabhat\u001b[49m\u001b[38;5;241m.\u001b[39mphone_number\n",
      "\u001b[0;31mNameError\u001b[0m: name 'prabhat' is not defined"
     ]
    }
   ],
   "source": [
    "prabhat.phone_number"
   ]
  },
  {
   "cell_type": "code",
   "execution_count": null,
   "id": "13b36041-71aa-4615-8891-ef593c919f8e",
   "metadata": {},
   "outputs": [],
   "source": []
  }
 ],
 "metadata": {
  "kernelspec": {
   "display_name": "Python 3 (ipykernel)",
   "language": "python",
   "name": "python3"
  },
  "language_info": {
   "codemirror_mode": {
    "name": "ipython",
    "version": 3
   },
   "file_extension": ".py",
   "mimetype": "text/x-python",
   "name": "python",
   "nbconvert_exporter": "python",
   "pygments_lexer": "ipython3",
   "version": "3.10.8"
  }
 },
 "nbformat": 4,
 "nbformat_minor": 5
}
