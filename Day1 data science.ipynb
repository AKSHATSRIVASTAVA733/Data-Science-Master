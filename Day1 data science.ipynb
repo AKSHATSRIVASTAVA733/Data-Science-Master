{
 "cells": [
  {
   "cell_type": "code",
   "execution_count": 2,
   "id": "d9fa5023-3885-43d7-84aa-47b0cd699fb8",
   "metadata": {},
   "outputs": [
    {
     "data": {
      "text/plain": [
       "2"
      ]
     },
     "execution_count": 2,
     "metadata": {},
     "output_type": "execute_result"
    }
   ],
   "source": [
    "1+1"
   ]
  },
  {
   "cell_type": "markdown",
   "id": "abe10c57-f532-4659-9b13-e2956ac831df",
   "metadata": {},
   "source": [
    "### NUMBERS"
   ]
  },
  {
   "cell_type": "code",
   "execution_count": 3,
   "id": "81d86590-1730-4468-946d-5950a1afa8e5",
   "metadata": {},
   "outputs": [
    {
     "data": {
      "text/plain": [
       "4"
      ]
     },
     "execution_count": 3,
     "metadata": {},
     "output_type": "execute_result"
    }
   ],
   "source": [
    "1+3"
   ]
  },
  {
   "cell_type": "code",
   "execution_count": 4,
   "id": "e3b53c13-6bdb-4300-99c6-9c4692c6a2f7",
   "metadata": {},
   "outputs": [
    {
     "name": "stdout",
     "output_type": "stream",
     "text": [
      "4\n"
     ]
    }
   ],
   "source": [
    "print(1+3)"
   ]
  },
  {
   "cell_type": "code",
   "execution_count": 5,
   "id": "4efaa3ba-8d3a-4180-97b1-98e7651c1a67",
   "metadata": {},
   "outputs": [
    {
     "name": "stdout",
     "output_type": "stream",
     "text": [
      "hello world\n"
     ]
    }
   ],
   "source": [
    "print(\"hello world\")"
   ]
  },
  {
   "cell_type": "code",
   "execution_count": 6,
   "id": "98dde164-9c91-4605-b68d-3b29455206c3",
   "metadata": {},
   "outputs": [
    {
     "name": "stdout",
     "output_type": "stream",
     "text": [
      "Akshat \n",
      " Srivastava\n"
     ]
    }
   ],
   "source": [
    "print(\"Akshat \\n Srivastava\")"
   ]
  },
  {
   "cell_type": "markdown",
   "id": "54f09aea-f07e-42f6-8656-d0985346d920",
   "metadata": {},
   "source": [
    "### VARIABLE ASSIGNMENT"
   ]
  },
  {
   "cell_type": "code",
   "execution_count": 8,
   "id": "c9d69ed2-12dd-4ec6-b364-399af303dd37",
   "metadata": {},
   "outputs": [],
   "source": [
    "name = \"Akshat Srivastava \""
   ]
  },
  {
   "cell_type": "code",
   "execution_count": 9,
   "id": "b56b4206-ddd8-4782-9d19-82843c71157e",
   "metadata": {},
   "outputs": [],
   "source": [
    "number = 17"
   ]
  },
  {
   "cell_type": "code",
   "execution_count": 10,
   "id": "e2e71e2a-0408-4e5e-bb9a-47b639f6395b",
   "metadata": {},
   "outputs": [
    {
     "data": {
      "text/plain": [
       "str"
      ]
     },
     "execution_count": 10,
     "metadata": {},
     "output_type": "execute_result"
    }
   ],
   "source": [
    "type(\"\")"
   ]
  },
  {
   "cell_type": "code",
   "execution_count": 11,
   "id": "625bcaf9-cfce-4df2-a847-4922e271fb53",
   "metadata": {},
   "outputs": [
    {
     "data": {
      "text/plain": [
       "str"
      ]
     },
     "execution_count": 11,
     "metadata": {},
     "output_type": "execute_result"
    }
   ],
   "source": [
    "type(name)"
   ]
  },
  {
   "cell_type": "code",
   "execution_count": 12,
   "id": "06a3d630-c09e-4717-bd3b-331ea5367222",
   "metadata": {},
   "outputs": [
    {
     "data": {
      "text/plain": [
       "int"
      ]
     },
     "execution_count": 12,
     "metadata": {},
     "output_type": "execute_result"
    }
   ],
   "source": [
    "type(number)"
   ]
  },
  {
   "cell_type": "code",
   "execution_count": 13,
   "id": "248f09e1-28fc-466f-99d7-a039e4e95394",
   "metadata": {},
   "outputs": [],
   "source": [
    "decimal_num=2.5"
   ]
  },
  {
   "cell_type": "code",
   "execution_count": 14,
   "id": "15f18689-4fe8-437a-a89e-c88a097eae31",
   "metadata": {},
   "outputs": [
    {
     "data": {
      "text/plain": [
       "float"
      ]
     },
     "execution_count": 14,
     "metadata": {},
     "output_type": "execute_result"
    }
   ],
   "source": [
    "type(decimal_num)"
   ]
  },
  {
   "cell_type": "code",
   "execution_count": 15,
   "id": "0980ef5a-787c-46f8-8a8b-bf406d67738e",
   "metadata": {},
   "outputs": [
    {
     "data": {
      "text/plain": [
       "complex"
      ]
     },
     "execution_count": 15,
     "metadata": {},
     "output_type": "execute_result"
    }
   ],
   "source": [
    "type(1+2j)"
   ]
  },
  {
   "cell_type": "markdown",
   "id": "5d8d1d6b-80d5-455f-b349-91bf35e3d874",
   "metadata": {},
   "source": [
    "### BOOLEAN"
   ]
  },
  {
   "cell_type": "code",
   "execution_count": 16,
   "id": "f1a0a42b-835f-4abf-87d4-3832a958b74f",
   "metadata": {},
   "outputs": [
    {
     "data": {
      "text/plain": [
       "False"
      ]
     },
     "execution_count": 16,
     "metadata": {},
     "output_type": "execute_result"
    }
   ],
   "source": [
    "True and False"
   ]
  },
  {
   "cell_type": "code",
   "execution_count": 17,
   "id": "7942bbdb-c7e4-4e05-a8d6-ffc3c9046a8d",
   "metadata": {},
   "outputs": [
    {
     "data": {
      "text/plain": [
       "True"
      ]
     },
     "execution_count": 17,
     "metadata": {},
     "output_type": "execute_result"
    }
   ],
   "source": [
    "True or False"
   ]
  },
  {
   "cell_type": "code",
   "execution_count": 19,
   "id": "ed87807e-5a95-4953-9aa3-42d54f747f2e",
   "metadata": {},
   "outputs": [
    {
     "data": {
      "text/plain": [
       "True"
      ]
     },
     "execution_count": 19,
     "metadata": {},
     "output_type": "execute_result"
    }
   ],
   "source": [
    "not False"
   ]
  },
  {
   "cell_type": "code",
   "execution_count": 19,
   "id": "e628b140-55e2-4b1a-9f75-35c45fbd94a5",
   "metadata": {},
   "outputs": [
    {
     "data": {
      "text/plain": [
       "True"
      ]
     },
     "execution_count": 19,
     "metadata": {},
     "output_type": "execute_result"
    }
   ],
   "source": [
    "not False"
   ]
  },
  {
   "cell_type": "code",
   "execution_count": 20,
   "id": "080a4e1f-42ae-496a-b1b8-6c6b407c58a1",
   "metadata": {},
   "outputs": [
    {
     "data": {
      "text/plain": [
       "bool"
      ]
     },
     "execution_count": 20,
     "metadata": {},
     "output_type": "execute_result"
    }
   ],
   "source": [
    "type(not False)"
   ]
  },
  {
   "cell_type": "code",
   "execution_count": 21,
   "id": "c9b5d87e-4a98-4d71-a5c3-0242348ea7f9",
   "metadata": {},
   "outputs": [
    {
     "data": {
      "text/plain": [
       "True"
      ]
     },
     "execution_count": 21,
     "metadata": {},
     "output_type": "execute_result"
    }
   ],
   "source": [
    "bool(1)"
   ]
  },
  {
   "cell_type": "code",
   "execution_count": 22,
   "id": "bc7a54a9-70f6-40ed-9e6a-7c2822f02447",
   "metadata": {},
   "outputs": [
    {
     "data": {
      "text/plain": [
       "True"
      ]
     },
     "execution_count": 22,
     "metadata": {},
     "output_type": "execute_result"
    }
   ],
   "source": [
    "bool(2)"
   ]
  },
  {
   "cell_type": "code",
   "execution_count": 23,
   "id": "febe1eb0-9bb3-4786-ac59-60f7f075ebb0",
   "metadata": {},
   "outputs": [
    {
     "name": "stdout",
     "output_type": "stream",
     "text": [
      "True\n"
     ]
    }
   ],
   "source": [
    "a=1\n",
    "if bool(a)==True:\n",
    "    print(\"True\")"
   ]
  },
  {
   "cell_type": "code",
   "execution_count": 24,
   "id": "e5c74af0-eaaf-448f-8c0a-9268b09abd8d",
   "metadata": {},
   "outputs": [
    {
     "data": {
      "text/plain": [
       "True"
      ]
     },
     "execution_count": 24,
     "metadata": {},
     "output_type": "execute_result"
    }
   ],
   "source": [
    "bool(a)"
   ]
  },
  {
   "cell_type": "code",
   "execution_count": 25,
   "id": "027c2cf7-edeb-4fe2-8a14-0a356750ed88",
   "metadata": {},
   "outputs": [
    {
     "data": {
      "text/plain": [
       "True"
      ]
     },
     "execution_count": 25,
     "metadata": {},
     "output_type": "execute_result"
    }
   ],
   "source": [
    "bool(1)"
   ]
  },
  {
   "cell_type": "code",
   "execution_count": 26,
   "id": "85ab85da-26f6-4ac4-a756-34e792328f5d",
   "metadata": {},
   "outputs": [
    {
     "data": {
      "text/plain": [
       "False"
      ]
     },
     "execution_count": 26,
     "metadata": {},
     "output_type": "execute_result"
    }
   ],
   "source": [
    "bool(0)"
   ]
  },
  {
   "cell_type": "code",
   "execution_count": 27,
   "id": "aaf6e367-45e8-4eda-bd98-b70becdb53a3",
   "metadata": {},
   "outputs": [
    {
     "data": {
      "text/plain": [
       "'23'"
      ]
     },
     "execution_count": 27,
     "metadata": {},
     "output_type": "execute_result"
    }
   ],
   "source": [
    "##Typecasting\n",
    "str(23)"
   ]
  },
  {
   "cell_type": "code",
   "execution_count": 28,
   "id": "4753a1f6-c6a4-4193-a482-9bb93cdfdfd1",
   "metadata": {},
   "outputs": [
    {
     "data": {
      "text/plain": [
       "str"
      ]
     },
     "execution_count": 28,
     "metadata": {},
     "output_type": "execute_result"
    }
   ],
   "source": [
    "type(str(23))"
   ]
  },
  {
   "cell_type": "code",
   "execution_count": 29,
   "id": "74a665a0-1c26-4526-a0d8-919b4a131739",
   "metadata": {},
   "outputs": [
    {
     "data": {
      "text/plain": [
       "23"
      ]
     },
     "execution_count": 29,
     "metadata": {},
     "output_type": "execute_result"
    }
   ],
   "source": [
    "int(23)\n"
   ]
  },
  {
   "cell_type": "code",
   "execution_count": 30,
   "id": "82677d81-1152-4d04-8240-297dc05d9ac7",
   "metadata": {},
   "outputs": [
    {
     "data": {
      "text/plain": [
       "int"
      ]
     },
     "execution_count": 30,
     "metadata": {},
     "output_type": "execute_result"
    }
   ],
   "source": [
    "type(int(23))"
   ]
  },
  {
   "cell_type": "markdown",
   "id": "0fb05575-c210-4451-a88a-c53780f51e99",
   "metadata": {},
   "source": [
    "## Dynamic Typing"
   ]
  },
  {
   "cell_type": "code",
   "execution_count": 31,
   "id": "d5c45bb1-5bdc-405b-b7fd-e1b6e63d985c",
   "metadata": {},
   "outputs": [],
   "source": [
    "a=12\n",
    "str1=\"Akshat\"\n",
    "a=\"var\""
   ]
  },
  {
   "cell_type": "code",
   "execution_count": 32,
   "id": "1010e9f5-ce46-4307-9962-c04167bf207c",
   "metadata": {},
   "outputs": [
    {
     "name": "stdout",
     "output_type": "stream",
     "text": [
      "<class 'str'>\n"
     ]
    }
   ],
   "source": [
    "print(type(a))"
   ]
  },
  {
   "cell_type": "code",
   "execution_count": 33,
   "id": "bf5e3ac7-548b-474d-8bf1-792c4c8e7390",
   "metadata": {},
   "outputs": [
    {
     "data": {
      "text/plain": [
       "1"
      ]
     },
     "execution_count": 33,
     "metadata": {},
     "output_type": "execute_result"
    }
   ],
   "source": [
    "int(1.54)"
   ]
  },
  {
   "cell_type": "markdown",
   "id": "68abe49b-8c94-46c8-8d75-667ae747c827",
   "metadata": {},
   "source": [
    "## concatenation betwwen different typer"
   ]
  },
  {
   "cell_type": "code",
   "execution_count": 34,
   "id": "343c8697-8810-4783-a03e-5ac308c4eecd",
   "metadata": {},
   "outputs": [
    {
     "data": {
      "text/plain": [
       "'11'"
      ]
     },
     "execution_count": 34,
     "metadata": {},
     "output_type": "execute_result"
    }
   ],
   "source": [
    "\"1\"+\"1\""
   ]
  },
  {
   "cell_type": "code",
   "execution_count": 35,
   "id": "01ac2852-399d-4388-bd94-cd37ff798ec5",
   "metadata": {},
   "outputs": [
    {
     "data": {
      "text/plain": [
       "'1111111111111111111111111111111111111111111111111111111111111111111111111111111111111111111111111111'"
      ]
     },
     "execution_count": 35,
     "metadata": {},
     "output_type": "execute_result"
    }
   ],
   "source": [
    "\"1\"*100"
   ]
  },
  {
   "cell_type": "code",
   "execution_count": null,
   "id": "c191e2fe-2415-4460-98d8-8d3f43c5ece7",
   "metadata": {},
   "outputs": [],
   "source": []
  }
 ],
 "metadata": {
  "kernelspec": {
   "display_name": "Python 3 (ipykernel)",
   "language": "python",
   "name": "python3"
  },
  "language_info": {
   "codemirror_mode": {
    "name": "ipython",
    "version": 3
   },
   "file_extension": ".py",
   "mimetype": "text/x-python",
   "name": "python",
   "nbconvert_exporter": "python",
   "pygments_lexer": "ipython3",
   "version": "3.10.8"
  }
 },
 "nbformat": 4,
 "nbformat_minor": 5
}
