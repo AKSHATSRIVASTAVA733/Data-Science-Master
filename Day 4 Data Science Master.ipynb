{
 "cells": [
  {
   "cell_type": "code",
   "execution_count": 1,
   "id": "fe8e7c27-e322-4427-bbce-8bd8c2408525",
   "metadata": {},
   "outputs": [
    {
     "name": "stdout",
     "output_type": "stream",
     "text": [
      "Everything is OK\n"
     ]
    }
   ],
   "source": [
    "print(\"Everything is OK\")"
   ]
  },
  {
   "cell_type": "code",
   "execution_count": 2,
   "id": "a5ca8d7d-b958-457e-981f-d564a386dedf",
   "metadata": {},
   "outputs": [],
   "source": [
    "name=\"data Science Case\""
   ]
  },
  {
   "cell_type": "code",
   "execution_count": 4,
   "id": "83085a76-519a-4f1e-bd0c-50bdc0ad08ed",
   "metadata": {},
   "outputs": [
    {
     "data": {
      "text/plain": [
       "'DATA sCIENCE cASE'"
      ]
     },
     "execution_count": 4,
     "metadata": {},
     "output_type": "execute_result"
    }
   ],
   "source": [
    "name.swapcase()"
   ]
  },
  {
   "cell_type": "code",
   "execution_count": 6,
   "id": "a246033d-5799-4913-89b9-cc9578e3b196",
   "metadata": {},
   "outputs": [
    {
     "data": {
      "text/plain": [
       "'Data science case'"
      ]
     },
     "execution_count": 6,
     "metadata": {},
     "output_type": "execute_result"
    }
   ],
   "source": [
    "name.capitalize()"
   ]
  },
  {
   "cell_type": "markdown",
   "id": "53145074-c21a-41b5-be81-dbfac94837e5",
   "metadata": {},
   "source": [
    "### Reversing the string"
   ]
  },
  {
   "cell_type": "code",
   "execution_count": 7,
   "id": "547b2f61-6d12-4047-bd30-8fffd9169f8a",
   "metadata": {},
   "outputs": [
    {
     "data": {
      "text/plain": [
       "<reversed at 0x7f9b3c702b30>"
      ]
     },
     "execution_count": 7,
     "metadata": {},
     "output_type": "execute_result"
    }
   ],
   "source": [
    "reversed(name)"
   ]
  },
  {
   "cell_type": "code",
   "execution_count": 8,
   "id": "91c8145d-c585-407f-b583-17f22648a6f9",
   "metadata": {},
   "outputs": [
    {
     "data": {
      "text/plain": [
       "'e s a C   e c n e i c S   a t a d'"
      ]
     },
     "execution_count": 8,
     "metadata": {},
     "output_type": "execute_result"
    }
   ],
   "source": [
    "' '.join(reversed(name))"
   ]
  },
  {
   "cell_type": "code",
   "execution_count": 9,
   "id": "15f55629-326b-4bce-958a-db059190723a",
   "metadata": {},
   "outputs": [
    {
     "data": {
      "text/plain": [
       "'sAkshatrAkshatiAkshatvAkshataAkshatsAkshattAkshataAkshatvAkshata'"
      ]
     },
     "execution_count": 9,
     "metadata": {},
     "output_type": "execute_result"
    }
   ],
   "source": [
    "\"Akshat\".join(\"srivastava\")"
   ]
  },
  {
   "cell_type": "code",
   "execution_count": 10,
   "id": "d38cae01-365b-4f42-8d07-90325ec9ed93",
   "metadata": {},
   "outputs": [
    {
     "data": {
      "text/plain": [
       "'a b c d'"
      ]
     },
     "execution_count": 10,
     "metadata": {},
     "output_type": "execute_result"
    }
   ],
   "source": [
    "\" \".join(\"abcd\")"
   ]
  },
  {
   "cell_type": "code",
   "execution_count": 11,
   "id": "072283db-be85-4ce5-a05f-a327234afa58",
   "metadata": {},
   "outputs": [
    {
     "data": {
      "text/plain": [
       "'p r a b h u'"
      ]
     },
     "execution_count": 11,
     "metadata": {},
     "output_type": "execute_result"
    }
   ],
   "source": [
    "' '.join(\"prabhu\")"
   ]
  },
  {
   "cell_type": "code",
   "execution_count": 12,
   "id": "e7897143-1e15-4829-abcb-e68e9c121137",
   "metadata": {},
   "outputs": [
    {
     "data": {
      "text/plain": [
       "'t a h s k a'"
      ]
     },
     "execution_count": 12,
     "metadata": {},
     "output_type": "execute_result"
    }
   ],
   "source": [
    "' '.join(reversed(\"akshat\"))"
   ]
  },
  {
   "cell_type": "code",
   "execution_count": 13,
   "id": "570dfc6a-7119-4c20-9c4b-970887c7cd72",
   "metadata": {},
   "outputs": [
    {
     "data": {
      "text/plain": [
       "'tahska'"
      ]
     },
     "execution_count": 13,
     "metadata": {},
     "output_type": "execute_result"
    }
   ],
   "source": [
    "''.join(reversed(\"akshat\"))"
   ]
  },
  {
   "cell_type": "code",
   "execution_count": 14,
   "id": "76eda135-d21e-4410-9f73-8bdaaee2799e",
   "metadata": {},
   "outputs": [
    {
     "data": {
      "text/plain": [
       "['t', 'a', 'h', 's', 'k', 'a']"
      ]
     },
     "execution_count": 14,
     "metadata": {},
     "output_type": "execute_result"
    }
   ],
   "source": [
    "list(reversed(\"akshat\"))"
   ]
  },
  {
   "cell_type": "code",
   "execution_count": 18,
   "id": "69c802c0-f328-496f-9523-49058a8a0296",
   "metadata": {},
   "outputs": [
    {
     "data": {
      "text/plain": [
       "<reversed at 0x7f9b3c757ca0>"
      ]
     },
     "execution_count": 18,
     "metadata": {},
     "output_type": "execute_result"
    }
   ],
   "source": [
    "(reversed(\"akshat\"))"
   ]
  },
  {
   "cell_type": "code",
   "execution_count": 19,
   "id": "5f220b38-5bf4-47de-9199-90b3da2dc5cc",
   "metadata": {},
   "outputs": [
    {
     "name": "stdout",
     "output_type": "stream",
     "text": [
      "esaC ecneicS atad"
     ]
    }
   ],
   "source": [
    "for i in list(reversed(name)):\n",
    "    print(i,end='')"
   ]
  },
  {
   "cell_type": "code",
   "execution_count": 30,
   "id": "5bb1373f-e870-4942-adcb-562d42589963",
   "metadata": {},
   "outputs": [],
   "source": [
    "name = \" akshat \""
   ]
  },
  {
   "cell_type": "code",
   "execution_count": 31,
   "id": "33393b5d-247f-4bcf-bd9a-0439d5978a64",
   "metadata": {},
   "outputs": [
    {
     "data": {
      "text/plain": [
       "'akshat'"
      ]
     },
     "execution_count": 31,
     "metadata": {},
     "output_type": "execute_result"
    }
   ],
   "source": [
    "name.strip(\" \")"
   ]
  },
  {
   "cell_type": "code",
   "execution_count": 32,
   "id": "b4d85553-07ad-4c6b-a219-b2b1420b64a4",
   "metadata": {},
   "outputs": [
    {
     "data": {
      "text/plain": [
       "'akshat '"
      ]
     },
     "execution_count": 32,
     "metadata": {},
     "output_type": "execute_result"
    }
   ],
   "source": [
    "name.lstrip(\" \")"
   ]
  },
  {
   "cell_type": "raw",
   "id": "f7110611-358b-4666-8d9f-d28ec484302a",
   "metadata": {},
   "source": [
    "name.rstrip(\" \")"
   ]
  },
  {
   "cell_type": "code",
   "execution_count": 33,
   "id": "ae84bd79-5fc3-4123-b791-2a5d7aa798b8",
   "metadata": {},
   "outputs": [
    {
     "data": {
      "text/plain": [
       "' akshat'"
      ]
     },
     "execution_count": 33,
     "metadata": {},
     "output_type": "execute_result"
    }
   ],
   "source": [
    "name.rstrip(\" \")"
   ]
  },
  {
   "cell_type": "code",
   "execution_count": 35,
   "id": "d621ae0f-1ca6-4c06-ba3c-5d2a06b4880b",
   "metadata": {},
   "outputs": [],
   "source": [
    "name=\"Akshat Srivastava\""
   ]
  },
  {
   "cell_type": "code",
   "execution_count": 36,
   "id": "73560a12-30db-4a55-ac2b-ee8a5597f2ae",
   "metadata": {},
   "outputs": [
    {
     "data": {
      "text/plain": [
       "'Akshat Zaidi'"
      ]
     },
     "execution_count": 36,
     "metadata": {},
     "output_type": "execute_result"
    }
   ],
   "source": [
    "name.replace(\"Srivastava\",\"Zaidi\")"
   ]
  },
  {
   "cell_type": "code",
   "execution_count": 37,
   "id": "8cb35a21-95c3-4f76-94d9-f5e8dc0c2b5d",
   "metadata": {},
   "outputs": [
    {
     "data": {
      "text/plain": [
       "'AkshAt SrivAstAvA'"
      ]
     },
     "execution_count": 37,
     "metadata": {},
     "output_type": "execute_result"
    }
   ],
   "source": [
    "name.replace(\"a\",\"A\")"
   ]
  },
  {
   "cell_type": "code",
   "execution_count": 38,
   "id": "190e812e-2404-419e-a35f-87f323b0f794",
   "metadata": {},
   "outputs": [
    {
     "data": {
      "text/plain": [
       "'Aksh t Sriv st v '"
      ]
     },
     "execution_count": 38,
     "metadata": {},
     "output_type": "execute_result"
    }
   ],
   "source": [
    "name.replace(\"a\",\" \")"
   ]
  },
  {
   "cell_type": "code",
   "execution_count": 39,
   "id": "e8c998fa-150f-4b59-a8a2-640606b49eaa",
   "metadata": {},
   "outputs": [
    {
     "name": "stdout",
     "output_type": "stream",
     "text": [
      "Akshat\n",
      "Srivastava\n"
     ]
    }
   ],
   "source": [
    "print(\"Akshat\\nSrivastava\")"
   ]
  },
  {
   "cell_type": "code",
   "execution_count": 40,
   "id": "fd2fae9f-af3f-4fcb-999a-c6d3d319b3f8",
   "metadata": {},
   "outputs": [
    {
     "data": {
      "text/plain": [
       "'Akshat  Srivastava'"
      ]
     },
     "execution_count": 40,
     "metadata": {},
     "output_type": "execute_result"
    }
   ],
   "source": [
    "\"Akshat\\tSrivastava\".expandtabs()"
   ]
  },
  {
   "cell_type": "code",
   "execution_count": 41,
   "id": "7be97f98-1cdb-433d-82fe-115e79abbe19",
   "metadata": {},
   "outputs": [],
   "source": [
    "str1=\"Welcome to pwskills.Welcome to Dat cience Masters\""
   ]
  },
  {
   "cell_type": "code",
   "execution_count": 42,
   "id": "8a081347-b5ad-40c9-8e1d-e3f1c2f98996",
   "metadata": {},
   "outputs": [
    {
     "data": {
      "text/plain": [
       "'Welcome to pwskills.Welcome to Data Science Masters'"
      ]
     },
     "execution_count": 42,
     "metadata": {},
     "output_type": "execute_result"
    }
   ],
   "source": [
    "str1.replace(\"Dat\",\"Data\").replace(\"cience\",\"Science\")"
   ]
  },
  {
   "cell_type": "code",
   "execution_count": 43,
   "id": "8a1f5b7e-21c7-44eb-b0bb-63bf45e23175",
   "metadata": {},
   "outputs": [
    {
     "data": {
      "text/plain": [
       "'Welcome to pwskills.Welcome to Dat cience Masters'"
      ]
     },
     "execution_count": 43,
     "metadata": {},
     "output_type": "execute_result"
    }
   ],
   "source": [
    "str1"
   ]
  },
  {
   "cell_type": "code",
   "execution_count": 45,
   "id": "353f2219-7266-4914-89c2-4e16ab2449aa",
   "metadata": {},
   "outputs": [
    {
     "data": {
      "text/plain": [
       "False"
      ]
     },
     "execution_count": 45,
     "metadata": {},
     "output_type": "execute_result"
    }
   ],
   "source": [
    "str1.isupper()"
   ]
  },
  {
   "cell_type": "code",
   "execution_count": 46,
   "id": "014cef1a-66d1-4265-9236-93bd0c137fee",
   "metadata": {
    "tags": []
   },
   "outputs": [
    {
     "data": {
      "text/plain": [
       "False"
      ]
     },
     "execution_count": 46,
     "metadata": {},
     "output_type": "execute_result"
    }
   ],
   "source": [
    "str1.islower()"
   ]
  },
  {
   "cell_type": "code",
   "execution_count": 47,
   "id": "0af5ef70-e2a9-4c4b-89ab-1e03f6088931",
   "metadata": {},
   "outputs": [
    {
     "data": {
      "text/plain": [
       "False"
      ]
     },
     "execution_count": 47,
     "metadata": {},
     "output_type": "execute_result"
    }
   ],
   "source": [
    "str1.isspace()"
   ]
  },
  {
   "cell_type": "code",
   "execution_count": 48,
   "id": "9c52196f-641a-4586-8c21-b320aece0255",
   "metadata": {},
   "outputs": [
    {
     "data": {
      "text/plain": [
       "True"
      ]
     },
     "execution_count": 48,
     "metadata": {},
     "output_type": "execute_result"
    }
   ],
   "source": [
    "\" \".isspace()"
   ]
  },
  {
   "cell_type": "code",
   "execution_count": 51,
   "id": "92e5808d-681d-46a1-8714-1d680760e80c",
   "metadata": {},
   "outputs": [
    {
     "name": "stdout",
     "output_type": "stream",
     "text": [
      "Hello\n"
     ]
    }
   ],
   "source": [
    "if \" \".isspace():\n",
    "    print(\"Hello\")"
   ]
  },
  {
   "cell_type": "code",
   "execution_count": 52,
   "id": "4bc528c6-d685-4ed7-936c-a7250339bbd8",
   "metadata": {},
   "outputs": [],
   "source": [
    "str2=\"akshat\"\n"
   ]
  },
  {
   "cell_type": "code",
   "execution_count": 53,
   "id": "f8adb5a5-4f8b-48cb-a17a-3377b0489dcc",
   "metadata": {},
   "outputs": [
    {
     "data": {
      "text/plain": [
       "False"
      ]
     },
     "execution_count": 53,
     "metadata": {},
     "output_type": "execute_result"
    }
   ],
   "source": [
    "str2.endswith(\"s\")"
   ]
  },
  {
   "cell_type": "code",
   "execution_count": 54,
   "id": "7f6f4121-d97b-4596-a0f0-5716442c719d",
   "metadata": {},
   "outputs": [
    {
     "data": {
      "text/plain": [
       "True"
      ]
     },
     "execution_count": 54,
     "metadata": {},
     "output_type": "execute_result"
    }
   ],
   "source": [
    "str2.endswith(\"t\")"
   ]
  },
  {
   "cell_type": "code",
   "execution_count": 55,
   "id": "6eaf388b-b46c-4af4-af64-173c2b92cea0",
   "metadata": {},
   "outputs": [
    {
     "data": {
      "text/plain": [
       "True"
      ]
     },
     "execution_count": 55,
     "metadata": {},
     "output_type": "execute_result"
    }
   ],
   "source": [
    "str2.startswith(\"a\")"
   ]
  },
  {
   "cell_type": "code",
   "execution_count": 56,
   "id": "7c0f095c-af43-48da-84f8-44f3b412902d",
   "metadata": {},
   "outputs": [
    {
     "data": {
      "text/plain": [
       "True"
      ]
     },
     "execution_count": 56,
     "metadata": {},
     "output_type": "execute_result"
    }
   ],
   "source": [
    "## check if all th character in string are alphanumeric\n",
    "a=\"abcd1234\"\n",
    "a.isalnum()"
   ]
  },
  {
   "cell_type": "code",
   "execution_count": 58,
   "id": "22ab2d22-97aa-42b8-a4de-56fe81c968ed",
   "metadata": {},
   "outputs": [
    {
     "name": "stdout",
     "output_type": "stream",
     "text": [
      "49\n"
     ]
    }
   ],
   "source": [
    "## code to count the number of character in the strings\n",
    "count=0\n",
    "for i in str1:\n",
    "    count=count+1\n",
    "print(count)"
   ]
  },
  {
   "cell_type": "code",
   "execution_count": 59,
   "id": "2a48e2aa-8b27-45fb-8336-79dbdce49aa9",
   "metadata": {},
   "outputs": [
    {
     "data": {
      "text/plain": [
       "'Welcome to pwskills.Welcome to Dat cience Masters'"
      ]
     },
     "execution_count": 59,
     "metadata": {},
     "output_type": "execute_result"
    }
   ],
   "source": [
    "str1"
   ]
  },
  {
   "cell_type": "code",
   "execution_count": 60,
   "id": "4b7198da-19af-4b9d-834e-e66587facb63",
   "metadata": {},
   "outputs": [
    {
     "name": "stdout",
     "output_type": "stream",
     "text": [
      "a\n",
      "k\n",
      "s\n",
      "h\n",
      "a\n",
      "t\n"
     ]
    }
   ],
   "source": [
    "for i in str2:\n",
    "    print(i)"
   ]
  },
  {
   "cell_type": "code",
   "execution_count": 61,
   "id": "8e3573b3-cced-475d-a058-b9ff57f4a647",
   "metadata": {},
   "outputs": [
    {
     "name": "stdout",
     "output_type": "stream",
     "text": [
      "2\n"
     ]
    }
   ],
   "source": [
    "count=0\n",
    "for i in str1:\n",
    "    if i==\"a\":\n",
    "        count=count+1\n",
    "print(count)"
   ]
  },
  {
   "cell_type": "code",
   "execution_count": 62,
   "id": "253932f8-4087-403b-9906-6d8dbfed5f85",
   "metadata": {},
   "outputs": [
    {
     "name": "stdout",
     "output_type": "stream",
     "text": [
      "0 = a\n",
      "1 = k\n",
      "2 = s\n",
      "3 = h\n",
      "4 = a\n",
      "5 = t\n"
     ]
    }
   ],
   "source": [
    "for i in range(len(str2)):\n",
    "    print(i,\"=\",str2[i])"
   ]
  },
  {
   "cell_type": "code",
   "execution_count": 63,
   "id": "046d6a42-0e1a-41da-a2ce-700877b010cc",
   "metadata": {},
   "outputs": [
    {
     "name": "stdout",
     "output_type": "stream",
     "text": [
      "t\n",
      "a\n",
      "h\n",
      "s\n",
      "k\n",
      "a\n"
     ]
    }
   ],
   "source": [
    "# use index to iterate string in reverse direction\n",
    "for i in range(len(str2)-1,-1,-1):\n",
    "    print(str2[i])"
   ]
  },
  {
   "cell_type": "code",
   "execution_count": 64,
   "id": "547de768-14a7-410d-a466-b74c6e277e00",
   "metadata": {},
   "outputs": [
    {
     "name": "stdout",
     "output_type": "stream",
     "text": [
      "t\n",
      "h\n",
      "k\n"
     ]
    }
   ],
   "source": [
    "for i in range(len(str2)-1,-1,-2):\n",
    "    print(str2[i])"
   ]
  },
  {
   "cell_type": "code",
   "execution_count": 65,
   "id": "913e85d2-e5b5-4f0b-abe2-a13d0a16bec3",
   "metadata": {},
   "outputs": [
    {
     "name": "stdout",
     "output_type": "stream",
     "text": [
      "t\n",
      "a\n",
      "h\n",
      "s\n",
      "k\n",
      "A\n"
     ]
    }
   ],
   "source": [
    "string=\"Akshat\"\n",
    "ch=len(string)-1\n",
    "while ch>=0:\n",
    "    print(string[ch])\n",
    "    ch=ch-1"
   ]
  },
  {
   "cell_type": "code",
   "execution_count": 68,
   "id": "dcd36e29-d308-47b0-af22-8b4fdc0e9502",
   "metadata": {},
   "outputs": [
    {
     "name": "stdout",
     "output_type": "stream",
     "text": [
      "tahskA"
     ]
    }
   ],
   "source": [
    "string=\"Akshat\"\n",
    "ch=len(string)-1\n",
    "while ch>=0:\n",
    "    print(string[ch],end=\"\")\n",
    "    ch=ch-1"
   ]
  },
  {
   "cell_type": "code",
   "execution_count": 69,
   "id": "ad45cd9d-cee9-4d88-b0d7-523b4f9af835",
   "metadata": {},
   "outputs": [],
   "source": [
    "name=\"Akshat\"\n",
    "vowels=\"AaEeIiOoUu\""
   ]
  },
  {
   "cell_type": "code",
   "execution_count": 70,
   "id": "0bf8da49-ec49-4530-afc3-93775672ec92",
   "metadata": {},
   "outputs": [
    {
     "name": "stdout",
     "output_type": "stream",
     "text": [
      "A is a vowel\n",
      "k is not a vowel\n",
      "s is not a vowel\n",
      "h is not a vowel\n",
      "a is a vowel\n",
      "t is not a vowel\n"
     ]
    }
   ],
   "source": [
    "## Program to check vowels in string\n",
    "for ch in name:\n",
    "    if ch in vowels:\n",
    "        print(\"{} is a vowel\".format(ch))\n",
    "    else:\n",
    "        print(\"{} is not a vowel\".format(ch))"
   ]
  },
  {
   "cell_type": "markdown",
   "id": "0458d5d1-df33-4f94-b8da-ce7b6d6b5607",
   "metadata": {},
   "source": [
    "# list"
   ]
  },
  {
   "cell_type": "code",
   "execution_count": 72,
   "id": "995e44d1-f838-466d-8250-70e17b3df63b",
   "metadata": {},
   "outputs": [],
   "source": [
    "str=\"Akshat srivastava is a great programmer\"\n"
   ]
  },
  {
   "cell_type": "code",
   "execution_count": 75,
   "id": "32763436-57dc-42fe-9466-022f98bb736c",
   "metadata": {},
   "outputs": [],
   "source": [
    "lst=list(str)"
   ]
  },
  {
   "cell_type": "code",
   "execution_count": 76,
   "id": "130d340d-39a1-4659-b17d-17c4c9abbd44",
   "metadata": {},
   "outputs": [
    {
     "name": "stdout",
     "output_type": "stream",
     "text": [
      "['A', 'k', 's', 'h', 'a', 't', ' ', 's', 'r', 'i', 'v', 'a', 's', 't', 'a', 'v', 'a', ' ', 'i', 's', ' ', 'a', ' ', 'g', 'r', 'e', 'a', 't', ' ', 'p', 'r', 'o', 'g', 'r', 'a', 'm', 'm', 'e', 'r']\n"
     ]
    }
   ],
   "source": [
    "print(lst)"
   ]
  },
  {
   "cell_type": "code",
   "execution_count": 78,
   "id": "3869c09e-532b-4569-8d79-9c30c261c55e",
   "metadata": {},
   "outputs": [
    {
     "data": {
      "text/plain": [
       "['A',\n",
       " 'k',\n",
       " 's',\n",
       " 'h',\n",
       " 'a',\n",
       " 't',\n",
       " ' ',\n",
       " 's',\n",
       " 'r',\n",
       " 'i',\n",
       " 'v',\n",
       " 'a',\n",
       " 's',\n",
       " 't',\n",
       " 'a',\n",
       " 'v',\n",
       " 'a',\n",
       " ' ',\n",
       " 'i',\n",
       " 's',\n",
       " ' ',\n",
       " 'a',\n",
       " ' ',\n",
       " 'g',\n",
       " 'r',\n",
       " 'e',\n",
       " 'a',\n",
       " 't',\n",
       " ' ',\n",
       " 'p',\n",
       " 'r',\n",
       " 'o',\n",
       " 'g',\n",
       " 'r',\n",
       " 'a',\n",
       " 'm',\n",
       " 'm',\n",
       " 'e',\n",
       " 'r',\n",
       " 'bro']"
      ]
     },
     "execution_count": 78,
     "metadata": {},
     "output_type": "execute_result"
    }
   ],
   "source": [
    "lst+[\"bro\"]"
   ]
  },
  {
   "cell_type": "code",
   "execution_count": 80,
   "id": "bd544bec-46e3-480e-b634-301a8c9d4471",
   "metadata": {},
   "outputs": [],
   "source": [
    "## concatenation operation\n",
    "lst2=lst+[['new element'],3]"
   ]
  },
  {
   "cell_type": "code",
   "execution_count": 81,
   "id": "f2707474-c428-4d92-bf25-f22877ddcec3",
   "metadata": {},
   "outputs": [
    {
     "name": "stdout",
     "output_type": "stream",
     "text": [
      "['A', 'k', 's', 'h', 'a', 't', ' ', 's', 'r', 'i', 'v', 'a', 's', 't', 'a', 'v', 'a', ' ', 'i', 's', ' ', 'a', ' ', 'g', 'r', 'e', 'a', 't', ' ', 'p', 'r', 'o', 'g', 'r', 'a', 'm', 'm', 'e', 'r', ['new element'], 3]\n"
     ]
    }
   ],
   "source": [
    "print(lst2)"
   ]
  },
  {
   "cell_type": "code",
   "execution_count": 83,
   "id": "9aa671bc-71fe-4062-a0e6-422234e06c8f",
   "metadata": {},
   "outputs": [
    {
     "data": {
      "text/plain": [
       "['A',\n",
       " 'k',\n",
       " 's',\n",
       " 'h',\n",
       " 'a',\n",
       " 't',\n",
       " ' ',\n",
       " 's',\n",
       " 'r',\n",
       " 'i',\n",
       " 'v',\n",
       " 'a',\n",
       " 's',\n",
       " 't',\n",
       " 'a',\n",
       " 'v',\n",
       " 'a',\n",
       " ' ',\n",
       " 'i',\n",
       " 's',\n",
       " ' ',\n",
       " 'a',\n",
       " ' ',\n",
       " 'g',\n",
       " 'r',\n",
       " 'e',\n",
       " 'a',\n",
       " 't',\n",
       " ' ',\n",
       " 'p',\n",
       " 'r',\n",
       " 'o',\n",
       " 'g',\n",
       " 'r',\n",
       " 'a',\n",
       " 'm',\n",
       " 'm',\n",
       " 'e',\n",
       " 'r',\n",
       " ['new element'],\n",
       " 3,\n",
       " 'A',\n",
       " 'k',\n",
       " 's',\n",
       " 'h',\n",
       " 'a',\n",
       " 't',\n",
       " ' ',\n",
       " 's',\n",
       " 'r',\n",
       " 'i',\n",
       " 'v',\n",
       " 'a',\n",
       " 's',\n",
       " 't',\n",
       " 'a',\n",
       " 'v',\n",
       " 'a',\n",
       " ' ',\n",
       " 'i',\n",
       " 's',\n",
       " ' ',\n",
       " 'a',\n",
       " ' ',\n",
       " 'g',\n",
       " 'r',\n",
       " 'e',\n",
       " 'a',\n",
       " 't',\n",
       " ' ',\n",
       " 'p',\n",
       " 'r',\n",
       " 'o',\n",
       " 'g',\n",
       " 'r',\n",
       " 'a',\n",
       " 'm',\n",
       " 'm',\n",
       " 'e',\n",
       " 'r',\n",
       " ['new element'],\n",
       " 3]"
      ]
     },
     "execution_count": 83,
     "metadata": {},
     "output_type": "execute_result"
    }
   ],
   "source": [
    "lst2*2"
   ]
  },
  {
   "cell_type": "code",
   "execution_count": 93,
   "id": "98fee912-3bde-48cb-8961-814376766fb0",
   "metadata": {},
   "outputs": [],
   "source": [
    "lst1=['PW', 'skiils', 'data', 'science', 'master']"
   ]
  },
  {
   "cell_type": "code",
   "execution_count": 94,
   "id": "4406905c-0006-4398-b230-7f665ac555c5",
   "metadata": {},
   "outputs": [
    {
     "name": "stdout",
     "output_type": "stream",
     "text": [
      "['PW', 'skiils', 'data', 'science', 'master']\n"
     ]
    }
   ],
   "source": [
    "print(lst1)"
   ]
  },
  {
   "cell_type": "code",
   "execution_count": 95,
   "id": "f0eb299b-28d9-4120-bcc5-e0384865aeab",
   "metadata": {},
   "outputs": [
    {
     "name": "stdout",
     "output_type": "stream",
     "text": [
      "present\n"
     ]
    }
   ],
   "source": [
    "if \"science\" in lst1:\n",
    "    print(\"present\")"
   ]
  },
  {
   "cell_type": "code",
   "execution_count": 96,
   "id": "1edfe3e9-8b03-4fa3-8845-da17ae659910",
   "metadata": {},
   "outputs": [
    {
     "name": "stdout",
     "output_type": "stream",
     "text": [
      "science\n"
     ]
    }
   ],
   "source": [
    "for elements in lst1:\n",
    "    if elements==\"science\":\n",
    "        print(elements)\n",
    "        break"
   ]
  },
  {
   "cell_type": "code",
   "execution_count": 97,
   "id": "cefbda46-2d0c-4b55-bd47-2eb8d7c60548",
   "metadata": {},
   "outputs": [
    {
     "data": {
      "text/plain": [
       "True"
      ]
     },
     "execution_count": 97,
     "metadata": {},
     "output_type": "execute_result"
    }
   ],
   "source": [
    "lst=[1,2,3,4,5]\n",
    "4 in lst"
   ]
  },
  {
   "cell_type": "code",
   "execution_count": 98,
   "id": "abce22bf-d37e-44ae-a7ff-0e22cfd53e67",
   "metadata": {},
   "outputs": [],
   "source": [
    "lst1=[\"Zebra\",\"Tiger\",\"Monkey\",\"Donkey\",\"Lion\"]\n",
    "lst2=[5,6,2,9,8,6]"
   ]
  },
  {
   "cell_type": "code",
   "execution_count": 99,
   "id": "43c0057a-654f-4de9-9511-5d94c096852e",
   "metadata": {},
   "outputs": [
    {
     "name": "stdout",
     "output_type": "stream",
     "text": [
      "Zebra\n"
     ]
    }
   ],
   "source": [
    "print(max(lst1))"
   ]
  },
  {
   "cell_type": "code",
   "execution_count": 100,
   "id": "5c5b7f80-ed2b-4fab-abe4-42e342998843",
   "metadata": {},
   "outputs": [
    {
     "data": {
      "text/plain": [
       "9"
      ]
     },
     "execution_count": 100,
     "metadata": {},
     "output_type": "execute_result"
    }
   ],
   "source": [
    "max(lst2)"
   ]
  },
  {
   "cell_type": "code",
   "execution_count": 101,
   "id": "d34637c5-0be2-4c6c-8e7f-f37a1888f6e0",
   "metadata": {},
   "outputs": [
    {
     "data": {
      "text/plain": [
       "'Donkey'"
      ]
     },
     "execution_count": 101,
     "metadata": {},
     "output_type": "execute_result"
    }
   ],
   "source": [
    "min(lst1)"
   ]
  },
  {
   "cell_type": "code",
   "execution_count": 102,
   "id": "7616d273-8467-417c-a617-d6bd26f67b6f",
   "metadata": {},
   "outputs": [
    {
     "data": {
      "text/plain": [
       "2"
      ]
     },
     "execution_count": 102,
     "metadata": {},
     "output_type": "execute_result"
    }
   ],
   "source": [
    "min(lst2)"
   ]
  },
  {
   "cell_type": "code",
   "execution_count": 106,
   "id": "2e427b4b-1cda-4e60-b785-a5348b6ac577",
   "metadata": {},
   "outputs": [
    {
     "data": {
      "text/plain": [
       "int"
      ]
     },
     "execution_count": 106,
     "metadata": {},
     "output_type": "execute_result"
    }
   ],
   "source": [
    "lst3=[5,6,2,9,5,8,6]\n",
    "type(lst3[0])"
   ]
  },
  {
   "cell_type": "code",
   "execution_count": 107,
   "id": "98ae0972-af1a-4469-a6f7-a4dcf93f4c54",
   "metadata": {},
   "outputs": [],
   "source": [
    "lst.append(\"PWskills\")"
   ]
  },
  {
   "cell_type": "code",
   "execution_count": 108,
   "id": "f3f02642-7249-49a8-b7c4-d361d1d17590",
   "metadata": {},
   "outputs": [
    {
     "data": {
      "text/plain": [
       "[1, 2, 3, 4, 5, 'PWskills']"
      ]
     },
     "execution_count": 108,
     "metadata": {},
     "output_type": "execute_result"
    }
   ],
   "source": [
    "lst"
   ]
  },
  {
   "cell_type": "code",
   "execution_count": 109,
   "id": "c526bca2-c000-4690-ae66-a385f47d8bae",
   "metadata": {},
   "outputs": [],
   "source": [
    "lst.append(['Data','Science','Master'])"
   ]
  },
  {
   "cell_type": "code",
   "execution_count": 110,
   "id": "06d4a285-e668-4095-ba6f-cce292dee431",
   "metadata": {},
   "outputs": [
    {
     "data": {
      "text/plain": [
       "[1, 2, 3, 4, 5, 'PWskills', ['Data', 'Science', 'Master']]"
      ]
     },
     "execution_count": 110,
     "metadata": {},
     "output_type": "execute_result"
    }
   ],
   "source": [
    "lst"
   ]
  },
  {
   "cell_type": "code",
   "execution_count": 111,
   "id": "a8fd750b-6d2a-42c5-9eea-f3a650035ad0",
   "metadata": {},
   "outputs": [
    {
     "data": {
      "text/plain": [
       "['Zebra', 'Tiger', 'Monkey', 'Donkey', 'Lion']"
      ]
     },
     "execution_count": 111,
     "metadata": {},
     "output_type": "execute_result"
    }
   ],
   "source": [
    "lst1"
   ]
  },
  {
   "cell_type": "code",
   "execution_count": 112,
   "id": "84c588ca-2bc3-4589-9844-d745dd59b467",
   "metadata": {},
   "outputs": [
    {
     "data": {
      "text/plain": [
       "'Lion'"
      ]
     },
     "execution_count": 112,
     "metadata": {},
     "output_type": "execute_result"
    }
   ],
   "source": [
    "lst1.pop()"
   ]
  },
  {
   "cell_type": "code",
   "execution_count": 113,
   "id": "97aa2ea3-4e5a-4c9c-a928-d52c0b491909",
   "metadata": {},
   "outputs": [
    {
     "data": {
      "text/plain": [
       "['Zebra', 'Tiger', 'Monkey', 'Donkey']"
      ]
     },
     "execution_count": 113,
     "metadata": {},
     "output_type": "execute_result"
    }
   ],
   "source": [
    "lst1"
   ]
  },
  {
   "cell_type": "code",
   "execution_count": 114,
   "id": "6fecf24c-751a-4c61-ae7a-52f4f26814cd",
   "metadata": {},
   "outputs": [
    {
     "data": {
      "text/plain": [
       "'Donkey'"
      ]
     },
     "execution_count": 114,
     "metadata": {},
     "output_type": "execute_result"
    }
   ],
   "source": [
    "lst1.pop(3)"
   ]
  },
  {
   "cell_type": "code",
   "execution_count": 115,
   "id": "f237d3ca-48c5-4745-b951-a8a13660f48b",
   "metadata": {},
   "outputs": [
    {
     "data": {
      "text/plain": [
       "['Zebra', 'Tiger', 'Monkey']"
      ]
     },
     "execution_count": 115,
     "metadata": {},
     "output_type": "execute_result"
    }
   ],
   "source": [
    "lst1"
   ]
  },
  {
   "cell_type": "code",
   "execution_count": 116,
   "id": "f0bb9d2a-5fda-43fe-a2af-c4dad54dbacb",
   "metadata": {},
   "outputs": [],
   "source": [
    "removed_element=lst1.pop(0)"
   ]
  },
  {
   "cell_type": "code",
   "execution_count": 117,
   "id": "2ccdb36f-2fc0-40a3-9f25-3177057c02d9",
   "metadata": {},
   "outputs": [
    {
     "data": {
      "text/plain": [
       "'Zebra'"
      ]
     },
     "execution_count": 117,
     "metadata": {},
     "output_type": "execute_result"
    }
   ],
   "source": [
    "removed_element"
   ]
  },
  {
   "cell_type": "code",
   "execution_count": 118,
   "id": "9a16d2ee-40c7-4ddc-a026-ddbd28e81c58",
   "metadata": {},
   "outputs": [
    {
     "data": {
      "text/plain": [
       "['Tiger', 'Monkey']"
      ]
     },
     "execution_count": 118,
     "metadata": {},
     "output_type": "execute_result"
    }
   ],
   "source": [
    "lst1"
   ]
  },
  {
   "cell_type": "markdown",
   "id": "f2531961-ab58-4a40-a49c-40f1c938b223",
   "metadata": {},
   "source": [
    "## Sorting and Reverse method in list"
   ]
  },
  {
   "cell_type": "code",
   "execution_count": 119,
   "id": "c0d77ccb-6fc4-40f2-944f-c452c478f592",
   "metadata": {},
   "outputs": [],
   "source": [
    "new_list=['q','e','f','s','t','u']"
   ]
  },
  {
   "cell_type": "code",
   "execution_count": 120,
   "id": "249926d4-01f0-48fd-93b7-2d7763055575",
   "metadata": {},
   "outputs": [
    {
     "data": {
      "text/plain": [
       "['q', 'e', 'f', 's', 't', 'u']"
      ]
     },
     "execution_count": 120,
     "metadata": {},
     "output_type": "execute_result"
    }
   ],
   "source": [
    "new_list"
   ]
  },
  {
   "cell_type": "code",
   "execution_count": 123,
   "id": "d2d10fe8-4dfb-4ff8-b721-635c28b1d0f3",
   "metadata": {},
   "outputs": [
    {
     "data": {
      "text/plain": [
       "['u', 't', 's', 'f', 'e', 'q']"
      ]
     },
     "execution_count": 123,
     "metadata": {},
     "output_type": "execute_result"
    }
   ],
   "source": [
    "new_list.reverse()\n",
    "new_list"
   ]
  },
  {
   "cell_type": "code",
   "execution_count": 126,
   "id": "3884a55c-8739-4964-9255-b2d4bbd3a17c",
   "metadata": {},
   "outputs": [
    {
     "data": {
      "text/plain": [
       "['q', 'e', 'f', 's', 't', 'u']"
      ]
     },
     "execution_count": 126,
     "metadata": {},
     "output_type": "execute_result"
    }
   ],
   "source": [
    "new_list"
   ]
  },
  {
   "cell_type": "code",
   "execution_count": 127,
   "id": "5c599da0-ec61-411f-a61d-afe79e941d9e",
   "metadata": {},
   "outputs": [],
   "source": [
    "new_list.sort()"
   ]
  },
  {
   "cell_type": "code",
   "execution_count": 128,
   "id": "3d837253-598d-46a6-8e80-4b3c6afc2b27",
   "metadata": {},
   "outputs": [
    {
     "data": {
      "text/plain": [
       "['e', 'f', 'q', 's', 't', 'u']"
      ]
     },
     "execution_count": 128,
     "metadata": {},
     "output_type": "execute_result"
    }
   ],
   "source": [
    "new_list"
   ]
  },
  {
   "cell_type": "code",
   "execution_count": 129,
   "id": "43032799-aa7c-4dfc-88b2-c777b753feff",
   "metadata": {},
   "outputs": [
    {
     "data": {
      "text/plain": [
       "[1, 2, 3, 4, 5, 7, 7]"
      ]
     },
     "execution_count": 129,
     "metadata": {},
     "output_type": "execute_result"
    }
   ],
   "source": [
    "lst=[1,5,7,3,7,2,4]\n",
    "lst.sort()\n",
    "lst"
   ]
  },
  {
   "cell_type": "code",
   "execution_count": 131,
   "id": "9ec4b30b-ec4d-4404-8518-eff5e6120a28",
   "metadata": {},
   "outputs": [
    {
     "data": {
      "text/plain": [
       "[1, 2, 3, 4, 5, 7, 7, 'Akshat', 'Srivastava']"
      ]
     },
     "execution_count": 131,
     "metadata": {},
     "output_type": "execute_result"
    }
   ],
   "source": [
    "lst.extend([\"Akshat\",\"Srivastava\"])\n",
    "lst"
   ]
  },
  {
   "cell_type": "markdown",
   "id": "6049ac44-d905-48cb-9f8d-48d808c2c446",
   "metadata": {},
   "source": [
    "## Nested List"
   ]
  },
  {
   "cell_type": "code",
   "execution_count": 132,
   "id": "e244d2de-bc5c-4588-9f47-684e9e52e413",
   "metadata": {},
   "outputs": [],
   "source": [
    "lst_1=[1,2,3]\n",
    "lst_2=[4,5,6]\n",
    "lst_3=[7,8,9]\n",
    "matrix=[lst_1,lst_2,lst_3]"
   ]
  },
  {
   "cell_type": "code",
   "execution_count": 133,
   "id": "b00989b8-d3b0-4a10-a558-4a737429c19a",
   "metadata": {},
   "outputs": [
    {
     "data": {
      "text/plain": [
       "[[1, 2, 3], [4, 5, 6], [7, 8, 9]]"
      ]
     },
     "execution_count": 133,
     "metadata": {},
     "output_type": "execute_result"
    }
   ],
   "source": [
    "matrix"
   ]
  },
  {
   "cell_type": "code",
   "execution_count": 134,
   "id": "39c9de7a-6783-4c42-a365-8435e71331b2",
   "metadata": {},
   "outputs": [
    {
     "data": {
      "text/plain": [
       "6"
      ]
     },
     "execution_count": 134,
     "metadata": {},
     "output_type": "execute_result"
    }
   ],
   "source": [
    "matrix[1][2]"
   ]
  },
  {
   "cell_type": "code",
   "execution_count": 135,
   "id": "ba4c69e3-6e8f-4545-912e-c97f11419c12",
   "metadata": {},
   "outputs": [
    {
     "data": {
      "text/plain": [
       "[8, 9]"
      ]
     },
     "execution_count": 135,
     "metadata": {},
     "output_type": "execute_result"
    }
   ],
   "source": [
    "matrix[2][1:]"
   ]
  },
  {
   "cell_type": "code",
   "execution_count": 138,
   "id": "601f66fb-4968-414d-b5dc-8c6b6ea05b7a",
   "metadata": {},
   "outputs": [
    {
     "data": {
      "text/plain": [
       "[[1, 2, 3], [4, 5, 6], [7, 8, 9]]"
      ]
     },
     "execution_count": 138,
     "metadata": {},
     "output_type": "execute_result"
    }
   ],
   "source": [
    "matrix[:]"
   ]
  },
  {
   "cell_type": "markdown",
   "id": "24ea84b6-044c-4cf3-ae5d-dd65735422d1",
   "metadata": {},
   "source": [
    "## list comprehension"
   ]
  },
  {
   "cell_type": "code",
   "execution_count": 141,
   "id": "30771ab7-acad-4444-ae27-77df3c2073fb",
   "metadata": {},
   "outputs": [
    {
     "data": {
      "text/plain": [
       "[0, 1, 2, 3, 4, 5, 6, 7, 8, 9, 10, 11, 12, 13, 14, 15, 16, 17, 18, 19]"
      ]
     },
     "execution_count": 141,
     "metadata": {},
     "output_type": "execute_result"
    }
   ],
   "source": [
    "[i for i in range(20)]"
   ]
  },
  {
   "cell_type": "code",
   "execution_count": 144,
   "id": "d641926e-3461-46ea-89bf-daa5afa5c455",
   "metadata": {},
   "outputs": [
    {
     "data": {
      "text/plain": [
       "[0,\n",
       " 'ODD',\n",
       " 2,\n",
       " 'ODD',\n",
       " 4,\n",
       " 'ODD',\n",
       " 6,\n",
       " 'ODD',\n",
       " 8,\n",
       " 'ODD',\n",
       " 10,\n",
       " 'ODD',\n",
       " 12,\n",
       " 'ODD',\n",
       " 14,\n",
       " 'ODD',\n",
       " 16,\n",
       " 'ODD',\n",
       " 18,\n",
       " 'ODD']"
      ]
     },
     "execution_count": 144,
     "metadata": {},
     "output_type": "execute_result"
    }
   ],
   "source": [
    "## even numbers\n",
    "[i if i%2==0 else \"ODD\" for i in range(20)]"
   ]
  },
  {
   "cell_type": "code",
   "execution_count": 145,
   "id": "4e06528a-68f4-4cf5-80dc-268265bc7ae6",
   "metadata": {},
   "outputs": [
    {
     "data": {
      "text/plain": [
       "[0, 1, 2, 3, 4, 5, 6, 7, 8, 9, 10, 11, 12, 13, 14, 15, 16, 17, 18, 19]"
      ]
     },
     "execution_count": 145,
     "metadata": {},
     "output_type": "execute_result"
    }
   ],
   "source": [
    "[i for i in range(0,20)]"
   ]
  },
  {
   "cell_type": "code",
   "execution_count": 148,
   "id": "baa760a6-377a-4d63-8423-3cb4cd8ab118",
   "metadata": {},
   "outputs": [
    {
     "data": {
      "text/plain": [
       "[' ',\n",
       " 1,\n",
       " ' ',\n",
       " 3,\n",
       " ' ',\n",
       " 5,\n",
       " ' ',\n",
       " 7,\n",
       " ' ',\n",
       " 9,\n",
       " ' ',\n",
       " 11,\n",
       " ' ',\n",
       " 13,\n",
       " ' ',\n",
       " 15,\n",
       " ' ',\n",
       " 17,\n",
       " ' ',\n",
       " 19]"
      ]
     },
     "execution_count": 148,
     "metadata": {},
     "output_type": "execute_result"
    }
   ],
   "source": [
    "[i if i%2!=0 else \" \" for i in range(0,20)]"
   ]
  },
  {
   "cell_type": "code",
   "execution_count": 149,
   "id": "d6f77d5e-610b-4583-a7d1-42d4d7bea351",
   "metadata": {},
   "outputs": [
    {
     "name": "stdout",
     "output_type": "stream",
     "text": [
      "20\n",
      "25\n"
     ]
    }
   ],
   "source": [
    "lst=[1,2,3,4,5,6,7,8,9]\n",
    "x=0\n",
    "y=0\n",
    "for i in lst:\n",
    "    if i%2==0:\n",
    "        x=x+i\n",
    "    else:\n",
    "        y=y+i\n",
    "print(x)\n",
    "print(y)\n",
    "        \n",
    "        "
   ]
  },
  {
   "cell_type": "code",
   "execution_count": 153,
   "id": "c421f89a-f921-46ae-8dd5-a370c1ff4a6d",
   "metadata": {},
   "outputs": [],
   "source": [
    "odd_sum=sum([num for num in lst if num%2!=0])"
   ]
  },
  {
   "cell_type": "code",
   "execution_count": 154,
   "id": "9fba8bd7-67d2-4f67-906f-45b03992e1b8",
   "metadata": {},
   "outputs": [],
   "source": [
    "even_sum=sum([num for num in lst if num%2==0])"
   ]
  },
  {
   "cell_type": "code",
   "execution_count": 155,
   "id": "b7ef7349-23b7-4a33-bec5-548bce944678",
   "metadata": {},
   "outputs": [
    {
     "data": {
      "text/plain": [
       "20"
      ]
     },
     "execution_count": 155,
     "metadata": {},
     "output_type": "execute_result"
    }
   ],
   "source": [
    "even_sum"
   ]
  },
  {
   "cell_type": "code",
   "execution_count": 156,
   "id": "76b283cf-6ff6-4113-9db4-76ee67dc603b",
   "metadata": {},
   "outputs": [
    {
     "data": {
      "text/plain": [
       "25"
      ]
     },
     "execution_count": 156,
     "metadata": {},
     "output_type": "execute_result"
    }
   ],
   "source": [
    "odd_sum"
   ]
  },
  {
   "cell_type": "code",
   "execution_count": 157,
   "id": "2b36b551-b383-4814-a5e6-eed87beafd22",
   "metadata": {},
   "outputs": [
    {
     "data": {
      "text/plain": [
       "[1, 4, 9, 16, 25, 36, 49, 64, 81, 100]"
      ]
     },
     "execution_count": 157,
     "metadata": {},
     "output_type": "execute_result"
    }
   ],
   "source": [
    "lst=[1,2,3,4,5,6,7,8,9,10]\n",
    "[num**2 for num in lst]"
   ]
  },
  {
   "cell_type": "code",
   "execution_count": 158,
   "id": "1d5f5630-0314-408d-97ed-c404706dfb27",
   "metadata": {},
   "outputs": [
    {
     "data": {
      "text/plain": [
       "[1, 2, 3, 4]"
      ]
     },
     "execution_count": 158,
     "metadata": {},
     "output_type": "execute_result"
    }
   ],
   "source": [
    "numbers=[-2,-1,0,1,2,3,4]\n",
    "[num for num in numbers if num>0]"
   ]
  },
  {
   "cell_type": "code",
   "execution_count": 159,
   "id": "f342bfc9-f473-489f-9761-2714ad057956",
   "metadata": {},
   "outputs": [
    {
     "data": {
      "text/plain": [
       "['a', 'b', 'c', 'd']"
      ]
     },
     "execution_count": 159,
     "metadata": {},
     "output_type": "execute_result"
    }
   ],
   "source": [
    "words=[\"apple\",\"banana\",\"cherry\",\"date\"]\n",
    "[word[0] for word in words]"
   ]
  },
  {
   "cell_type": "code",
   "execution_count": 160,
   "id": "1059987f-ea1a-4a49-96c4-c3401fd7d919",
   "metadata": {},
   "outputs": [],
   "source": [
    "celsius_temperatures=[1,10,20,30,40,50]"
   ]
  },
  {
   "cell_type": "code",
   "execution_count": 163,
   "id": "8e3cfc55-96e2-4459-b7fa-c13970dba5ca",
   "metadata": {},
   "outputs": [
    {
     "data": {
      "text/plain": [
       "[32.18, 33.8, 35.6, 37.4, 39.2, 41.0]"
      ]
     },
     "execution_count": 163,
     "metadata": {},
     "output_type": "execute_result"
    }
   ],
   "source": [
    "[(9/50)*temp+32 for temp in celsius_temperatures]"
   ]
  },
  {
   "cell_type": "code",
   "execution_count": 165,
   "id": "1e175d57-2ade-4749-bef8-ff0fc464186e",
   "metadata": {},
   "outputs": [
    {
     "data": {
      "text/plain": [
       "[1, 2, 3, 4, 5, 6, 7, 8, 9]"
      ]
     },
     "execution_count": 165,
     "metadata": {},
     "output_type": "execute_result"
    }
   ],
   "source": [
    "lists=[[1,2,3],[4,5,6],[7,8,9]]\n",
    "[num for sublist in lists for num in sublist]"
   ]
  },
  {
   "cell_type": "code",
   "execution_count": 167,
   "id": "0fb7808f-d7b8-4ae3-b78c-d2589d91be4a",
   "metadata": {},
   "outputs": [],
   "source": [
    "## Assignment\n",
    "# Create a list of only prime numbers from a  given list\n",
    "# Create a list of all possible combinations of 2 elments from a list\n",
    "numbers=[1,2,3,4,5,6,7,8,9,10]"
   ]
  },
  {
   "cell_type": "code",
   "execution_count": 189,
   "id": "85c165bb-effd-4585-ac78-a2202f61ed9e",
   "metadata": {},
   "outputs": [
    {
     "name": "stdout",
     "output_type": "stream",
     "text": [
      "[]\n"
     ]
    }
   ],
   "source": [
    "for i in numbers:\n",
    "    for j in range(2,i):\n",
    "        if i%j!=0 and i==j:\n",
    "            lst=lst+[i]\n",
    "            break\n",
    "        else:\n",
    "            x=x+1\n",
    "print(lst)\n",
    "lst=[]\n",
    "\n",
    "    "
   ]
  },
  {
   "cell_type": "code",
   "execution_count": 191,
   "id": "adca9867-d013-41c4-9d81-e403906b586f",
   "metadata": {},
   "outputs": [
    {
     "name": "stdout",
     "output_type": "stream",
     "text": [
      "[]\n"
     ]
    }
   ],
   "source": [
    "for i in numbers:\n",
    "    for j in range(1,i):\n",
    "        if i%j!=0 and i==j:\n",
    "            lst=lst+[i]\n",
    "        else:\n",
    "            x=x+1\n",
    "print(lst)\n",
    "    "
   ]
  },
  {
   "cell_type": "code",
   "execution_count": null,
   "id": "d669e156-0664-4b2d-9ba5-c69f5a111134",
   "metadata": {},
   "outputs": [],
   "source": []
  },
  {
   "cell_type": "code",
   "execution_count": null,
   "id": "d3e17b76-fd9f-4d4c-ba31-8a437387572e",
   "metadata": {},
   "outputs": [],
   "source": []
  }
 ],
 "metadata": {
  "kernelspec": {
   "display_name": "Python 3 (ipykernel)",
   "language": "python",
   "name": "python3"
  },
  "language_info": {
   "codemirror_mode": {
    "name": "ipython",
    "version": 3
   },
   "file_extension": ".py",
   "mimetype": "text/x-python",
   "name": "python",
   "nbconvert_exporter": "python",
   "pygments_lexer": "ipython3",
   "version": "3.10.8"
  }
 },
 "nbformat": 4,
 "nbformat_minor": 5
}
