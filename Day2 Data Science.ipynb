{
 "cells": [
  {
   "cell_type": "code",
   "execution_count": 1,
   "id": "5a3d5552-01c0-43b8-9a04-2aaafb12120b",
   "metadata": {},
   "outputs": [
    {
     "name": "stdout",
     "output_type": "stream",
     "text": [
      "My age is  17\n"
     ]
    }
   ],
   "source": [
    "age = 17\n",
    "print(\"My age is \", age)"
   ]
  },
  {
   "cell_type": "code",
   "execution_count": 2,
   "id": "baddb11a-147d-4922-b837-032e03bf2458",
   "metadata": {},
   "outputs": [
    {
     "name": "stdout",
     "output_type": "stream",
     "text": [
      "My age is: 17\n"
     ]
    }
   ],
   "source": [
    "print(f\"My age is: {age}\")\n",
    "## f is for formating,if consider varaible"
   ]
  },
  {
   "cell_type": "code",
   "execution_count": 3,
   "id": "b2b846da-ad24-4803-9297-251520654ceb",
   "metadata": {},
   "outputs": [
    {
     "name": "stdout",
     "output_type": "stream",
     "text": [
      "My name is Akshat and age is 17\n"
     ]
    }
   ],
   "source": [
    "## format()\n",
    "name=\"Akshat\"\n",
    "age=17\n",
    "print(\"My name is {} and age is {}\".format(name,age))"
   ]
  },
  {
   "cell_type": "code",
   "execution_count": 4,
   "id": "55164acf-ec98-48d9-9f5e-ad8d551befbc",
   "metadata": {},
   "outputs": [
    {
     "name": "stdout",
     "output_type": "stream",
     "text": [
      "My name is Akshat and age is 17\n"
     ]
    }
   ],
   "source": [
    "##placeholder\n",
    "print(\"My name is {firstname} and age is {ages}\".format(firstname=name,ages=age))"
   ]
  },
  {
   "cell_type": "code",
   "execution_count": 5,
   "id": "a8d3c2b2-6f3e-4cf0-8b4a-0246bbaa5782",
   "metadata": {},
   "outputs": [
    {
     "name": "stdout",
     "output_type": "stream",
     "text": [
      "my name is 19 and i have completed my degree of B.Tech with the name of Akshat Srivastava\n"
     ]
    }
   ],
   "source": [
    "name=\"Akshat Srivastava\"\n",
    "age=19\n",
    "degree=\"B.Tech\"\n",
    "print(\"my name is {} and i have completed my degree of {} with the name of {}\".format(age,degree,name))"
   ]
  },
  {
   "cell_type": "markdown",
   "id": "9662f5e2-bd75-438a-94a0-baa7a54b3318",
   "metadata": {},
   "source": [
    "## Control Flow\n",
    "### Decision Making statements"
   ]
  },
  {
   "cell_type": "code",
   "execution_count": 6,
   "id": "0edf19a2-0041-46df-aa88-19bc60e6cd29",
   "metadata": {},
   "outputs": [
    {
     "name": "stdout",
     "output_type": "stream",
     "text": [
      "You are eligible to vote\n"
     ]
    }
   ],
   "source": [
    "### if Statements\n",
    "age=19\n",
    "if age>=18:\n",
    "    print(\"You are eligible to vote\")"
   ]
  },
  {
   "cell_type": "code",
   "execution_count": 7,
   "id": "1704aaa4-b49c-4569-9092-bf0203a9990d",
   "metadata": {},
   "outputs": [],
   "source": [
    "### if Statements\n",
    "age=17\n",
    "if age>=18:\n",
    "    print(\"You are eligible to vote\")"
   ]
  },
  {
   "cell_type": "markdown",
   "id": "b6184bcb-7345-4b58-afc0-ba4f24620543",
   "metadata": {},
   "source": [
    "# Taking Input"
   ]
  },
  {
   "cell_type": "code",
   "execution_count": 8,
   "id": "0ff90906-c772-46a1-8429-2911d3aa8954",
   "metadata": {},
   "outputs": [
    {
     "name": "stdin",
     "output_type": "stream",
     "text": [
      " akshat\n"
     ]
    },
    {
     "data": {
      "text/plain": [
       "'akshat'"
      ]
     },
     "execution_count": 8,
     "metadata": {},
     "output_type": "execute_result"
    }
   ],
   "source": [
    "input()"
   ]
  },
  {
   "cell_type": "code",
   "execution_count": 9,
   "id": "59d4f0b7-b9cf-4ded-babf-81113ba4ab3a",
   "metadata": {},
   "outputs": [
    {
     "name": "stdin",
     "output_type": "stream",
     "text": [
      " akshat\n"
     ]
    }
   ],
   "source": [
    "name=input()"
   ]
  },
  {
   "cell_type": "code",
   "execution_count": 10,
   "id": "a6e286fc-6113-413f-8455-9f81bb198e3d",
   "metadata": {},
   "outputs": [
    {
     "name": "stdin",
     "output_type": "stream",
     "text": [
      "Enter the name akshat\n"
     ]
    }
   ],
   "source": [
    "name=input(\"Enter the name\")"
   ]
  },
  {
   "cell_type": "code",
   "execution_count": 11,
   "id": "d6b12cd4-5ca7-4dc8-96d7-964cb21a2c53",
   "metadata": {},
   "outputs": [
    {
     "data": {
      "text/plain": [
       "'akshat'"
      ]
     },
     "execution_count": 11,
     "metadata": {},
     "output_type": "execute_result"
    }
   ],
   "source": [
    "name"
   ]
  },
  {
   "cell_type": "code",
   "execution_count": 12,
   "id": "ea4662d1-3023-4e0a-a904-4852a47e9ec9",
   "metadata": {},
   "outputs": [
    {
     "name": "stdin",
     "output_type": "stream",
     "text": [
      "Enter the age 56\n"
     ]
    }
   ],
   "source": [
    "age=int(input(\"Enter the age\"))"
   ]
  },
  {
   "cell_type": "code",
   "execution_count": 13,
   "id": "63a9fe2d-2ad2-4ad2-b4a8-332d0c517434",
   "metadata": {},
   "outputs": [
    {
     "data": {
      "text/plain": [
       "int"
      ]
     },
     "execution_count": 13,
     "metadata": {},
     "output_type": "execute_result"
    }
   ],
   "source": [
    "type(age)"
   ]
  },
  {
   "cell_type": "markdown",
   "id": "a399e6c2-ac4f-40ca-a8c3-21b15d3e8816",
   "metadata": {},
   "source": [
    "# Task "
   ]
  },
  {
   "cell_type": "code",
   "execution_count": 14,
   "id": "5329d9fd-2e47-4350-9bae-ec31c075fc9b",
   "metadata": {},
   "outputs": [
    {
     "name": "stdin",
     "output_type": "stream",
     "text": [
      "Enter the age : 454\n"
     ]
    }
   ],
   "source": [
    "## Take a input of age\n",
    "## check whether age>=18 and age<=45\n",
    "## display a message you are young blood\n",
    "age=int(input(\"Enter the age :\"))\n",
    "if age>=18 and age<=45:\n",
    "    print(\"You are Young Blood\")"
   ]
  },
  {
   "cell_type": "code",
   "execution_count": 15,
   "id": "1794c7c4-2510-440e-b5a4-41ab4e568424",
   "metadata": {},
   "outputs": [
    {
     "name": "stdin",
     "output_type": "stream",
     "text": [
      "Enter the age : 23\n"
     ]
    },
    {
     "name": "stdout",
     "output_type": "stream",
     "text": [
      "You are Young Blood\n"
     ]
    }
   ],
   "source": [
    "## if else statement\n",
    "age=int(input(\"Enter the age :\"))\n",
    "if age>=18 and age<=45:\n",
    "    print(\"You are Young Blood\")\n",
    "else:\n",
    "     print(\"Thank you , We will let you know\")"
   ]
  },
  {
   "cell_type": "markdown",
   "id": "6d8abc7d-e90a-4b92-8c3b-967b57a044fa",
   "metadata": {},
   "source": [
    "# Task 2\n"
   ]
  },
  {
   "cell_type": "code",
   "execution_count": 16,
   "id": "eec2bd10-27b4-4a4c-ae09-fffc6029f2d0",
   "metadata": {},
   "outputs": [
    {
     "name": "stdin",
     "output_type": "stream",
     "text": [
      "Enter the price of product: 2334\n"
     ]
    },
    {
     "name": "stdout",
     "output_type": "stream",
     "text": [
      "Your final price is : 1867.2\n"
     ]
    }
   ],
   "source": [
    "## mall - input the product price\n",
    "## product > 1000 rs  20% off\n",
    "## print the product price\n",
    "## product <=1000rs 30% off\n",
    "## print the product price\n",
    "price=int(input(\"Enter the price of product:\"))\n",
    "if price>1000:\n",
    "          fprice= price-(0.20*price)\n",
    "          print(\"Your final price is :\",fprice)\n",
    "else:\n",
    "          fprice= price-(0.30*price)\n",
    "          print(\"Your final price is :\",fprice)\n",
    "          "
   ]
  },
  {
   "cell_type": "markdown",
   "id": "c4cb40c8-e533-4dfd-a2a2-715609da2c6d",
   "metadata": {},
   "source": [
    "# task 3"
   ]
  },
  {
   "cell_type": "code",
   "execution_count": 17,
   "id": "4b4983e0-30e2-4d27-a334-a56009ff5fcb",
   "metadata": {},
   "outputs": [
    {
     "name": "stdin",
     "output_type": "stream",
     "text": [
      "Enter the price of product: 231\n"
     ]
    },
    {
     "name": "stdout",
     "output_type": "stream",
     "text": [
      "Your final price is : 115.5\n"
     ]
    }
   ],
   "source": [
    "## mall - input the product price\n",
    "## product > 3000 rs  20% off\n",
    "## print the product price\n",
    "## product >=2000rs and <=3000 30% off\n",
    "## print the product price\n",
    "## product >=1000rs and <=2000 40% off\n",
    "price=int(input(\"Enter the price of product:\"))\n",
    "if price>3000:\n",
    "          fprice= price-(0.20*price)\n",
    "          print(\"Your final price is :\",fprice)\n",
    "elif price<=3000 and price>2000:\n",
    "          fprice= price-(0.30*price)\n",
    "          print(\"Your final price is :\",fprice)\n",
    "elif price<=2000 and price>1000:\n",
    "         fprice= price-(0.40*price)\n",
    "         print(\"Your final price is :\",fprice)\n",
    "else:\n",
    "        fprice= price-(0.50*price)\n",
    "        print(\"Your final price is :\",fprice)\n",
    "          "
   ]
  },
  {
   "cell_type": "code",
   "execution_count": 18,
   "id": "0e7a59a0-3954-45e1-8c40-54679d71f6d0",
   "metadata": {},
   "outputs": [
    {
     "name": "stdin",
     "output_type": "stream",
     "text": [
      "Enter the number: 1134\n"
     ]
    },
    {
     "name": "stdout",
     "output_type": "stream",
     "text": [
      "go home\n"
     ]
    }
   ],
   "source": [
    "## single Statement\n",
    "val=int(input(\"Enter the number:\"))\n",
    "if(val<=999):print(\"value is less than equal to 999\")\n",
    "else:\n",
    "    print(\"go home\")"
   ]
  },
  {
   "cell_type": "markdown",
   "id": "9aeacf1a-28f2-4b4e-8d7d-08e007c4bb20",
   "metadata": {},
   "source": [
    "# LOOPS Statements\n",
    " 1. While loop\n",
    " 2. for loop\n",
    " 3. nested loops\n",
    " 4. loop control (break,continue,pass)\n",
    " "
   ]
  },
  {
   "cell_type": "code",
   "execution_count": 19,
   "id": "cdc513f3-94c6-4709-bb53-cfdfcec9d429",
   "metadata": {},
   "outputs": [
    {
     "name": "stdout",
     "output_type": "stream",
     "text": [
      "26\n",
      "27\n",
      "28\n",
      "29\n",
      "30\n",
      "31\n",
      "32\n",
      "33\n",
      "34\n",
      "35\n",
      "36\n",
      "37\n",
      "38\n",
      "39\n",
      "40\n",
      "41\n",
      "42\n",
      "43\n",
      "44\n",
      "45\n",
      "46\n",
      "47\n",
      "48\n",
      "49\n",
      "50\n",
      "51\n",
      "52\n",
      "53\n",
      "54\n",
      "55\n",
      "56\n",
      "57\n",
      "58\n",
      "59\n",
      "60\n",
      "61\n",
      "Its time for retirement\n"
     ]
    }
   ],
   "source": [
    "# while loop\n",
    "joining_age=25\n",
    "while joining_age<=60:\n",
    "    joining_age=joining_age+1\n",
    "    print(joining_age)\n",
    "else:\n",
    "    print(\"Its time for retirement\")"
   ]
  },
  {
   "cell_type": "code",
   "execution_count": 20,
   "id": "94850cff-31de-46f2-a0bf-46caf92876cf",
   "metadata": {},
   "outputs": [
    {
     "name": "stdout",
     "output_type": "stream",
     "text": [
      "Akshat\n"
     ]
    }
   ],
   "source": [
    "print(\"Akshat\")"
   ]
  },
  {
   "cell_type": "code",
   "execution_count": 21,
   "id": "af60bb2a-9dc2-4b6d-9a10-36e8b6533987",
   "metadata": {},
   "outputs": [
    {
     "name": "stdout",
     "output_type": "stream",
     "text": [
      "Put more money bank people\n"
     ]
    }
   ],
   "source": [
    "### Atm Machine with 1000 rs\n",
    "total_amount=1000\n",
    "while total_amount!=0:\n",
    "    total_amount=total_amount-100\n",
    "else:\n",
    "    print(\"Put more money bank people\")"
   ]
  },
  {
   "cell_type": "markdown",
   "id": "0a1623d5-544e-47d6-be57-1279a2232659",
   "metadata": {},
   "source": [
    "# For Loop"
   ]
  },
  {
   "cell_type": "code",
   "execution_count": 24,
   "id": "7c9efe92-3751-42d9-9921-02889ecddd45",
   "metadata": {},
   "outputs": [],
   "source": [
    "st =[\"Akshat\",1,2,3,4,\"apple\",\"banana\"]\n"
   ]
  },
  {
   "cell_type": "code",
   "execution_count": 25,
   "id": "e55ef601-20b5-4b28-b68a-3fa5ce89051e",
   "metadata": {},
   "outputs": [
    {
     "data": {
      "text/plain": [
       "list"
      ]
     },
     "execution_count": 25,
     "metadata": {},
     "output_type": "execute_result"
    }
   ],
   "source": [
    "type(st)"
   ]
  },
  {
   "cell_type": "code",
   "execution_count": null,
   "id": "48ca1bf3-9369-49d6-99c5-a59bffeed8be",
   "metadata": {},
   "outputs": [],
   "source": [
    "fruits_list=[\"mango\",\"Cherry\",\"Apple\",\"Papaya\",\"Banana\"]"
   ]
  },
  {
   "cell_type": "code",
   "execution_count": 28,
   "id": "41dde153-34ba-4f86-9963-a4ded72a6ce2",
   "metadata": {},
   "outputs": [
    {
     "name": "stdout",
     "output_type": "stream",
     "text": [
      "mango\n",
      "Cherry\n",
      "Apple\n",
      "Papaya\n",
      "Banana\n"
     ]
    }
   ],
   "source": [
    "fruits_list=[\"mango\",\"Cherry\",\"Apple\",\"Papaya\",\"Banana\"]\n",
    "for x in fruits_list:\n",
    "    print(x)"
   ]
  },
  {
   "cell_type": "code",
   "execution_count": 27,
   "id": "e2556291-29c4-447a-ab9f-8abc8a62afb4",
   "metadata": {},
   "outputs": [
    {
     "name": "stdout",
     "output_type": "stream",
     "text": [
      "*\n",
      "**\n",
      "***\n",
      "****\n",
      "*****\n",
      "******\n",
      "*******\n"
     ]
    }
   ],
   "source": [
    "### Nested loops\n",
    "n=7\n",
    "for i in range(0,n):\n",
    "    for j in range(0, i+1):\n",
    "        print(\"*\",end=\"\")\n",
    "    print(\"\\r\")\n"
   ]
  },
  {
   "cell_type": "markdown",
   "id": "c4471496-598c-4fef-991b-abd0cc5f2111",
   "metadata": {},
   "source": [
    "# Assignment\n"
   ]
  },
  {
   "cell_type": "code",
   "execution_count": 31,
   "id": "b6b51f60-1822-4d57-b096-709ce0aa99e7",
   "metadata": {},
   "outputs": [
    {
     "name": "stdin",
     "output_type": "stream",
     "text": [
      "Enter the no. of rows in triangle: 17\n"
     ]
    },
    {
     "name": "stdout",
     "output_type": "stream",
     "text": [
      "                                * \n",
      "                               * * \n",
      "                              * * * \n",
      "                             * * * * \n",
      "                            * * * * * \n",
      "                           * * * * * * \n",
      "                          * * * * * * * \n",
      "                         * * * * * * * * \n",
      "                        * * * * * * * * * \n",
      "                       * * * * * * * * * * \n",
      "                      * * * * * * * * * * * \n",
      "                     * * * * * * * * * * * * \n",
      "                    * * * * * * * * * * * * * \n",
      "                   * * * * * * * * * * * * * * \n",
      "                  * * * * * * * * * * * * * * * \n",
      "                 * * * * * * * * * * * * * * * * \n",
      "                * * * * * * * * * * * * * * * * * \n"
     ]
    }
   ],
   "source": [
    "# print equilateral triangle of *\n",
    "n=int(input(\"Enter the no. of rows in triangle:\"))\n",
    "m=(2*n)-2\n",
    "for i in range(0,n):\n",
    "    for j in range(0,m):\n",
    "        print(end=\" \")\n",
    "    m=m-1\n",
    "    for j in range(0,i+1):\n",
    "        print(\"*\",end=\" \")\n",
    "    print()\n"
   ]
  },
  {
   "cell_type": "code",
   "execution_count": null,
   "id": "6e8dd9c3-0ca3-412b-b52e-827ea2c8cd22",
   "metadata": {},
   "outputs": [],
   "source": [
    "##loop controls \n",
    "## Break And Continue\n"
   ]
  },
  {
   "cell_type": "code",
   "execution_count": null,
   "id": "89d2ddf5-c042-45a1-94f4-48505bbcc0a2",
   "metadata": {},
   "outputs": [],
   "source": []
  }
 ],
 "metadata": {
  "kernelspec": {
   "display_name": "Python 3 (ipykernel)",
   "language": "python",
   "name": "python3"
  },
  "language_info": {
   "codemirror_mode": {
    "name": "ipython",
    "version": 3
   },
   "file_extension": ".py",
   "mimetype": "text/x-python",
   "name": "python",
   "nbconvert_exporter": "python",
   "pygments_lexer": "ipython3",
   "version": "3.10.8"
  }
 },
 "nbformat": 4,
 "nbformat_minor": 5
}
