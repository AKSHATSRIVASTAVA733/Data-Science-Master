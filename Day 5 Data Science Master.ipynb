{
 "cells": [
  {
   "cell_type": "markdown",
   "id": "99542c4f-0f51-45e7-9790-fb4a0cf06487",
   "metadata": {},
   "source": [
    "# Tuples"
   ]
  },
  {
   "cell_type": "code",
   "execution_count": 15,
   "id": "2e0528b1-128a-4176-aa04-b0fb1e45e944",
   "metadata": {},
   "outputs": [],
   "source": [
    "t=()"
   ]
  },
  {
   "cell_type": "code",
   "execution_count": 16,
   "id": "d2719aa0-803e-434e-abcc-ed1e03fe254e",
   "metadata": {},
   "outputs": [
    {
     "data": {
      "text/plain": [
       "tuple"
      ]
     },
     "execution_count": 16,
     "metadata": {},
     "output_type": "execute_result"
    }
   ],
   "source": [
    "type(t)"
   ]
  },
  {
   "cell_type": "code",
   "execution_count": 17,
   "id": "236db81e-8607-432f-b817-6aa70bdbeac7",
   "metadata": {},
   "outputs": [],
   "source": [
    "t1=(1,2,3,4,45,45.45,\"sudh\",True)"
   ]
  },
  {
   "cell_type": "code",
   "execution_count": 18,
   "id": "e579318c-c978-4473-8a30-31318ccfd94b",
   "metadata": {},
   "outputs": [
    {
     "data": {
      "text/plain": [
       "tuple"
      ]
     },
     "execution_count": 18,
     "metadata": {},
     "output_type": "execute_result"
    }
   ],
   "source": [
    "type(t1)"
   ]
  },
  {
   "cell_type": "code",
   "execution_count": 19,
   "id": "d1bc3ffe-efa5-46b9-becc-8f7e5896772a",
   "metadata": {},
   "outputs": [],
   "source": [
    " l=[1,2,3,4]"
   ]
  },
  {
   "cell_type": "code",
   "execution_count": 20,
   "id": "7a570ceb-937c-4824-9ac2-5d74dbbfddf3",
   "metadata": {},
   "outputs": [
    {
     "data": {
      "text/plain": [
       "list"
      ]
     },
     "execution_count": 20,
     "metadata": {},
     "output_type": "execute_result"
    }
   ],
   "source": [
    "type(l)"
   ]
  },
  {
   "cell_type": "code",
   "execution_count": 21,
   "id": "15af805c-4014-4b28-ba43-742177c8b5b7",
   "metadata": {},
   "outputs": [
    {
     "data": {
      "text/plain": [
       "(1, 2, 3, 4, 45, 45.45, 'sudh', True)"
      ]
     },
     "execution_count": 21,
     "metadata": {},
     "output_type": "execute_result"
    }
   ],
   "source": [
    "t1"
   ]
  },
  {
   "cell_type": "code",
   "execution_count": 22,
   "id": "5fde7b82-fa28-401a-bf05-44d3f65d0e6a",
   "metadata": {},
   "outputs": [
    {
     "data": {
      "text/plain": [
       "1"
      ]
     },
     "execution_count": 22,
     "metadata": {},
     "output_type": "execute_result"
    }
   ],
   "source": [
    "t1[0]"
   ]
  },
  {
   "cell_type": "code",
   "execution_count": 23,
   "id": "5298dd9d-7a6b-4c03-8046-e76522dbda82",
   "metadata": {},
   "outputs": [
    {
     "data": {
      "text/plain": [
       "True"
      ]
     },
     "execution_count": 23,
     "metadata": {},
     "output_type": "execute_result"
    }
   ],
   "source": [
    "t1[7]"
   ]
  },
  {
   "cell_type": "code",
   "execution_count": 24,
   "id": "b7b3c67e-886c-44a0-b4d2-b64276cbf626",
   "metadata": {},
   "outputs": [],
   "source": [
    "t1=t1[::-1]"
   ]
  },
  {
   "cell_type": "code",
   "execution_count": 25,
   "id": "5a381aae-c0a4-463b-841c-e09baff5563f",
   "metadata": {},
   "outputs": [
    {
     "data": {
      "text/plain": [
       "(True, 'sudh', 45.45, 45, 4, 3, 2, 1)"
      ]
     },
     "execution_count": 25,
     "metadata": {},
     "output_type": "execute_result"
    }
   ],
   "source": [
    "t1"
   ]
  },
  {
   "cell_type": "code",
   "execution_count": 26,
   "id": "5e6d0fdf-e8e8-4302-8ca4-29b529025cf7",
   "metadata": {},
   "outputs": [
    {
     "data": {
      "text/plain": [
       "(True, 'sudh', 45.45)"
      ]
     },
     "execution_count": 26,
     "metadata": {},
     "output_type": "execute_result"
    }
   ],
   "source": [
    "t1[0:3]"
   ]
  },
  {
   "cell_type": "code",
   "execution_count": 27,
   "id": "f3816d87-fd4e-4c0c-a966-6c7445790b43",
   "metadata": {},
   "outputs": [
    {
     "data": {
      "text/plain": [
       "1"
      ]
     },
     "execution_count": 27,
     "metadata": {},
     "output_type": "execute_result"
    }
   ],
   "source": [
    "t1.count(4)"
   ]
  },
  {
   "cell_type": "code",
   "execution_count": 28,
   "id": "b18389ce-4cc9-45b7-8d34-23ef17fb84f7",
   "metadata": {},
   "outputs": [
    {
     "data": {
      "text/plain": [
       "0"
      ]
     },
     "execution_count": 28,
     "metadata": {},
     "output_type": "execute_result"
    }
   ],
   "source": [
    "t1.count(\"abc\")"
   ]
  },
  {
   "cell_type": "code",
   "execution_count": 29,
   "id": "e25c9691-5d79-470b-bf88-20341b59a429",
   "metadata": {},
   "outputs": [
    {
     "data": {
      "text/plain": [
       "4"
      ]
     },
     "execution_count": 29,
     "metadata": {},
     "output_type": "execute_result"
    }
   ],
   "source": [
    "t1.index(4)"
   ]
  },
  {
   "cell_type": "code",
   "execution_count": 30,
   "id": "56e53f16-ec3a-466d-af28-c0f6ec593325",
   "metadata": {},
   "outputs": [
    {
     "data": {
      "text/plain": [
       "2"
      ]
     },
     "execution_count": 30,
     "metadata": {},
     "output_type": "execute_result"
    }
   ],
   "source": [
    "t1.index(45.45)"
   ]
  },
  {
   "cell_type": "code",
   "execution_count": 31,
   "id": "fa2c5268-c0b3-4af2-9ae8-05063fa1f4ba",
   "metadata": {},
   "outputs": [
    {
     "data": {
      "text/plain": [
       "0"
      ]
     },
     "execution_count": 31,
     "metadata": {},
     "output_type": "execute_result"
    }
   ],
   "source": [
    "t1.index(1)"
   ]
  },
  {
   "cell_type": "code",
   "execution_count": 32,
   "id": "e09d25bc-23b8-4774-b472-9f891f32434f",
   "metadata": {},
   "outputs": [
    {
     "data": {
      "text/plain": [
       "0"
      ]
     },
     "execution_count": 32,
     "metadata": {},
     "output_type": "execute_result"
    }
   ],
   "source": [
    "t1.index(True)"
   ]
  },
  {
   "cell_type": "code",
   "execution_count": 33,
   "id": "f137092d-e2c9-451d-8001-205f8b215c3c",
   "metadata": {},
   "outputs": [
    {
     "data": {
      "text/plain": [
       "[1, 2, 3, 4]"
      ]
     },
     "execution_count": 33,
     "metadata": {},
     "output_type": "execute_result"
    }
   ],
   "source": [
    "l"
   ]
  },
  {
   "cell_type": "code",
   "execution_count": 34,
   "id": "ea7dcf93-00b2-4886-9f8c-32307f5b2bb5",
   "metadata": {},
   "outputs": [
    {
     "data": {
      "text/plain": [
       "(True, 'sudh', 45.45, 45, 4, 3, 2, 1)"
      ]
     },
     "execution_count": 34,
     "metadata": {},
     "output_type": "execute_result"
    }
   ],
   "source": [
    "t1"
   ]
  },
  {
   "cell_type": "code",
   "execution_count": 35,
   "id": "03314375-fa44-40de-9e35-b5e40c7e6287",
   "metadata": {},
   "outputs": [
    {
     "ename": "TypeError",
     "evalue": "'tuple' object does not support item assignment",
     "output_type": "error",
     "traceback": [
      "\u001b[0;31m---------------------------------------------------------------------------\u001b[0m",
      "\u001b[0;31mTypeError\u001b[0m                                 Traceback (most recent call last)",
      "Cell \u001b[0;32mIn[35], line 1\u001b[0m\n\u001b[0;32m----> 1\u001b[0m \u001b[43mt1\u001b[49m\u001b[43m[\u001b[49m\u001b[38;5;241;43m0\u001b[39;49m\u001b[43m]\u001b[49m\u001b[38;5;241m=\u001b[39m\u001b[38;5;241m345\u001b[39m\n",
      "\u001b[0;31mTypeError\u001b[0m: 'tuple' object does not support item assignment"
     ]
    }
   ],
   "source": [
    "t1[0]=345"
   ]
  },
  {
   "cell_type": "code",
   "execution_count": 36,
   "id": "a6dcb3e1-7eee-4898-9245-addf0fc79b1f",
   "metadata": {},
   "outputs": [],
   "source": [
    "l[1]=100"
   ]
  },
  {
   "cell_type": "code",
   "execution_count": 37,
   "id": "74e109b2-9bf8-486c-a4cf-51b2531794d6",
   "metadata": {},
   "outputs": [
    {
     "data": {
      "text/plain": [
       "[1, 100, 3, 4]"
      ]
     },
     "execution_count": 37,
     "metadata": {},
     "output_type": "execute_result"
    }
   ],
   "source": [
    "l"
   ]
  },
  {
   "cell_type": "markdown",
   "id": "663ebfd4-5b50-4d05-a27c-19ab29ca4da0",
   "metadata": {
    "tags": []
   },
   "source": [
    "### tuples are Immutable"
   ]
  },
  {
   "cell_type": "code",
   "execution_count": 38,
   "id": "2e3b0f41-c8f8-4dbd-8dba-e5e460599112",
   "metadata": {},
   "outputs": [
    {
     "name": "stdout",
     "output_type": "stream",
     "text": [
      "True\n",
      "sudh\n",
      "45.45\n",
      "45\n",
      "4\n",
      "3\n",
      "2\n",
      "1\n"
     ]
    }
   ],
   "source": [
    "for i in t1:\n",
    "    print(i)"
   ]
  },
  {
   "cell_type": "code",
   "execution_count": 39,
   "id": "a6c2fec8-8eea-4ffd-a468-a014965299a0",
   "metadata": {},
   "outputs": [
    {
     "name": "stdout",
     "output_type": "stream",
     "text": [
      "True <class 'bool'>\n",
      "sudh <class 'str'>\n",
      "45.45 <class 'float'>\n",
      "45 <class 'int'>\n",
      "4 <class 'int'>\n",
      "3 <class 'int'>\n",
      "2 <class 'int'>\n",
      "1 <class 'int'>\n"
     ]
    }
   ],
   "source": [
    "for i in t1:\n",
    "    print(i,type(i))"
   ]
  },
  {
   "cell_type": "code",
   "execution_count": 40,
   "id": "fb24f856-bcf2-4dc0-af09-107234b6c011",
   "metadata": {},
   "outputs": [],
   "source": [
    "t2=(1,2,3,4,5)"
   ]
  },
  {
   "cell_type": "code",
   "execution_count": 41,
   "id": "68d07dff-e3c5-4a8a-b9e1-d2b6656361d0",
   "metadata": {},
   "outputs": [
    {
     "data": {
      "text/plain": [
       "(1, 2, 3, 4, 5)"
      ]
     },
     "execution_count": 41,
     "metadata": {},
     "output_type": "execute_result"
    }
   ],
   "source": [
    "t2"
   ]
  },
  {
   "cell_type": "code",
   "execution_count": 42,
   "id": "36e1be4c-4e3d-48b9-9a45-471b18d6264e",
   "metadata": {},
   "outputs": [
    {
     "data": {
      "text/plain": [
       "(1, 2, 3, 4, 5, 1, 2, 3, 4, 5, 1, 2, 3, 4, 5)"
      ]
     },
     "execution_count": 42,
     "metadata": {},
     "output_type": "execute_result"
    }
   ],
   "source": [
    "t2*3"
   ]
  },
  {
   "cell_type": "code",
   "execution_count": 43,
   "id": "ae4afc76-696c-4df6-baa3-a3ac323d9aa6",
   "metadata": {},
   "outputs": [
    {
     "data": {
      "text/plain": [
       "5"
      ]
     },
     "execution_count": 43,
     "metadata": {},
     "output_type": "execute_result"
    }
   ],
   "source": [
    "max(t2)"
   ]
  },
  {
   "cell_type": "code",
   "execution_count": 44,
   "id": "f49d0588-fe71-4a3c-a27f-c2a14b5808a2",
   "metadata": {},
   "outputs": [
    {
     "data": {
      "text/plain": [
       "1"
      ]
     },
     "execution_count": 44,
     "metadata": {},
     "output_type": "execute_result"
    }
   ],
   "source": [
    "min(t2)"
   ]
  },
  {
   "cell_type": "markdown",
   "id": "97b39353-a45a-4958-ae4b-592b84102901",
   "metadata": {},
   "source": [
    "*** Tuple are basically follows immutability concepts where it is not going to change any element of a particular inder***"
   ]
  },
  {
   "cell_type": "code",
   "execution_count": 45,
   "id": "be4ad005-e543-4fb3-b32a-51059d2fff84",
   "metadata": {},
   "outputs": [],
   "source": [
    "t1=(1,2,3,4)\n",
    "t2=(4,5,6,7,8,9)"
   ]
  },
  {
   "cell_type": "code",
   "execution_count": 46,
   "id": "60c4736f-7914-4e09-aee7-41f78fa6183e",
   "metadata": {},
   "outputs": [],
   "source": [
    "t3=(t1,t2)"
   ]
  },
  {
   "cell_type": "code",
   "execution_count": 47,
   "id": "65540423-491c-47da-938d-16faddd5eb5d",
   "metadata": {},
   "outputs": [
    {
     "data": {
      "text/plain": [
       "((1, 2, 3, 4), (4, 5, 6, 7, 8, 9))"
      ]
     },
     "execution_count": 47,
     "metadata": {},
     "output_type": "execute_result"
    }
   ],
   "source": [
    "t3"
   ]
  },
  {
   "cell_type": "code",
   "execution_count": 48,
   "id": "bf35bfb8-16f0-4203-9f5c-e87b41902a1a",
   "metadata": {},
   "outputs": [],
   "source": [
    " t4=([1,2,3,4,5],(6,7,8,9))"
   ]
  },
  {
   "cell_type": "code",
   "execution_count": 49,
   "id": "c5ea68dd-e2c8-49d4-97b0-fe79b27d67f9",
   "metadata": {},
   "outputs": [
    {
     "data": {
      "text/plain": [
       "([1, 2, 3, 4, 5], (6, 7, 8, 9))"
      ]
     },
     "execution_count": 49,
     "metadata": {},
     "output_type": "execute_result"
    }
   ],
   "source": [
    "t4"
   ]
  },
  {
   "cell_type": "code",
   "execution_count": 50,
   "id": "24e03691-eac8-46f2-93d0-19ed36b6c485",
   "metadata": {},
   "outputs": [],
   "source": [
    "del t4"
   ]
  },
  {
   "cell_type": "code",
   "execution_count": 51,
   "id": "650f1b69-a371-49f4-933c-2c2b312c1b79",
   "metadata": {},
   "outputs": [
    {
     "ename": "NameError",
     "evalue": "name 't4' is not defined",
     "output_type": "error",
     "traceback": [
      "\u001b[0;31m---------------------------------------------------------------------------\u001b[0m",
      "\u001b[0;31mNameError\u001b[0m                                 Traceback (most recent call last)",
      "Cell \u001b[0;32mIn[51], line 1\u001b[0m\n\u001b[0;32m----> 1\u001b[0m \u001b[43mt4\u001b[49m\n",
      "\u001b[0;31mNameError\u001b[0m: name 't4' is not defined"
     ]
    }
   ],
   "source": [
    "t4"
   ]
  },
  {
   "cell_type": "code",
   "execution_count": 52,
   "id": "549e87bc-da15-4b39-bb04-835d36300385",
   "metadata": {},
   "outputs": [
    {
     "data": {
      "text/plain": [
       "(1, 2, 3, 4)"
      ]
     },
     "execution_count": 52,
     "metadata": {},
     "output_type": "execute_result"
    }
   ],
   "source": [
    "t1"
   ]
  },
  {
   "cell_type": "code",
   "execution_count": 53,
   "id": "af9a8e17-dee4-4e2d-8121-8f83e37dcd80",
   "metadata": {},
   "outputs": [
    {
     "data": {
      "text/plain": [
       "4"
      ]
     },
     "execution_count": 53,
     "metadata": {},
     "output_type": "execute_result"
    }
   ],
   "source": [
    "len(t1)"
   ]
  },
  {
   "cell_type": "code",
   "execution_count": 54,
   "id": "3f7d2c4d-3b6c-48ad-954a-c0122be134b0",
   "metadata": {},
   "outputs": [
    {
     "data": {
      "text/plain": [
       "(1, 2, 3, 4)"
      ]
     },
     "execution_count": 54,
     "metadata": {},
     "output_type": "execute_result"
    }
   ],
   "source": [
    "t1"
   ]
  },
  {
   "cell_type": "code",
   "execution_count": 55,
   "id": "a811b9ac-3c6c-4d94-8ae0-2bd70c51654b",
   "metadata": {},
   "outputs": [
    {
     "data": {
      "text/plain": [
       "False"
      ]
     },
     "execution_count": 55,
     "metadata": {},
     "output_type": "execute_result"
    }
   ],
   "source": [
    "\"sudh\" in t1"
   ]
  },
  {
   "cell_type": "code",
   "execution_count": 56,
   "id": "5639409e-865d-442b-ad1d-f759c761664f",
   "metadata": {},
   "outputs": [
    {
     "data": {
      "text/plain": [
       "False"
      ]
     },
     "execution_count": 56,
     "metadata": {},
     "output_type": "execute_result"
    }
   ],
   "source": [
    "6 in t1"
   ]
  },
  {
   "cell_type": "markdown",
   "id": "a09c88c8-ad11-4267-a6cf-5d039ae6c79b",
   "metadata": {},
   "source": [
    "# Sets"
   ]
  },
  {
   "cell_type": "code",
   "execution_count": 57,
   "id": "c7198729-b8fb-42d5-9103-49b2212a55ce",
   "metadata": {},
   "outputs": [],
   "source": [
    "s={}"
   ]
  },
  {
   "cell_type": "code",
   "execution_count": 58,
   "id": "a616e92c-ad10-45f1-a271-b7585fd147d7",
   "metadata": {},
   "outputs": [
    {
     "data": {
      "text/plain": [
       "dict"
      ]
     },
     "execution_count": 58,
     "metadata": {},
     "output_type": "execute_result"
    }
   ],
   "source": [
    "type(s)"
   ]
  },
  {
   "cell_type": "code",
   "execution_count": 59,
   "id": "82281726-03b2-440c-90e2-86ecffe5cd0a",
   "metadata": {},
   "outputs": [],
   "source": [
    "s1={1,2,3,4,5}"
   ]
  },
  {
   "cell_type": "code",
   "execution_count": 60,
   "id": "943daf2b-33a0-40a5-b4a0-89d887fc10cb",
   "metadata": {},
   "outputs": [
    {
     "data": {
      "text/plain": [
       "set"
      ]
     },
     "execution_count": 60,
     "metadata": {},
     "output_type": "execute_result"
    }
   ],
   "source": [
    "type(s1)"
   ]
  },
  {
   "cell_type": "code",
   "execution_count": 61,
   "id": "da13199c-70b9-4143-8257-e12d84cb4d55",
   "metadata": {},
   "outputs": [],
   "source": [
    "s2={1,1,12,3,3,3,4,5,46,3,42,14,5,66,44}"
   ]
  },
  {
   "cell_type": "code",
   "execution_count": 62,
   "id": "b4b4117a-05ea-4281-b979-4523132de720",
   "metadata": {},
   "outputs": [
    {
     "data": {
      "text/plain": [
       "{1, 3, 4, 5, 12, 14, 42, 44, 46, 66}"
      ]
     },
     "execution_count": 62,
     "metadata": {},
     "output_type": "execute_result"
    }
   ],
   "source": [
    "s2"
   ]
  },
  {
   "cell_type": "markdown",
   "id": "b6cfca91-d668-400c-a517-8a8151f8a523",
   "metadata": {},
   "source": [
    "*** it remove all duplicate elements and arrangeit ***"
   ]
  },
  {
   "cell_type": "code",
   "execution_count": 63,
   "id": "0d703cca-f572-46a9-883e-7f97c84693d0",
   "metadata": {},
   "outputs": [],
   "source": [
    "l=list(s2)"
   ]
  },
  {
   "cell_type": "code",
   "execution_count": 64,
   "id": "ddd97288-ef80-489f-94f8-79af7c5dd6a6",
   "metadata": {},
   "outputs": [
    {
     "data": {
      "text/plain": [
       "(1, 66, 3, 4, 5, 42, 12, 44, 46, 14)"
      ]
     },
     "execution_count": 64,
     "metadata": {},
     "output_type": "execute_result"
    }
   ],
   "source": [
    "tuple(s2)"
   ]
  },
  {
   "cell_type": "code",
   "execution_count": 65,
   "id": "3eba544c-1d97-450f-9534-189218d0071c",
   "metadata": {},
   "outputs": [
    {
     "data": {
      "text/plain": [
       "{1, 3, 4, 5, 12, 14, 42, 44, 46, 66}"
      ]
     },
     "execution_count": 65,
     "metadata": {},
     "output_type": "execute_result"
    }
   ],
   "source": [
    "set(l)"
   ]
  },
  {
   "cell_type": "code",
   "execution_count": 66,
   "id": "e386ba0d-4899-4e9a-9831-3b888ac95145",
   "metadata": {},
   "outputs": [
    {
     "ename": "TypeError",
     "evalue": "unhashable type: 'set'",
     "output_type": "error",
     "traceback": [
      "\u001b[0;31m---------------------------------------------------------------------------\u001b[0m",
      "\u001b[0;31mTypeError\u001b[0m                                 Traceback (most recent call last)",
      "Cell \u001b[0;32mIn[66], line 1\u001b[0m\n\u001b[0;32m----> 1\u001b[0m s4\u001b[38;5;241m=\u001b[39m{\u001b[38;5;241m1\u001b[39m,\u001b[38;5;241m2\u001b[39m,\u001b[38;5;241m3\u001b[39m,\u001b[38;5;241m4\u001b[39m,{\u001b[38;5;241m1\u001b[39m,\u001b[38;5;241m2\u001b[39m,\u001b[38;5;241m3\u001b[39m,\u001b[38;5;241m4\u001b[39m,\u001b[38;5;241m5\u001b[39m}}\n",
      "\u001b[0;31mTypeError\u001b[0m: unhashable type: 'set'"
     ]
    }
   ],
   "source": [
    "s4={1,2,3,4,{1,2,3,4,5}}"
   ]
  },
  {
   "cell_type": "code",
   "execution_count": 67,
   "id": "68e72b83-640c-423e-be62-6512c38b6438",
   "metadata": {},
   "outputs": [],
   "source": [
    "s5={1,2,3,4,(1,2,3,4)}"
   ]
  },
  {
   "cell_type": "code",
   "execution_count": 68,
   "id": "23ccffd1-98b5-49aa-892e-6eb5a49c4858",
   "metadata": {},
   "outputs": [
    {
     "data": {
      "text/plain": [
       "{(1, 2, 3, 4), 1, 2, 3, 4}"
      ]
     },
     "execution_count": 68,
     "metadata": {},
     "output_type": "execute_result"
    }
   ],
   "source": [
    "s5"
   ]
  },
  {
   "cell_type": "code",
   "execution_count": 69,
   "id": "d82b1fb2-15a0-493d-980f-f2def716e29c",
   "metadata": {},
   "outputs": [],
   "source": [
    "s6={\"Akshat\",\"akahst\",(1,2,3,4),(4,6,7,8,9)}"
   ]
  },
  {
   "cell_type": "code",
   "execution_count": 70,
   "id": "1500ef2f-7a6d-49c5-af22-3fb4c79f868b",
   "metadata": {},
   "outputs": [
    {
     "data": {
      "text/plain": [
       "{(1, 2, 3, 4), (4, 6, 7, 8, 9), 'Akshat', 'akahst'}"
      ]
     },
     "execution_count": 70,
     "metadata": {},
     "output_type": "execute_result"
    }
   ],
   "source": [
    "s6"
   ]
  },
  {
   "cell_type": "code",
   "execution_count": 71,
   "id": "68559ef3-8681-4a9e-8b7e-3ffd55fdd7ae",
   "metadata": {},
   "outputs": [
    {
     "ename": "TypeError",
     "evalue": "'set' object is not subscriptable",
     "output_type": "error",
     "traceback": [
      "\u001b[0;31m---------------------------------------------------------------------------\u001b[0m",
      "\u001b[0;31mTypeError\u001b[0m                                 Traceback (most recent call last)",
      "Cell \u001b[0;32mIn[71], line 1\u001b[0m\n\u001b[0;32m----> 1\u001b[0m \u001b[43ms6\u001b[49m\u001b[43m[\u001b[49m\u001b[38;5;241;43m0\u001b[39;49m\u001b[43m]\u001b[49m\n",
      "\u001b[0;31mTypeError\u001b[0m: 'set' object is not subscriptable"
     ]
    }
   ],
   "source": [
    "s6[0]"
   ]
  },
  {
   "cell_type": "code",
   "execution_count": 72,
   "id": "bef27269-4d36-4b2b-935c-bd4fdc84a75c",
   "metadata": {},
   "outputs": [
    {
     "ename": "TypeError",
     "evalue": "'set' object is not subscriptable",
     "output_type": "error",
     "traceback": [
      "\u001b[0;31m---------------------------------------------------------------------------\u001b[0m",
      "\u001b[0;31mTypeError\u001b[0m                                 Traceback (most recent call last)",
      "Cell \u001b[0;32mIn[72], line 1\u001b[0m\n\u001b[0;32m----> 1\u001b[0m \u001b[43ms6\u001b[49m\u001b[43m[\u001b[49m\u001b[43m:\u001b[49m\u001b[43m:\u001b[49m\u001b[38;5;241;43m1\u001b[39;49m\u001b[43m]\u001b[49m\n",
      "\u001b[0;31mTypeError\u001b[0m: 'set' object is not subscriptable"
     ]
    }
   ],
   "source": [
    "s6[::1]"
   ]
  },
  {
   "cell_type": "code",
   "execution_count": 73,
   "id": "bfb4b4a7-eebc-41bb-b1f3-9e336a689bae",
   "metadata": {},
   "outputs": [
    {
     "name": "stdout",
     "output_type": "stream",
     "text": [
      "(1, 2, 3, 4)\n",
      "akahst\n",
      "(4, 6, 7, 8, 9)\n",
      "Akshat\n"
     ]
    }
   ],
   "source": [
    "for i in s6:\n",
    "    print(i)"
   ]
  },
  {
   "cell_type": "code",
   "execution_count": 74,
   "id": "599f30fa-b094-4970-a9a9-36344296e137",
   "metadata": {},
   "outputs": [],
   "source": [
    "s6.add(17)"
   ]
  },
  {
   "cell_type": "code",
   "execution_count": 75,
   "id": "527f2ab5-2f55-4134-8f07-b5926d4e033f",
   "metadata": {},
   "outputs": [
    {
     "data": {
      "text/plain": [
       "{(1, 2, 3, 4), (4, 6, 7, 8, 9), 17, 'Akshat', 'akahst'}"
      ]
     },
     "execution_count": 75,
     "metadata": {},
     "output_type": "execute_result"
    }
   ],
   "source": [
    "s6"
   ]
  },
  {
   "cell_type": "code",
   "execution_count": 76,
   "id": "f12593de-addf-4ee3-a83b-f3f97f2473e1",
   "metadata": {},
   "outputs": [
    {
     "data": {
      "text/plain": [
       "(1, 2, 3, 4)"
      ]
     },
     "execution_count": 76,
     "metadata": {},
     "output_type": "execute_result"
    }
   ],
   "source": [
    "s6.pop()"
   ]
  },
  {
   "cell_type": "code",
   "execution_count": 77,
   "id": "dc6fb51e-ff73-4b61-a9c3-6aaccaecdf10",
   "metadata": {},
   "outputs": [
    {
     "data": {
      "text/plain": [
       "17"
      ]
     },
     "execution_count": 77,
     "metadata": {},
     "output_type": "execute_result"
    }
   ],
   "source": [
    "s6.pop()"
   ]
  },
  {
   "cell_type": "code",
   "execution_count": 78,
   "id": "d0c85e17-32a6-4203-b4e2-f3a04f05191e",
   "metadata": {},
   "outputs": [],
   "source": [
    "s6.clear()"
   ]
  },
  {
   "cell_type": "code",
   "execution_count": 79,
   "id": "3caa4e89-4f25-4307-bcbb-5185ede0afaf",
   "metadata": {},
   "outputs": [
    {
     "data": {
      "text/plain": [
       "set()"
      ]
     },
     "execution_count": 79,
     "metadata": {},
     "output_type": "execute_result"
    }
   ],
   "source": [
    "s6"
   ]
  },
  {
   "cell_type": "code",
   "execution_count": 80,
   "id": "538c44f3-2252-4da8-8c4f-b7d01d10b865",
   "metadata": {},
   "outputs": [
    {
     "data": {
      "text/plain": [
       "{(1, 2, 3, 4), 1, 2, 3, 4}"
      ]
     },
     "execution_count": 80,
     "metadata": {},
     "output_type": "execute_result"
    }
   ],
   "source": [
    "s5.difference(s6)"
   ]
  },
  {
   "cell_type": "markdown",
   "id": "da3b776c-3cdd-484e-ae1b-54238d59f7d1",
   "metadata": {},
   "source": [
    "# Dictionary"
   ]
  },
  {
   "cell_type": "code",
   "execution_count": 81,
   "id": "95da3be9-116b-4d42-b52c-15423afa04aa",
   "metadata": {},
   "outputs": [],
   "source": [
    "d={}"
   ]
  },
  {
   "cell_type": "code",
   "execution_count": 82,
   "id": "5aed96e2-a6cc-47c4-88c1-fb5804cb6d5d",
   "metadata": {},
   "outputs": [
    {
     "data": {
      "text/plain": [
       "dict"
      ]
     },
     "execution_count": 82,
     "metadata": {},
     "output_type": "execute_result"
    }
   ],
   "source": [
    "type(d)"
   ]
  },
  {
   "cell_type": "code",
   "execution_count": 83,
   "id": "ff664485-d2dd-4944-96af-bee33df33990",
   "metadata": {},
   "outputs": [],
   "source": [
    "d1={\"name\":\"Akshat\",\"Email\":\"Srivastavaakshat686@gmail.com\",\"number\":7355746972}"
   ]
  },
  {
   "cell_type": "code",
   "execution_count": 84,
   "id": "60ed00a6-24c9-4dcb-96cf-a66228265893",
   "metadata": {},
   "outputs": [
    {
     "data": {
      "text/plain": [
       "{'name': 'Akshat',\n",
       " 'Email': 'Srivastavaakshat686@gmail.com',\n",
       " 'number': 7355746972}"
      ]
     },
     "execution_count": 84,
     "metadata": {},
     "output_type": "execute_result"
    }
   ],
   "source": [
    "d1"
   ]
  },
  {
   "cell_type": "code",
   "execution_count": 85,
   "id": "cacf9e3e-8adf-4f14-9ded-2176102c9ab7",
   "metadata": {},
   "outputs": [
    {
     "data": {
      "text/plain": [
       "dict"
      ]
     },
     "execution_count": 85,
     "metadata": {},
     "output_type": "execute_result"
    }
   ],
   "source": [
    "type(d1)"
   ]
  },
  {
   "cell_type": "code",
   "execution_count": 86,
   "id": "12a00219-743b-49ca-8f3f-ae241d1b0b9b",
   "metadata": {},
   "outputs": [],
   "source": [
    "d2={\"name\":\"Aayush\",\"name\":\"Akshat\"}"
   ]
  },
  {
   "cell_type": "code",
   "execution_count": 87,
   "id": "cc5a2d2a-b18d-41ae-a58e-3ac97cca35c5",
   "metadata": {},
   "outputs": [
    {
     "data": {
      "text/plain": [
       "{'name': 'Akshat'}"
      ]
     },
     "execution_count": 87,
     "metadata": {},
     "output_type": "execute_result"
    }
   ],
   "source": [
    "d2"
   ]
  },
  {
   "cell_type": "code",
   "execution_count": 88,
   "id": "07ea7254-124e-4a9d-845d-9865301fc288",
   "metadata": {},
   "outputs": [],
   "source": [
    "d3={23341:\"abc\"}"
   ]
  },
  {
   "cell_type": "code",
   "execution_count": 89,
   "id": "94c94324-9bb0-4e05-b551-644e2a5df31d",
   "metadata": {},
   "outputs": [
    {
     "data": {
      "text/plain": [
       "{23341: 'abc'}"
      ]
     },
     "execution_count": 89,
     "metadata": {},
     "output_type": "execute_result"
    }
   ],
   "source": [
    "d3"
   ]
  },
  {
   "cell_type": "code",
   "execution_count": 90,
   "id": "00a83c5e-92a1-4669-85b3-68418a105963",
   "metadata": {},
   "outputs": [],
   "source": [
    "d4={456.23:\"abc\"}"
   ]
  },
  {
   "cell_type": "code",
   "execution_count": 91,
   "id": "4af3abeb-9c41-4078-90fe-c1f6df3c483c",
   "metadata": {},
   "outputs": [
    {
     "data": {
      "text/plain": [
       "{456.23: 'abc'}"
      ]
     },
     "execution_count": 91,
     "metadata": {},
     "output_type": "execute_result"
    }
   ],
   "source": [
    "d4"
   ]
  },
  {
   "cell_type": "code",
   "execution_count": 92,
   "id": "07377392-5d8c-4ef7-9013-e603d5bc39ca",
   "metadata": {},
   "outputs": [],
   "source": [
    " d5={True:\"abc\"}"
   ]
  },
  {
   "cell_type": "code",
   "execution_count": 93,
   "id": "2ca3cd4e-7cbb-4a2a-9d7e-a777a064aaf4",
   "metadata": {},
   "outputs": [
    {
     "data": {
      "text/plain": [
       "{True: 'abc'}"
      ]
     },
     "execution_count": 93,
     "metadata": {},
     "output_type": "execute_result"
    }
   ],
   "source": [
    "d5"
   ]
  },
  {
   "cell_type": "code",
   "execution_count": 94,
   "id": "9ad0b4a7-22ca-4f05-8ced-46197d6caf4a",
   "metadata": {},
   "outputs": [
    {
     "ename": "SyntaxError",
     "evalue": "incomplete input (2725229618.py, line 1)",
     "output_type": "error",
     "traceback": [
      "\u001b[0;36m  Cell \u001b[0;32mIn[94], line 1\u001b[0;36m\u001b[0m\n\u001b[0;31m    d6={# : \"abc\"}\u001b[0m\n\u001b[0m                  ^\u001b[0m\n\u001b[0;31mSyntaxError\u001b[0m\u001b[0;31m:\u001b[0m incomplete input\n"
     ]
    }
   ],
   "source": [
    "d6={# : \"abc\"}"
   ]
  },
  {
   "cell_type": "code",
   "execution_count": 95,
   "id": "7226ff85-bdab-4216-86d5-773078155673",
   "metadata": {},
   "outputs": [],
   "source": [
    "d7={0:\"abc\"}"
   ]
  },
  {
   "cell_type": "code",
   "execution_count": 96,
   "id": "4e18d628-43db-4ce5-80ea-de59cb66fb3e",
   "metadata": {},
   "outputs": [
    {
     "data": {
      "text/plain": [
       "{0: 'abc'}"
      ]
     },
     "execution_count": 96,
     "metadata": {},
     "output_type": "execute_result"
    }
   ],
   "source": [
    "d7"
   ]
  },
  {
   "cell_type": "code",
   "execution_count": 97,
   "id": "3ccc0f28-df28-4ccb-8d2d-f6699e33ce1a",
   "metadata": {},
   "outputs": [
    {
     "ename": "TypeError",
     "evalue": "unhashable type: 'list'",
     "output_type": "error",
     "traceback": [
      "\u001b[0;31m---------------------------------------------------------------------------\u001b[0m",
      "\u001b[0;31mTypeError\u001b[0m                                 Traceback (most recent call last)",
      "Cell \u001b[0;32mIn[97], line 1\u001b[0m\n\u001b[0;32m----> 1\u001b[0m d8\u001b[38;5;241m=\u001b[39m{[\u001b[38;5;241m1\u001b[39m,\u001b[38;5;241m2\u001b[39m,\u001b[38;5;241m3\u001b[39m] : \u001b[38;5;124m\"\u001b[39m\u001b[38;5;124mabc\u001b[39m\u001b[38;5;124m\"\u001b[39m}\n",
      "\u001b[0;31mTypeError\u001b[0m: unhashable type: 'list'"
     ]
    }
   ],
   "source": [
    "d8={[1,2,3] : \"abc\"}"
   ]
  },
  {
   "cell_type": "code",
   "execution_count": 98,
   "id": "ae97c4c7-1607-4c9a-b47c-fe6d9937c462",
   "metadata": {},
   "outputs": [],
   "source": [
    "d9={(1,2,3):\"Akshat\"}"
   ]
  },
  {
   "cell_type": "code",
   "execution_count": 99,
   "id": "277b335c-f4d7-4324-99b0-53aa573989fa",
   "metadata": {},
   "outputs": [
    {
     "data": {
      "text/plain": [
       "{(1, 2, 3): 'Akshat'}"
      ]
     },
     "execution_count": 99,
     "metadata": {},
     "output_type": "execute_result"
    }
   ],
   "source": [
    "d9"
   ]
  },
  {
   "cell_type": "code",
   "execution_count": 100,
   "id": "8c33fa85-edf6-4764-85dc-f6bdb99c2900",
   "metadata": {},
   "outputs": [
    {
     "ename": "TypeError",
     "evalue": "unhashable type: 'set'",
     "output_type": "error",
     "traceback": [
      "\u001b[0;31m---------------------------------------------------------------------------\u001b[0m",
      "\u001b[0;31mTypeError\u001b[0m                                 Traceback (most recent call last)",
      "Cell \u001b[0;32mIn[100], line 1\u001b[0m\n\u001b[0;32m----> 1\u001b[0m d10\u001b[38;5;241m=\u001b[39m{{\u001b[38;5;241m1\u001b[39m,\u001b[38;5;241m2\u001b[39m,\u001b[38;5;241m3\u001b[39m,\u001b[38;5;241m4\u001b[39m} : \u001b[38;5;124m\"\u001b[39m\u001b[38;5;124mAkshat\u001b[39m\u001b[38;5;124m\"\u001b[39m}\n",
      "\u001b[0;31mTypeError\u001b[0m: unhashable type: 'set'"
     ]
    }
   ],
   "source": [
    "d10={{1,2,3,4} : \"Akshat\"}"
   ]
  },
  {
   "cell_type": "code",
   "execution_count": 101,
   "id": "b7432528-91b9-488a-b009-045429832dc4",
   "metadata": {},
   "outputs": [
    {
     "ename": "TypeError",
     "evalue": "unhashable type: 'dict'",
     "output_type": "error",
     "traceback": [
      "\u001b[0;31m---------------------------------------------------------------------------\u001b[0m",
      "\u001b[0;31mTypeError\u001b[0m                                 Traceback (most recent call last)",
      "Cell \u001b[0;32mIn[101], line 1\u001b[0m\n\u001b[0;32m----> 1\u001b[0m d11\u001b[38;5;241m=\u001b[39m{{\u001b[38;5;124m\"\u001b[39m\u001b[38;5;124mkey\u001b[39m\u001b[38;5;124m\"\u001b[39m:\u001b[38;5;241m2345\u001b[39m}:\u001b[38;5;124m\"\u001b[39m\u001b[38;5;124mAkshat\u001b[39m\u001b[38;5;124m\"\u001b[39m}\n",
      "\u001b[0;31mTypeError\u001b[0m: unhashable type: 'dict'"
     ]
    }
   ],
   "source": [
    "d11={{\"key\":2345}:\"Akshat\"}"
   ]
  },
  {
   "cell_type": "code",
   "execution_count": 102,
   "id": "a55e7dea-5d50-431e-bd9f-fb77dd17fa60",
   "metadata": {},
   "outputs": [],
   "source": [
    "s12={\"Course_name\":[\"Data Science Master\", \"Python\", \"Java\"]}"
   ]
  },
  {
   "cell_type": "code",
   "execution_count": 103,
   "id": "3fd5307b-8c33-469a-ae7a-6e58edf50508",
   "metadata": {},
   "outputs": [
    {
     "data": {
      "text/plain": [
       "{'Course_name': ['Data Science Master', 'Python', 'Java']}"
      ]
     },
     "execution_count": 103,
     "metadata": {},
     "output_type": "execute_result"
    }
   ],
   "source": [
    "s12"
   ]
  },
  {
   "cell_type": "code",
   "execution_count": 104,
   "id": "291eecd0-bf1a-452a-99f2-5835cfd66e91",
   "metadata": {},
   "outputs": [],
   "source": [
    "d13={\"key\":(1,2,3,4,5,6,7)}"
   ]
  },
  {
   "cell_type": "code",
   "execution_count": 105,
   "id": "cbf3c674-0ae9-4ad2-8b1a-da7b95d07e73",
   "metadata": {},
   "outputs": [
    {
     "data": {
      "text/plain": [
       "{'key': (1, 2, 3, 4, 5, 6, 7)}"
      ]
     },
     "execution_count": 105,
     "metadata": {},
     "output_type": "execute_result"
    }
   ],
   "source": [
    "d13"
   ]
  },
  {
   "cell_type": "code",
   "execution_count": 106,
   "id": "dfd7d6d7-ca56-44ff-a626-25b6eaf9a316",
   "metadata": {},
   "outputs": [],
   "source": [
    "d14={\"key\":{1,2,3,4,5,6,7}}"
   ]
  },
  {
   "cell_type": "code",
   "execution_count": 107,
   "id": "3e4a1f9a-1807-4067-9c31-95ac45ac64b1",
   "metadata": {},
   "outputs": [
    {
     "data": {
      "text/plain": [
       "{'key': {1, 2, 3, 4, 5, 6, 7}}"
      ]
     },
     "execution_count": 107,
     "metadata": {},
     "output_type": "execute_result"
    }
   ],
   "source": [
    "d14"
   ]
  },
  {
   "cell_type": "code",
   "execution_count": 108,
   "id": "fbb998d0-afb5-43d2-8c42-c27b210fa988",
   "metadata": {},
   "outputs": [],
   "source": [
    "d15={\"key\":{\"name\":\"Akshat\",\"Class\":\"Electrical Engineering\"}}"
   ]
  },
  {
   "cell_type": "code",
   "execution_count": 109,
   "id": "fabea034-4243-4c22-bd94-0da5f8c376d9",
   "metadata": {},
   "outputs": [
    {
     "data": {
      "text/plain": [
       "{'key': {'name': 'Akshat', 'Class': 'Electrical Engineering'}}"
      ]
     },
     "execution_count": 109,
     "metadata": {},
     "output_type": "execute_result"
    }
   ],
   "source": [
    "d15"
   ]
  },
  {
   "cell_type": "markdown",
   "id": "f15c7233-bee5-40b1-9ada-a4e9d2647635",
   "metadata": {},
   "source": [
    "*** Nested Dictionary ***"
   ]
  },
  {
   "cell_type": "code",
   "execution_count": 110,
   "id": "2328ad9b-ec1c-4dd3-abe4-54b24ba3dd66",
   "metadata": {},
   "outputs": [],
   "source": [
    "d16={\"Batch_name\":[\"Data Science Master\",\"Web Dev\",\"IOS\"],\"Start_Date\":(28,14,21), \"Mentors_Name\":{\"Krish Naik\",\"Akshat\",\"Aayush\",\"Anurag\"}}"
   ]
  },
  {
   "cell_type": "code",
   "execution_count": 111,
   "id": "08a63edf-d2d5-44a5-a02f-9073e6fd31ee",
   "metadata": {},
   "outputs": [
    {
     "data": {
      "text/plain": [
       "{'Batch_name': ['Data Science Master', 'Web Dev', 'IOS'],\n",
       " 'Start_Date': (28, 14, 21),\n",
       " 'Mentors_Name': {'Aayush', 'Akshat', 'Anurag', 'Krish Naik'}}"
      ]
     },
     "execution_count": 111,
     "metadata": {},
     "output_type": "execute_result"
    }
   ],
   "source": [
    "d16"
   ]
  },
  {
   "cell_type": "code",
   "execution_count": 112,
   "id": "bbbff489-a687-425e-97bc-67b5ad53ff0b",
   "metadata": {},
   "outputs": [],
   "source": [
    " d16[\"Timming\"]=(8,9,10)"
   ]
  },
  {
   "cell_type": "code",
   "execution_count": 113,
   "id": "eb787565-bacb-4ca1-8078-6c2cf7962867",
   "metadata": {},
   "outputs": [
    {
     "data": {
      "text/plain": [
       "{'Batch_name': ['Data Science Master', 'Web Dev', 'IOS'],\n",
       " 'Start_Date': (28, 14, 21),\n",
       " 'Mentors_Name': {'Aayush', 'Akshat', 'Anurag', 'Krish Naik'},\n",
       " 'Timming': (8, 9, 10)}"
      ]
     },
     "execution_count": 113,
     "metadata": {},
     "output_type": "execute_result"
    }
   ],
   "source": [
    "d16"
   ]
  },
  {
   "cell_type": "code",
   "execution_count": 114,
   "id": "b7eedaee-10eb-46c1-baf7-6f9056f953c3",
   "metadata": {},
   "outputs": [
    {
     "data": {
      "text/plain": [
       "['Data Science Master', 'Web Dev', 'IOS']"
      ]
     },
     "execution_count": 114,
     "metadata": {},
     "output_type": "execute_result"
    }
   ],
   "source": [
    "d16[\"Batch_name\"]"
   ]
  },
  {
   "cell_type": "code",
   "execution_count": 115,
   "id": "c52e567e-0a89-49bc-88fa-672b4a060bb9",
   "metadata": {},
   "outputs": [
    {
     "ename": "KeyError",
     "evalue": "'key'",
     "output_type": "error",
     "traceback": [
      "\u001b[0;31m---------------------------------------------------------------------------\u001b[0m",
      "\u001b[0;31mKeyError\u001b[0m                                  Traceback (most recent call last)",
      "Cell \u001b[0;32mIn[115], line 1\u001b[0m\n\u001b[0;32m----> 1\u001b[0m \u001b[43md16\u001b[49m\u001b[43m[\u001b[49m\u001b[38;5;124;43m\"\u001b[39;49m\u001b[38;5;124;43mkey\u001b[39;49m\u001b[38;5;124;43m\"\u001b[39;49m\u001b[43m]\u001b[49m\n",
      "\u001b[0;31mKeyError\u001b[0m: 'key'"
     ]
    }
   ],
   "source": [
    "d16[\"key\"]"
   ]
  },
  {
   "cell_type": "code",
   "execution_count": 116,
   "id": "9385b34a-0548-4316-bc67-9a53bb62f4a7",
   "metadata": {},
   "outputs": [],
   "source": [
    "d16[\"name\"]=\"Akshat Srivastava\""
   ]
  },
  {
   "cell_type": "code",
   "execution_count": 117,
   "id": "7588ff26-e6af-4eda-b2b7-c111b7f4c41a",
   "metadata": {},
   "outputs": [
    {
     "data": {
      "text/plain": [
       "{'Batch_name': ['Data Science Master', 'Web Dev', 'IOS'],\n",
       " 'Start_Date': (28, 14, 21),\n",
       " 'Mentors_Name': {'Aayush', 'Akshat', 'Anurag', 'Krish Naik'},\n",
       " 'Timming': (8, 9, 10),\n",
       " 'name': 'Akshat Srivastava'}"
      ]
     },
     "execution_count": 117,
     "metadata": {},
     "output_type": "execute_result"
    }
   ],
   "source": [
    "d16"
   ]
  },
  {
   "cell_type": "code",
   "execution_count": 118,
   "id": "2e2964bc-803d-41bf-a7ed-41ca853084b8",
   "metadata": {},
   "outputs": [
    {
     "data": {
      "text/plain": [
       "'AKSHAT SRIVASTAVA'"
      ]
     },
     "execution_count": 118,
     "metadata": {},
     "output_type": "execute_result"
    }
   ],
   "source": [
    "d16[\"name\"].upper()"
   ]
  },
  {
   "cell_type": "code",
   "execution_count": 119,
   "id": "ea6114a8-c147-4c79-ad2e-711575398857",
   "metadata": {},
   "outputs": [
    {
     "data": {
      "text/plain": [
       "{'name': 'Akshat', 'Class': 'Electrical Engineering'}"
      ]
     },
     "execution_count": 119,
     "metadata": {},
     "output_type": "execute_result"
    }
   ],
   "source": [
    "d15[\"key\"]"
   ]
  },
  {
   "cell_type": "code",
   "execution_count": 120,
   "id": "6c0c352d-f72e-4e65-8ed3-b883a6e17cf1",
   "metadata": {},
   "outputs": [
    {
     "data": {
      "text/plain": [
       "dict"
      ]
     },
     "execution_count": 120,
     "metadata": {},
     "output_type": "execute_result"
    }
   ],
   "source": [
    "type(d15[\"key\"])"
   ]
  },
  {
   "cell_type": "code",
   "execution_count": 121,
   "id": "ede69a5e-64d6-4e01-9e64-067fe1855bef",
   "metadata": {},
   "outputs": [],
   "source": [
    "d15[\"key1\"]=\"Prabhat\""
   ]
  },
  {
   "cell_type": "code",
   "execution_count": 122,
   "id": "c24659d8-09a7-4ae6-8b4f-918aef487428",
   "metadata": {},
   "outputs": [
    {
     "data": {
      "text/plain": [
       "{'key': {'name': 'Akshat', 'Class': 'Electrical Engineering'},\n",
       " 'key1': 'Prabhat'}"
      ]
     },
     "execution_count": 122,
     "metadata": {},
     "output_type": "execute_result"
    }
   ],
   "source": [
    "d15"
   ]
  },
  {
   "cell_type": "code",
   "execution_count": 123,
   "id": "ef7b3c37-35f4-429b-9935-c82de30e1f3f",
   "metadata": {},
   "outputs": [],
   "source": [
    "del d15[\"key1\"]"
   ]
  },
  {
   "cell_type": "code",
   "execution_count": 124,
   "id": "ecc0fd7f-0459-4351-a8cc-24ddd3df507a",
   "metadata": {},
   "outputs": [
    {
     "data": {
      "text/plain": [
       "{'key': {'name': 'Akshat', 'Class': 'Electrical Engineering'}}"
      ]
     },
     "execution_count": 124,
     "metadata": {},
     "output_type": "execute_result"
    }
   ],
   "source": [
    "d15"
   ]
  },
  {
   "cell_type": "code",
   "execution_count": 125,
   "id": "c2d7fbe5-fd15-49b8-9a73-51eb6e74cbc2",
   "metadata": {},
   "outputs": [],
   "source": [
    "d15.clear()"
   ]
  },
  {
   "cell_type": "code",
   "execution_count": 126,
   "id": "522b6eb7-b515-40e8-9c17-cf8c42232eba",
   "metadata": {},
   "outputs": [
    {
     "data": {
      "text/plain": [
       "{}"
      ]
     },
     "execution_count": 126,
     "metadata": {},
     "output_type": "execute_result"
    }
   ],
   "source": [
    "d15"
   ]
  },
  {
   "cell_type": "code",
   "execution_count": 127,
   "id": "61b2e624-2d5d-4830-a0bd-98ec691c91f2",
   "metadata": {},
   "outputs": [
    {
     "data": {
      "text/plain": [
       "5"
      ]
     },
     "execution_count": 127,
     "metadata": {},
     "output_type": "execute_result"
    }
   ],
   "source": [
    "len(d16)"
   ]
  },
  {
   "cell_type": "code",
   "execution_count": 128,
   "id": "5ea66962-39a3-4abb-9215-bbab459eb267",
   "metadata": {},
   "outputs": [
    {
     "data": {
      "text/plain": [
       "dict_keys(['Batch_name', 'Start_Date', 'Mentors_Name', 'Timming', 'name'])"
      ]
     },
     "execution_count": 128,
     "metadata": {},
     "output_type": "execute_result"
    }
   ],
   "source": [
    "d16.keys()"
   ]
  },
  {
   "cell_type": "code",
   "execution_count": 129,
   "id": "fa8749b1-42e3-43c9-a236-dd0094572361",
   "metadata": {},
   "outputs": [
    {
     "data": {
      "text/plain": [
       "dict_values([['Data Science Master', 'Web Dev', 'IOS'], (28, 14, 21), {'Krish Naik', 'Aayush', 'Akshat', 'Anurag'}, (8, 9, 10), 'Akshat Srivastava'])"
      ]
     },
     "execution_count": 129,
     "metadata": {},
     "output_type": "execute_result"
    }
   ],
   "source": [
    "d16.values()"
   ]
  },
  {
   "cell_type": "code",
   "execution_count": 130,
   "id": "f3638f03-aa69-46bd-bfd5-180e313d2340",
   "metadata": {},
   "outputs": [
    {
     "data": {
      "text/plain": [
       "[['Data Science Master', 'Web Dev', 'IOS'],\n",
       " (28, 14, 21),\n",
       " {'Aayush', 'Akshat', 'Anurag', 'Krish Naik'},\n",
       " (8, 9, 10),\n",
       " 'Akshat Srivastava']"
      ]
     },
     "execution_count": 130,
     "metadata": {},
     "output_type": "execute_result"
    }
   ],
   "source": [
    "list(d16.values())"
   ]
  },
  {
   "cell_type": "code",
   "execution_count": 131,
   "id": "5c854d00-4561-436b-afb8-12f4b3d02d4e",
   "metadata": {},
   "outputs": [
    {
     "data": {
      "text/plain": [
       "['Batch_name', 'Start_Date', 'Mentors_Name', 'Timming', 'name']"
      ]
     },
     "execution_count": 131,
     "metadata": {},
     "output_type": "execute_result"
    }
   ],
   "source": [
    "list(d16.keys())"
   ]
  },
  {
   "cell_type": "code",
   "execution_count": 132,
   "id": "3dcc6467-bb8e-405d-a12b-f4ee25bba1cc",
   "metadata": {},
   "outputs": [
    {
     "data": {
      "text/plain": [
       "dict_items([('Batch_name', ['Data Science Master', 'Web Dev', 'IOS']), ('Start_Date', (28, 14, 21)), ('Mentors_Name', {'Krish Naik', 'Aayush', 'Akshat', 'Anurag'}), ('Timming', (8, 9, 10)), ('name', 'Akshat Srivastava')])"
      ]
     },
     "execution_count": 132,
     "metadata": {},
     "output_type": "execute_result"
    }
   ],
   "source": [
    "d16.items()"
   ]
  },
  {
   "cell_type": "code",
   "execution_count": 133,
   "id": "754ed309-278f-447b-89f7-3d9338f2a654",
   "metadata": {},
   "outputs": [
    {
     "data": {
      "text/plain": [
       "[('Batch_name', ['Data Science Master', 'Web Dev', 'IOS']),\n",
       " ('Start_Date', (28, 14, 21)),\n",
       " ('Mentors_Name', {'Aayush', 'Akshat', 'Anurag', 'Krish Naik'}),\n",
       " ('Timming', (8, 9, 10)),\n",
       " ('name', 'Akshat Srivastava')]"
      ]
     },
     "execution_count": 133,
     "metadata": {},
     "output_type": "execute_result"
    }
   ],
   "source": [
    "list(d16.items())"
   ]
  },
  {
   "cell_type": "code",
   "execution_count": 134,
   "id": "0edcb73c-a6d2-420f-bbd5-a3550a783996",
   "metadata": {},
   "outputs": [
    {
     "data": {
      "text/plain": [
       "{'Batch_name': ['Data Science Master', 'Web Dev', 'IOS'],\n",
       " 'Start_Date': (28, 14, 21),\n",
       " 'Mentors_Name': {'Aayush', 'Akshat', 'Anurag', 'Krish Naik'},\n",
       " 'Timming': (8, 9, 10),\n",
       " 'name': 'Akshat Srivastava'}"
      ]
     },
     "execution_count": 134,
     "metadata": {},
     "output_type": "execute_result"
    }
   ],
   "source": [
    "d16"
   ]
  },
  {
   "cell_type": "code",
   "execution_count": 135,
   "id": "99015fef-ac55-4054-8e7e-117f49226921",
   "metadata": {},
   "outputs": [],
   "source": [
    "d17=d16.copy()"
   ]
  },
  {
   "cell_type": "code",
   "execution_count": 136,
   "id": "d2e5e51c-d31a-478f-8b07-02d4df2021da",
   "metadata": {},
   "outputs": [
    {
     "data": {
      "text/plain": [
       "{'Batch_name': ['Data Science Master', 'Web Dev', 'IOS'],\n",
       " 'Start_Date': (28, 14, 21),\n",
       " 'Mentors_Name': {'Aayush', 'Akshat', 'Anurag', 'Krish Naik'},\n",
       " 'Timming': (8, 9, 10),\n",
       " 'name': 'Akshat Srivastava'}"
      ]
     },
     "execution_count": 136,
     "metadata": {},
     "output_type": "execute_result"
    }
   ],
   "source": [
    "d17"
   ]
  },
  {
   "cell_type": "code",
   "execution_count": 140,
   "id": "57107b47-d3cf-4528-aaa5-cc75107eafae",
   "metadata": {},
   "outputs": [],
   "source": [
    "del d16[\"name\"]"
   ]
  },
  {
   "cell_type": "code",
   "execution_count": 142,
   "id": "3d11954a-a2a8-4136-8659-7594dd1aa3d4",
   "metadata": {},
   "outputs": [
    {
     "data": {
      "text/plain": [
       "{'Batch_name': ['Data Science Master', 'Web Dev', 'IOS'],\n",
       " 'Start_Date': (28, 14, 21),\n",
       " 'Mentors_Name': {'Aayush', 'Akshat', 'Anurag', 'Krish Naik'},\n",
       " 'Timming': (8, 9, 10)}"
      ]
     },
     "execution_count": 142,
     "metadata": {},
     "output_type": "execute_result"
    }
   ],
   "source": [
    "d16"
   ]
  },
  {
   "cell_type": "code",
   "execution_count": 141,
   "id": "50d7c5df-bcec-4464-b927-035265780e09",
   "metadata": {},
   "outputs": [
    {
     "data": {
      "text/plain": [
       "{'Batch_name': ['Data Science Master', 'Web Dev', 'IOS'],\n",
       " 'Start_Date': (28, 14, 21),\n",
       " 'Mentors_Name': {'Aayush', 'Akshat', 'Anurag', 'Krish Naik'},\n",
       " 'Timming': (8, 9, 10),\n",
       " 'name': 'Akshat Srivastava'}"
      ]
     },
     "execution_count": 141,
     "metadata": {},
     "output_type": "execute_result"
    }
   ],
   "source": [
    "d17"
   ]
  },
  {
   "cell_type": "code",
   "execution_count": 143,
   "id": "e5e21fd5-f663-47be-8ff6-860c57934fa8",
   "metadata": {},
   "outputs": [],
   "source": [
    "d18=d16"
   ]
  },
  {
   "cell_type": "code",
   "execution_count": 144,
   "id": "d65bb83e-00d8-4eb3-b473-46922925c6cb",
   "metadata": {},
   "outputs": [
    {
     "data": {
      "text/plain": [
       "{'Batch_name': ['Data Science Master', 'Web Dev', 'IOS'],\n",
       " 'Start_Date': (28, 14, 21),\n",
       " 'Mentors_Name': {'Aayush', 'Akshat', 'Anurag', 'Krish Naik'},\n",
       " 'Timming': (8, 9, 10)}"
      ]
     },
     "execution_count": 144,
     "metadata": {},
     "output_type": "execute_result"
    }
   ],
   "source": [
    "d18"
   ]
  },
  {
   "cell_type": "code",
   "execution_count": 145,
   "id": "329f6c67-7514-4992-b83a-aa07ddb626c0",
   "metadata": {},
   "outputs": [
    {
     "data": {
      "text/plain": [
       "{'Batch_name': ['Data Science Master', 'Web Dev', 'IOS'],\n",
       " 'Start_Date': (28, 14, 21),\n",
       " 'Mentors_Name': {'Aayush', 'Akshat', 'Anurag', 'Krish Naik'},\n",
       " 'Timming': (8, 9, 10)}"
      ]
     },
     "execution_count": 145,
     "metadata": {},
     "output_type": "execute_result"
    }
   ],
   "source": [
    "d16"
   ]
  },
  {
   "cell_type": "code",
   "execution_count": 146,
   "id": "1d539db6-2395-45cc-93e2-cbea91bbbe99",
   "metadata": {},
   "outputs": [
    {
     "data": {
      "text/plain": [
       "(8, 9, 10)"
      ]
     },
     "execution_count": 146,
     "metadata": {},
     "output_type": "execute_result"
    }
   ],
   "source": [
    "d16.pop(\"Timming\")"
   ]
  },
  {
   "cell_type": "code",
   "execution_count": 147,
   "id": "05e89270-4b07-4372-a219-eee2670fd94f",
   "metadata": {},
   "outputs": [
    {
     "data": {
      "text/plain": [
       "{'Batch_name': ['Data Science Master', 'Web Dev', 'IOS'],\n",
       " 'Start_Date': (28, 14, 21),\n",
       " 'Mentors_Name': {'Aayush', 'Akshat', 'Anurag', 'Krish Naik'}}"
      ]
     },
     "execution_count": 147,
     "metadata": {},
     "output_type": "execute_result"
    }
   ],
   "source": [
    "d16"
   ]
  },
  {
   "cell_type": "code",
   "execution_count": 148,
   "id": "dcf62a66-4bd4-48f1-a8f9-d90ba9671167",
   "metadata": {},
   "outputs": [
    {
     "data": {
      "text/plain": [
       "{1: ('a', 'b', 'c'),\n",
       " 2: ('a', 'b', 'c'),\n",
       " 3: ('a', 'b', 'c'),\n",
       " 4: ('a', 'b', 'c')}"
      ]
     },
     "execution_count": 148,
     "metadata": {},
     "output_type": "execute_result"
    }
   ],
   "source": [
    "d.fromkeys((1,2,3,4),(\"a\",\"b\",\"c\"))"
   ]
  },
  {
   "cell_type": "code",
   "execution_count": 154,
   "id": "98e04ce0-5ce7-46c2-bae4-3aac32e5d0a1",
   "metadata": {},
   "outputs": [],
   "source": [
    "d19={\"key1\":\"value\",\"key2\":\"value2\"}\n",
    "d20={\"key3\":\"value3\",\"key4\":\"value4\"}"
   ]
  },
  {
   "cell_type": "code",
   "execution_count": 155,
   "id": "bd5ae324-9615-45fa-ab36-cf40ae4369e3",
   "metadata": {},
   "outputs": [
    {
     "data": {
      "text/plain": [
       "({'key1': 'value', 'key2': 'value2'}, {'key3': 'value3', 'key4': 'value4'})"
      ]
     },
     "execution_count": 155,
     "metadata": {},
     "output_type": "execute_result"
    }
   ],
   "source": [
    "(d19,d20)"
   ]
  },
  {
   "cell_type": "code",
   "execution_count": 156,
   "id": "b7dbe275-f278-4f96-919f-63c7c3a2aac9",
   "metadata": {},
   "outputs": [],
   "source": [
    "d19.update(d20)"
   ]
  },
  {
   "cell_type": "code",
   "execution_count": 157,
   "id": "69e24653-3fbd-4598-b27b-f740452a4d83",
   "metadata": {},
   "outputs": [
    {
     "data": {
      "text/plain": [
       "{'key1': 'value', 'key2': 'value2', 'key3': 'value3', 'key4': 'value4'}"
      ]
     },
     "execution_count": 157,
     "metadata": {},
     "output_type": "execute_result"
    }
   ],
   "source": [
    "d19"
   ]
  },
  {
   "cell_type": "code",
   "execution_count": 158,
   "id": "e28fdef4-a8b6-4462-a2a2-954ab50ecfb8",
   "metadata": {},
   "outputs": [
    {
     "data": {
      "text/plain": [
       "{'key3': 'value3', 'key4': 'value4'}"
      ]
     },
     "execution_count": 158,
     "metadata": {},
     "output_type": "execute_result"
    }
   ],
   "source": [
    "d20"
   ]
  },
  {
   "cell_type": "code",
   "execution_count": 159,
   "id": "3465f75b-ddd4-455d-97c3-0984f70daf0b",
   "metadata": {},
   "outputs": [],
   "source": [
    "d20.update(d16)"
   ]
  },
  {
   "cell_type": "code",
   "execution_count": 160,
   "id": "b8d3050b-e782-43ba-8179-890c3ae4d6bf",
   "metadata": {},
   "outputs": [
    {
     "data": {
      "text/plain": [
       "{'key3': 'value3',\n",
       " 'key4': 'value4',\n",
       " 'Batch_name': ['Data Science Master', 'Web Dev', 'IOS'],\n",
       " 'Start_Date': (28, 14, 21),\n",
       " 'Mentors_Name': {'Aayush', 'Akshat', 'Anurag', 'Krish Naik'}}"
      ]
     },
     "execution_count": 160,
     "metadata": {},
     "output_type": "execute_result"
    }
   ],
   "source": [
    "d20"
   ]
  },
  {
   "cell_type": "code",
   "execution_count": 162,
   "id": "d01af331-29b4-4adc-8909-fb804b51065e",
   "metadata": {},
   "outputs": [
    {
     "data": {
      "text/plain": [
       "{'Aayush', 'Akshat', 'Anurag', 'Krish Naik'}"
      ]
     },
     "execution_count": 162,
     "metadata": {},
     "output_type": "execute_result"
    }
   ],
   "source": [
    "d20.get(\"Mentors_Name\")"
   ]
  },
  {
   "cell_type": "markdown",
   "id": "c2a23164-55eb-4b9f-bc59-f84520b19d0e",
   "metadata": {},
   "source": [
    "## Dictionary Comprehension"
   ]
  },
  {
   "cell_type": "code",
   "execution_count": 164,
   "id": "ecadd7df-9ef5-48d1-a915-045ec09814b4",
   "metadata": {},
   "outputs": [
    {
     "data": {
      "text/plain": [
       "{1: 1, 2: 4, 3: 9, 4: 16, 5: 25, 6: 36, 7: 49, 8: 64, 9: 81, 10: 100}"
      ]
     },
     "execution_count": 164,
     "metadata": {},
     "output_type": "execute_result"
    }
   ],
   "source": [
    "{i : i**2 for i in range(1,11)}"
   ]
  },
  {
   "cell_type": "code",
   "execution_count": 165,
   "id": "8e6d8944-a877-4278-a98d-ebb9ab5b471e",
   "metadata": {},
   "outputs": [
    {
     "data": {
      "text/plain": [
       "[1, 2, 3, 4, 5, 6, 7, 8, 9, 10]"
      ]
     },
     "execution_count": 165,
     "metadata": {},
     "output_type": "execute_result"
    }
   ],
   "source": [
    "list(range(1,11))"
   ]
  },
  {
   "cell_type": "code",
   "execution_count": 166,
   "id": "d8fe5c68-ab79-49f3-8411-008067af6343",
   "metadata": {},
   "outputs": [
    {
     "data": {
      "text/plain": [
       "{1: 11, 2: 12, 3: 13, 4: 14, 5: 15, 6: 16, 7: 17, 8: 18, 9: 19, 10: 20}"
      ]
     },
     "execution_count": 166,
     "metadata": {},
     "output_type": "execute_result"
    }
   ],
   "source": [
    "{i : i+10 for i in range(1,11)}"
   ]
  },
  {
   "cell_type": "code",
   "execution_count": 170,
   "id": "d1e59837-929f-4c0f-ba3f-77e4d0117939",
   "metadata": {},
   "outputs": [],
   "source": [
    "import math\n",
    "d21={i : math.log10(i) for i in range(1,11)}"
   ]
  },
  {
   "cell_type": "code",
   "execution_count": 168,
   "id": "07c2a882-1d62-430c-9c25-896f4d325f64",
   "metadata": {},
   "outputs": [
    {
     "data": {
      "text/plain": [
       "{'Batch_name': ['Data Science Master', 'Web Dev', 'IOS'],\n",
       " 'Start_Date': (28, 14, 21),\n",
       " 'Mentors_Name': {'Aayush', 'Akshat', 'Anurag', 'Krish Naik'}}"
      ]
     },
     "execution_count": 168,
     "metadata": {},
     "output_type": "execute_result"
    }
   ],
   "source": [
    "d16"
   ]
  },
  {
   "cell_type": "code",
   "execution_count": 169,
   "id": "758c6745-7167-4bfd-b6c4-11c3c7a8f625",
   "metadata": {},
   "outputs": [
    {
     "data": {
      "text/plain": [
       "True"
      ]
     },
     "execution_count": 169,
     "metadata": {},
     "output_type": "execute_result"
    }
   ],
   "source": [
    "\"Batch_name\" in d16"
   ]
  },
  {
   "cell_type": "code",
   "execution_count": 171,
   "id": "7bd618c6-7afb-4b9b-b42c-79b75eb886bd",
   "metadata": {},
   "outputs": [
    {
     "data": {
      "text/plain": [
       "{1: 0.0,\n",
       " 2: 0.3010299956639812,\n",
       " 3: 0.47712125471966244,\n",
       " 4: 0.6020599913279624,\n",
       " 5: 0.6989700043360189,\n",
       " 6: 0.7781512503836436,\n",
       " 7: 0.8450980400142568,\n",
       " 8: 0.9030899869919435,\n",
       " 9: 0.9542425094393249,\n",
       " 10: 1.0}"
      ]
     },
     "execution_count": 171,
     "metadata": {},
     "output_type": "execute_result"
    }
   ],
   "source": [
    "d21"
   ]
  },
  {
   "cell_type": "code",
   "execution_count": 172,
   "id": "ae565145-f626-45c1-859b-40b8f70e1544",
   "metadata": {},
   "outputs": [
    {
     "name": "stdout",
     "output_type": "stream",
     "text": [
      "0.3010299956639812\n",
      "0.6020599913279624\n",
      "0.7781512503836436\n",
      "0.9030899869919435\n",
      "1.0\n"
     ]
    }
   ],
   "source": [
    "for i in d21.keys():\n",
    "    if(i%2==0):\n",
    "        print(d21[i])"
   ]
  },
  {
   "cell_type": "code",
   "execution_count": null,
   "id": "fb8316d8-9008-4108-bba6-d1c004e03ef8",
   "metadata": {},
   "outputs": [],
   "source": []
  }
 ],
 "metadata": {
  "kernelspec": {
   "display_name": "Python 3 (ipykernel)",
   "language": "python",
   "name": "python3"
  },
  "language_info": {
   "codemirror_mode": {
    "name": "ipython",
    "version": 3
   },
   "file_extension": ".py",
   "mimetype": "text/x-python",
   "name": "python",
   "nbconvert_exporter": "python",
   "pygments_lexer": "ipython3",
   "version": "3.10.8"
  }
 },
 "nbformat": 4,
 "nbformat_minor": 5
}
