{
 "cells": [
  {
   "cell_type": "markdown",
   "id": "15715729-eecb-4b37-9f3b-a1bfeb7923bc",
   "metadata": {},
   "source": [
    "# Polymorphism"
   ]
  },
  {
   "cell_type": "code",
   "execution_count": 1,
   "id": "3d7442bf-44f2-42c2-ac43-1ca43ed1952f",
   "metadata": {},
   "outputs": [],
   "source": [
    "def test(a,b):\n",
    "    return a+b"
   ]
  },
  {
   "cell_type": "code",
   "execution_count": 2,
   "id": "a9d66b5e-9ffc-4fcb-89d6-c99ba848dcc8",
   "metadata": {},
   "outputs": [
    {
     "data": {
      "text/plain": [
       "9"
      ]
     },
     "execution_count": 2,
     "metadata": {},
     "output_type": "execute_result"
    }
   ],
   "source": [
    "test(4,5)"
   ]
  },
  {
   "cell_type": "code",
   "execution_count": 3,
   "id": "a8f170dc-2459-45cc-b5bd-194fceacb46e",
   "metadata": {},
   "outputs": [
    {
     "data": {
      "text/plain": [
       "'Akshat Srivastava'"
      ]
     },
     "execution_count": 3,
     "metadata": {},
     "output_type": "execute_result"
    }
   ],
   "source": [
    "test(\"Akshat\",\" Srivastava\")"
   ]
  },
  {
   "cell_type": "code",
   "execution_count": 4,
   "id": "363bfe27-bddf-49bc-b68e-26972db020c3",
   "metadata": {},
   "outputs": [
    {
     "data": {
      "text/plain": [
       "[1, 2, 3, 4, 5, 4, 5, 6, 7, 8, 9]"
      ]
     },
     "execution_count": 4,
     "metadata": {},
     "output_type": "execute_result"
    }
   ],
   "source": [
    "test([1,2,3,4,5],[4,5,6,7,8,9])"
   ]
  },
  {
   "cell_type": "code",
   "execution_count": 20,
   "id": "80b01817-f044-4817-8585-47236e911e29",
   "metadata": {},
   "outputs": [],
   "source": [
    "class data_science:\n",
    "    def syllabus(self):\n",
    "        print(\"This is my method for data science syllabus\")"
   ]
  },
  {
   "cell_type": "code",
   "execution_count": 21,
   "id": "4480e782-f175-41b6-b741-15db65467cef",
   "metadata": {},
   "outputs": [],
   "source": [
    "class web_dev:\n",
    "    def syllabus(self):\n",
    "        print(\"This is my method for web development\")"
   ]
  },
  {
   "cell_type": "code",
   "execution_count": 22,
   "id": "af34419c-791b-4b05-8bfb-592303a942aa",
   "metadata": {},
   "outputs": [],
   "source": [
    "def class_parcer(class_obj):\n",
    "    for i in class_obj :\n",
    "        i.syllabus()"
   ]
  },
  {
   "cell_type": "code",
   "execution_count": 23,
   "id": "9978ba4e-1179-4359-842e-68a1c1f5dd55",
   "metadata": {},
   "outputs": [],
   "source": [
    "obj_data_science= data_science()"
   ]
  },
  {
   "cell_type": "code",
   "execution_count": 24,
   "id": "f4a5e3b3-fd1a-40e0-9ccf-04599d7d35ee",
   "metadata": {},
   "outputs": [],
   "source": [
    "obj_web_dev=web_dev()"
   ]
  },
  {
   "cell_type": "code",
   "execution_count": 25,
   "id": "451ff413-b776-4ffa-80fa-44e2285a06ad",
   "metadata": {},
   "outputs": [],
   "source": [
    "class_obj=[obj_data_science,obj_web_dev]"
   ]
  },
  {
   "cell_type": "code",
   "execution_count": 26,
   "id": "3837bffe-e407-431e-bb33-cabfc64dc699",
   "metadata": {},
   "outputs": [
    {
     "name": "stdout",
     "output_type": "stream",
     "text": [
      "This is my method for data science syllabus\n",
      "This is my method for web development\n"
     ]
    }
   ],
   "source": [
    "class_parcer(class_obj)"
   ]
  },
  {
   "cell_type": "markdown",
   "id": "0e78b684-fe31-473f-a3d3-d095c0170013",
   "metadata": {},
   "source": [
    "# Encapsulation"
   ]
  },
  {
   "cell_type": "code",
   "execution_count": 5,
   "id": "9f00bd98-84a8-41bd-8e2b-7674cb8c6ef3",
   "metadata": {},
   "outputs": [],
   "source": [
    "class test1 :\n",
    "    def __init__(self,a,b):\n",
    "        self.a=a\n",
    "        self.b=b"
   ]
  },
  {
   "cell_type": "code",
   "execution_count": 6,
   "id": "1fe4efe0-17ae-48d4-a8a3-5fa794b64c96",
   "metadata": {},
   "outputs": [],
   "source": [
    "t=test1(45,56)"
   ]
  },
  {
   "cell_type": "code",
   "execution_count": 7,
   "id": "2165525b-1e85-462c-92e2-e17005fd2b67",
   "metadata": {},
   "outputs": [
    {
     "data": {
      "text/plain": [
       "45"
      ]
     },
     "execution_count": 7,
     "metadata": {},
     "output_type": "execute_result"
    }
   ],
   "source": [
    "t.a"
   ]
  },
  {
   "cell_type": "code",
   "execution_count": 8,
   "id": "da4c28d1-3ee6-431c-a0ad-8ccfe4fc0292",
   "metadata": {},
   "outputs": [
    {
     "data": {
      "text/plain": [
       "56"
      ]
     },
     "execution_count": 8,
     "metadata": {},
     "output_type": "execute_result"
    }
   ],
   "source": [
    "t.b"
   ]
  },
  {
   "cell_type": "code",
   "execution_count": 9,
   "id": "ad51f48d-f5fd-4976-b681-e7b4f07dd2c2",
   "metadata": {},
   "outputs": [],
   "source": [
    "t.a=3417"
   ]
  },
  {
   "cell_type": "code",
   "execution_count": 10,
   "id": "02a15f63-645b-4b2d-88c2-13a16e0cd899",
   "metadata": {},
   "outputs": [
    {
     "data": {
      "text/plain": [
       "3417"
      ]
     },
     "execution_count": 10,
     "metadata": {},
     "output_type": "execute_result"
    }
   ],
   "source": [
    "t.a"
   ]
  },
  {
   "cell_type": "code",
   "execution_count": 1,
   "id": "033423dd-eccc-462c-93ca-5ea58de00889",
   "metadata": {},
   "outputs": [],
   "source": [
    "class car:\n",
    "    def __init__(self,year,make,model,speed):\n",
    "        self.__year=year\n",
    "        self.__make=make\n",
    "        self.__model=model\n",
    "        self.__speed=0\n",
    "        \n",
    "    def set_speed(self,speed):\n",
    "        self.__speed=0 if speed<0 else speed\n",
    "    \n",
    "    def get_speed(self):\n",
    "        return self.__speed"
   ]
  },
  {
   "cell_type": "code",
   "execution_count": 2,
   "id": "e7b77369-a707-40c5-aa25-384b7387a16b",
   "metadata": {},
   "outputs": [],
   "source": [
    "obj_car=car(2021,\"NANO\",\"TATA\",12)"
   ]
  },
  {
   "cell_type": "code",
   "execution_count": 3,
   "id": "c89be864-7634-4eeb-b763-f6640adde235",
   "metadata": {},
   "outputs": [
    {
     "ename": "AttributeError",
     "evalue": "'car' object has no attribute '__year'",
     "output_type": "error",
     "traceback": [
      "\u001b[0;31m---------------------------------------------------------------------------\u001b[0m",
      "\u001b[0;31mAttributeError\u001b[0m                            Traceback (most recent call last)",
      "Cell \u001b[0;32mIn[3], line 1\u001b[0m\n\u001b[0;32m----> 1\u001b[0m \u001b[43mobj_car\u001b[49m\u001b[38;5;241;43m.\u001b[39;49m\u001b[43m__year\u001b[49m\n",
      "\u001b[0;31mAttributeError\u001b[0m: 'car' object has no attribute '__year'"
     ]
    }
   ],
   "source": [
    "obj_car.__year"
   ]
  },
  {
   "cell_type": "code",
   "execution_count": 4,
   "id": "0f100bec-2f5c-4b7d-a9d5-8b7f54b1caac",
   "metadata": {},
   "outputs": [],
   "source": [
    "obj_car._car__year = 2023"
   ]
  },
  {
   "cell_type": "code",
   "execution_count": 5,
   "id": "2eb5d5f9-eee8-4558-b8d9-5dc6ee195509",
   "metadata": {},
   "outputs": [
    {
     "data": {
      "text/plain": [
       "2023"
      ]
     },
     "execution_count": 5,
     "metadata": {},
     "output_type": "execute_result"
    }
   ],
   "source": [
    "obj_car._car__year "
   ]
  },
  {
   "cell_type": "code",
   "execution_count": 6,
   "id": "aae98ba0-b5d8-45cb-987e-3322b6d400e1",
   "metadata": {},
   "outputs": [],
   "source": [
    "obj_car.set_speed(1234)"
   ]
  },
  {
   "cell_type": "code",
   "execution_count": 7,
   "id": "154f29cd-46d3-43a5-a8c3-b2eb6804a421",
   "metadata": {},
   "outputs": [
    {
     "data": {
      "text/plain": [
       "1234"
      ]
     },
     "execution_count": 7,
     "metadata": {},
     "output_type": "execute_result"
    }
   ],
   "source": [
    "obj_car.get_speed()"
   ]
  },
  {
   "cell_type": "code",
   "execution_count": 27,
   "id": "343825d6-b403-4500-915b-35c36b8c354f",
   "metadata": {},
   "outputs": [],
   "source": [
    "class bank_account:\n",
    "    def __init__(self,balance):\n",
    "        self.__balance=balance\n",
    "    \n",
    "    def deposit(self,amount):\n",
    "        self.__balance=self.__balance+amount\n",
    "    \n",
    "    def withdraw(self,amount):\n",
    "        if self.__balance>=amount:\n",
    "            self.__balance=self.__balance-amount\n",
    "            return True\n",
    "        else:\n",
    "            return False\n",
    "    \n",
    "    def get_balance(self):\n",
    "        return self.__balance"
   ]
  },
  {
   "cell_type": "code",
   "execution_count": 19,
   "id": "24e17846-d904-4150-9b60-f36a8c569a88",
   "metadata": {},
   "outputs": [],
   "source": [
    "obj_bank_account=bank_account(1000)"
   ]
  },
  {
   "cell_type": "code",
   "execution_count": 20,
   "id": "640f0ce1-2abb-4080-8fc9-8d5ba84c8910",
   "metadata": {},
   "outputs": [
    {
     "data": {
      "text/plain": [
       "1000"
      ]
     },
     "execution_count": 20,
     "metadata": {},
     "output_type": "execute_result"
    }
   ],
   "source": [
    "obj_bank_account.get_balance()"
   ]
  },
  {
   "cell_type": "code",
   "execution_count": 21,
   "id": "dd8817d3-e226-42ed-9e46-686b671384be",
   "metadata": {},
   "outputs": [],
   "source": [
    "obj_bank_account.deposit(317)"
   ]
  },
  {
   "cell_type": "code",
   "execution_count": 22,
   "id": "c2277865-c487-4c30-86e5-89bf528475fa",
   "metadata": {},
   "outputs": [
    {
     "data": {
      "text/plain": [
       "1317"
      ]
     },
     "execution_count": 22,
     "metadata": {},
     "output_type": "execute_result"
    }
   ],
   "source": [
    "obj_bank_account.get_balance()"
   ]
  },
  {
   "cell_type": "code",
   "execution_count": 29,
   "id": "2abb8bf3-5043-4b63-b240-a33d93d235f4",
   "metadata": {},
   "outputs": [
    {
     "data": {
      "text/plain": [
       "False"
      ]
     },
     "execution_count": 29,
     "metadata": {},
     "output_type": "execute_result"
    }
   ],
   "source": [
    "obj_bank_account.withdraw(56)"
   ]
  },
  {
   "cell_type": "code",
   "execution_count": 30,
   "id": "cdaca2ec-0f38-4100-a611-994183655ebf",
   "metadata": {},
   "outputs": [
    {
     "data": {
      "text/plain": [
       "1317"
      ]
     },
     "execution_count": 30,
     "metadata": {},
     "output_type": "execute_result"
    }
   ],
   "source": [
    "obj_bank_account.get_balance()"
   ]
  },
  {
   "cell_type": "markdown",
   "id": "45467e33-2ce5-497e-8387-36d36ac2ca2e",
   "metadata": {},
   "source": [
    "# Inheritance"
   ]
  },
  {
   "cell_type": "code",
   "execution_count": 31,
   "id": "030754e0-c070-4e34-8020-ad6f659ce9b1",
   "metadata": {},
   "outputs": [],
   "source": [
    "class parent:\n",
    "    def test_parent(self):\n",
    "        print(\"This is my parent class\")"
   ]
  },
  {
   "cell_type": "code",
   "execution_count": 32,
   "id": "011e3f46-adab-433f-99cd-22c504462a10",
   "metadata": {},
   "outputs": [],
   "source": [
    "class child(parent):\n",
    "    pass"
   ]
  },
  {
   "cell_type": "code",
   "execution_count": 33,
   "id": "06cef4f8-8516-4698-b5a8-e0a20159e575",
   "metadata": {},
   "outputs": [],
   "source": [
    "child_obj=child()"
   ]
  },
  {
   "cell_type": "code",
   "execution_count": 34,
   "id": "61a1bfe3-ff82-4d39-af87-4f482666d2d2",
   "metadata": {},
   "outputs": [
    {
     "name": "stdout",
     "output_type": "stream",
     "text": [
      "This is my parent class\n"
     ]
    }
   ],
   "source": [
    "child_obj.test_parent()"
   ]
  },
  {
   "cell_type": "code",
   "execution_count": 35,
   "id": "c0b79202-1269-491d-b8d9-7cfa79a6c526",
   "metadata": {},
   "outputs": [],
   "source": [
    "class class1:\n",
    "    def test_class1(self):\n",
    "        print(\"This is my class 1\")"
   ]
  },
  {
   "cell_type": "code",
   "execution_count": 36,
   "id": "9c61b73e-0164-47e9-9931-d97bfdf5fc85",
   "metadata": {},
   "outputs": [],
   "source": [
    "class class2(class1):\n",
    "    def test_class2(self):\n",
    "        print(\"This is my class 2\")"
   ]
  },
  {
   "cell_type": "code",
   "execution_count": 37,
   "id": "f257994c-9ee3-4262-ba50-8771ca06c957",
   "metadata": {},
   "outputs": [],
   "source": [
    "class class3(class2):\n",
    "    def test_class3(self):\n",
    "        print(\"This is my class 3\")"
   ]
  },
  {
   "cell_type": "code",
   "execution_count": 38,
   "id": "361611f5-2f73-4f6d-9c53-85dedef2e354",
   "metadata": {},
   "outputs": [],
   "source": [
    "obj_class3=class3()"
   ]
  },
  {
   "cell_type": "code",
   "execution_count": 39,
   "id": "3fffea08-950f-4f97-b948-ed45759b7a33",
   "metadata": {},
   "outputs": [
    {
     "name": "stdout",
     "output_type": "stream",
     "text": [
      "This is my class 1\n"
     ]
    }
   ],
   "source": [
    "obj_class3.test_class1()"
   ]
  },
  {
   "cell_type": "code",
   "execution_count": 40,
   "id": "f7276030-7712-47e2-9e90-2a8f7c8ffa12",
   "metadata": {},
   "outputs": [
    {
     "name": "stdout",
     "output_type": "stream",
     "text": [
      "This is my class 2\n"
     ]
    }
   ],
   "source": [
    "obj_class3.test_class2()"
   ]
  },
  {
   "cell_type": "code",
   "execution_count": 41,
   "id": "9675d35e-04d6-4ca2-99cc-7d8ebf3eb767",
   "metadata": {},
   "outputs": [
    {
     "name": "stdout",
     "output_type": "stream",
     "text": [
      "This is my class 3\n"
     ]
    }
   ],
   "source": [
    "obj_class3.test_class3()"
   ]
  },
  {
   "cell_type": "code",
   "execution_count": 42,
   "id": "0ac5b8d6-2719-4dfe-89a8-20f341bc2da5",
   "metadata": {},
   "outputs": [],
   "source": [
    "class Class1:\n",
    "    def test_Class1(self):\n",
    "        print(\"This is my class 1\")"
   ]
  },
  {
   "cell_type": "code",
   "execution_count": 43,
   "id": "636e65f4-ba7e-4674-8c9e-08cc0c9e0fdd",
   "metadata": {},
   "outputs": [],
   "source": [
    "class Class2:\n",
    "    def test_Class2(self):\n",
    "        print(\"This is my class 2\")"
   ]
  },
  {
   "cell_type": "code",
   "execution_count": 46,
   "id": "e081e70c-b484-451b-a185-be68140bae71",
   "metadata": {},
   "outputs": [],
   "source": [
    "class Class3(Class1,Class2):\n",
    "    pass"
   ]
  },
  {
   "cell_type": "code",
   "execution_count": 47,
   "id": "4def0a83-601c-4b84-800c-5535c7500765",
   "metadata": {},
   "outputs": [],
   "source": [
    "obj_Class3=Class3()"
   ]
  },
  {
   "cell_type": "code",
   "execution_count": 48,
   "id": "a3487f7f-e172-4d6e-9299-38ce7b5b4dd0",
   "metadata": {},
   "outputs": [
    {
     "name": "stdout",
     "output_type": "stream",
     "text": [
      "This is my class 2\n"
     ]
    }
   ],
   "source": [
    "obj_Class3.test_Class2()"
   ]
  },
  {
   "cell_type": "code",
   "execution_count": 49,
   "id": "8e409bdb-f117-4696-a6b6-337bbe6ce387",
   "metadata": {},
   "outputs": [
    {
     "name": "stdout",
     "output_type": "stream",
     "text": [
      "This is my class 1\n"
     ]
    }
   ],
   "source": [
    "obj_Class3.test_Class1()"
   ]
  },
  {
   "cell_type": "code",
   "execution_count": null,
   "id": "14652882-a893-41a1-98f6-699d3be638b3",
   "metadata": {},
   "outputs": [],
   "source": []
  }
 ],
 "metadata": {
  "kernelspec": {
   "display_name": "Python 3 (ipykernel)",
   "language": "python",
   "name": "python3"
  },
  "language_info": {
   "codemirror_mode": {
    "name": "ipython",
    "version": 3
   },
   "file_extension": ".py",
   "mimetype": "text/x-python",
   "name": "python",
   "nbconvert_exporter": "python",
   "pygments_lexer": "ipython3",
   "version": "3.10.8"
  }
 },
 "nbformat": 4,
 "nbformat_minor": 5
}
