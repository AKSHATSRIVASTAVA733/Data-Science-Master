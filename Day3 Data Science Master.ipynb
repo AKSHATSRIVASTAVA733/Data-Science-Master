{
 "cells": [
  {
   "cell_type": "code",
   "execution_count": 1,
   "id": "2a7ca204-b3bc-4b6f-b02a-ca0489e9f347",
   "metadata": {},
   "outputs": [
    {
     "name": "stdout",
     "output_type": "stream",
     "text": [
      "Everything is ok\n"
     ]
    }
   ],
   "source": [
    "print(\"Everything is ok\")"
   ]
  },
  {
   "cell_type": "markdown",
   "id": "a86d271c-3bc2-4e45-b0bb-48764fbd20b8",
   "metadata": {},
   "source": [
    "## Logical Operators\n",
    " 1. AND\n",
    " 2. OR\n",
    " 3. NOT"
   ]
  },
  {
   "cell_type": "code",
   "execution_count": 8,
   "id": "e20a1e6f-56da-4610-9302-7ace00251c39",
   "metadata": {},
   "outputs": [
    {
     "data": {
      "text/plain": [
       "False"
      ]
     },
     "execution_count": 8,
     "metadata": {},
     "output_type": "execute_result"
    }
   ],
   "source": [
    "bool(0)"
   ]
  },
  {
   "cell_type": "code",
   "execution_count": 4,
   "id": "7dbfbb95-5e0d-466c-8674-a7209170de78",
   "metadata": {},
   "outputs": [
    {
     "data": {
      "text/plain": [
       "True"
      ]
     },
     "execution_count": 4,
     "metadata": {},
     "output_type": "execute_result"
    }
   ],
   "source": [
    "not bool(0)"
   ]
  },
  {
   "cell_type": "code",
   "execution_count": 5,
   "id": "f0b92730-a8ab-48d3-9c5e-c852045214d4",
   "metadata": {},
   "outputs": [
    {
     "data": {
      "text/plain": [
       "0"
      ]
     },
     "execution_count": 5,
     "metadata": {},
     "output_type": "execute_result"
    }
   ],
   "source": [
    "int(bool(0))"
   ]
  },
  {
   "cell_type": "code",
   "execution_count": 6,
   "id": "cff3840c-d97b-4922-93db-9d0be4c1a526",
   "metadata": {},
   "outputs": [
    {
     "data": {
      "text/plain": [
       "True"
      ]
     },
     "execution_count": 6,
     "metadata": {},
     "output_type": "execute_result"
    }
   ],
   "source": [
    "bool(1)"
   ]
  },
  {
   "cell_type": "code",
   "execution_count": 7,
   "id": "eb6bc0a6-8c06-4800-9680-ca48e83201c4",
   "metadata": {},
   "outputs": [
    {
     "data": {
      "text/plain": [
       "False"
      ]
     },
     "execution_count": 7,
     "metadata": {},
     "output_type": "execute_result"
    }
   ],
   "source": [
    "not(bool(1))"
   ]
  },
  {
   "cell_type": "code",
   "execution_count": 9,
   "id": "00181d57-2064-4da9-8895-00eb2e29932e",
   "metadata": {},
   "outputs": [
    {
     "data": {
      "text/plain": [
       "0"
      ]
     },
     "execution_count": 9,
     "metadata": {},
     "output_type": "execute_result"
    }
   ],
   "source": [
    "int(not(bool(1)))"
   ]
  },
  {
   "cell_type": "code",
   "execution_count": 10,
   "id": "f6657df1-8ebc-45f5-9400-34f96deba946",
   "metadata": {},
   "outputs": [
    {
     "data": {
      "text/plain": [
       "True"
      ]
     },
     "execution_count": 10,
     "metadata": {},
     "output_type": "execute_result"
    }
   ],
   "source": [
    "bool(-5)"
   ]
  },
  {
   "cell_type": "code",
   "execution_count": 11,
   "id": "801beab8-2388-45f2-ae80-0114799fad1c",
   "metadata": {},
   "outputs": [
    {
     "data": {
      "text/plain": [
       "True"
      ]
     },
     "execution_count": 11,
     "metadata": {},
     "output_type": "execute_result"
    }
   ],
   "source": [
    "bool(5)"
   ]
  },
  {
   "cell_type": "markdown",
   "id": "24c2b7e3-f6f9-49f7-b612-59172a180ccf",
   "metadata": {},
   "source": [
    "## Logical AND"
   ]
  },
  {
   "cell_type": "code",
   "execution_count": 12,
   "id": "697f5f99-b14b-4c5d-a0ab-f56339388e95",
   "metadata": {},
   "outputs": [
    {
     "data": {
      "text/plain": [
       "0"
      ]
     },
     "execution_count": 12,
     "metadata": {},
     "output_type": "execute_result"
    }
   ],
   "source": [
    "True * False"
   ]
  },
  {
   "cell_type": "code",
   "execution_count": 13,
   "id": "898641fa-1b31-4aa2-898c-2e35d7e8656e",
   "metadata": {},
   "outputs": [
    {
     "data": {
      "text/plain": [
       "0"
      ]
     },
     "execution_count": 13,
     "metadata": {},
     "output_type": "execute_result"
    }
   ],
   "source": [
    "False * False"
   ]
  },
  {
   "cell_type": "code",
   "execution_count": 14,
   "id": "33f8a777-d83e-473d-a57f-c85fedd1ff01",
   "metadata": {},
   "outputs": [
    {
     "data": {
      "text/plain": [
       "True"
      ]
     },
     "execution_count": 14,
     "metadata": {},
     "output_type": "execute_result"
    }
   ],
   "source": [
    "not(True) * False"
   ]
  },
  {
   "cell_type": "code",
   "execution_count": 16,
   "id": "0535a305-a5db-483d-a207-8cecff09a360",
   "metadata": {},
   "outputs": [
    {
     "data": {
      "text/plain": [
       "0"
      ]
     },
     "execution_count": 16,
     "metadata": {},
     "output_type": "execute_result"
    }
   ],
   "source": [
    "(not(False)) * False"
   ]
  },
  {
   "cell_type": "code",
   "execution_count": 20,
   "id": "3616f523-2625-4632-b720-983542b76d18",
   "metadata": {},
   "outputs": [
    {
     "data": {
      "text/plain": [
       "True"
      ]
     },
     "execution_count": 20,
     "metadata": {},
     "output_type": "execute_result"
    }
   ],
   "source": [
    "## follow BODMAS\n",
    "not False* False"
   ]
  },
  {
   "cell_type": "code",
   "execution_count": 17,
   "id": "c24f79b6-c284-4f22-a07a-b48c7025e229",
   "metadata": {},
   "outputs": [
    {
     "data": {
      "text/plain": [
       "7"
      ]
     },
     "execution_count": 17,
     "metadata": {},
     "output_type": "execute_result"
    }
   ],
   "source": [
    "1+2*3"
   ]
  },
  {
   "cell_type": "code",
   "execution_count": 18,
   "id": "287953b3-a086-4388-ab2f-007510225c4d",
   "metadata": {},
   "outputs": [
    {
     "data": {
      "text/plain": [
       "9"
      ]
     },
     "execution_count": 18,
     "metadata": {},
     "output_type": "execute_result"
    }
   ],
   "source": [
    "(1+2)*3"
   ]
  },
  {
   "cell_type": "code",
   "execution_count": 21,
   "id": "cf2381b9-ba1c-4ef6-8341-6b48092119e0",
   "metadata": {},
   "outputs": [
    {
     "data": {
      "text/plain": [
       "True"
      ]
     },
     "execution_count": 21,
     "metadata": {},
     "output_type": "execute_result"
    }
   ],
   "source": [
    "(not(False)*False)==True"
   ]
  },
  {
   "cell_type": "code",
   "execution_count": 23,
   "id": "254e1b42-633d-40b3-89c8-e7ad2cb68e60",
   "metadata": {},
   "outputs": [
    {
     "name": "stdout",
     "output_type": "stream",
     "text": [
      "0\n"
     ]
    }
   ],
   "source": [
    "print((not(False))*False)"
   ]
  },
  {
   "cell_type": "code",
   "execution_count": 24,
   "id": "4b4f153f-d35c-4470-8018-8048b653d8fa",
   "metadata": {},
   "outputs": [
    {
     "data": {
      "text/plain": [
       "14.0"
      ]
     },
     "execution_count": 24,
     "metadata": {},
     "output_type": "execute_result"
    }
   ],
   "source": [
    "2*3+40/5"
   ]
  },
  {
   "cell_type": "code",
   "execution_count": 25,
   "id": "1a7dc58f-b7a1-4123-b93a-e9e5c7b2ba34",
   "metadata": {},
   "outputs": [
    {
     "data": {
      "text/plain": [
       "9.2"
      ]
     },
     "execution_count": 25,
     "metadata": {},
     "output_type": "execute_result"
    }
   ],
   "source": [
    "(2*3+40)/5"
   ]
  },
  {
   "cell_type": "markdown",
   "id": "ad20a486-e6ff-4a8f-8ad7-50fb17a45f12",
   "metadata": {},
   "source": [
    "### Equality Operators"
   ]
  },
  {
   "cell_type": "code",
   "execution_count": 34,
   "id": "5bb038d8-c2d6-4bcb-aaf3-dbd0590b4472",
   "metadata": {},
   "outputs": [
    {
     "name": "stdout",
     "output_type": "stream",
     "text": [
      "139649096278144\n",
      "139649096287424\n"
     ]
    }
   ],
   "source": [
    "st_a=[1,2,3,4]\n",
    "st_b=[1,2,3,4]\n",
    "print(id(st_a))\n",
    "print(id(st_b))\n",
    "## id() gives the address of the data"
   ]
  },
  {
   "cell_type": "code",
   "execution_count": 35,
   "id": "3a93cea2-f656-48a3-8082-fbe1eece512b",
   "metadata": {},
   "outputs": [
    {
     "data": {
      "text/plain": [
       "False"
      ]
     },
     "execution_count": 35,
     "metadata": {},
     "output_type": "execute_result"
    }
   ],
   "source": [
    "st_a is st_b\n"
   ]
  },
  {
   "cell_type": "code",
   "execution_count": 31,
   "id": "ced18729-9561-421f-9bb5-dbbab220499f",
   "metadata": {},
   "outputs": [],
   "source": [
    "st_a=st_b"
   ]
  },
  {
   "cell_type": "code",
   "execution_count": 32,
   "id": "90ea9bf0-546a-4353-ad26-b34dd925c8a8",
   "metadata": {},
   "outputs": [
    {
     "name": "stdout",
     "output_type": "stream",
     "text": [
      "139649096273920\n",
      "139649096273920\n"
     ]
    }
   ],
   "source": [
    "print(id(st_a))\n",
    "print(id(st_b))"
   ]
  },
  {
   "cell_type": "code",
   "execution_count": 33,
   "id": "c5a54e0e-0f0f-4a3b-8129-2738d3e271f6",
   "metadata": {},
   "outputs": [
    {
     "data": {
      "text/plain": [
       "True"
      ]
     },
     "execution_count": 33,
     "metadata": {},
     "output_type": "execute_result"
    }
   ],
   "source": [
    "st_a is st_b"
   ]
  },
  {
   "cell_type": "code",
   "execution_count": 36,
   "id": "8b70bc98-afab-4415-9f2a-264dba0f0a66",
   "metadata": {},
   "outputs": [],
   "source": [
    "a=2\n",
    "b=2"
   ]
  },
  {
   "cell_type": "code",
   "execution_count": 37,
   "id": "d3c70355-245c-40a2-846f-8b40ce2c4a5e",
   "metadata": {},
   "outputs": [
    {
     "name": "stdout",
     "output_type": "stream",
     "text": [
      "139649713701136\n",
      "139649713701136\n"
     ]
    }
   ],
   "source": [
    "print(id(a))\n",
    "print(id(b))"
   ]
  },
  {
   "cell_type": "code",
   "execution_count": 38,
   "id": "17d167a5-4eca-48f3-8b4d-8eb4d0dc1576",
   "metadata": {},
   "outputs": [
    {
     "name": "stdout",
     "output_type": "stream",
     "text": [
      "139649587702832\n",
      "139649587702832\n"
     ]
    }
   ],
   "source": [
    "str1=\"Akshat\"\n",
    "str2=\"Akshat\"\n",
    "print(id(str1))\n",
    "print(id(str2))"
   ]
  },
  {
   "cell_type": "code",
   "execution_count": 39,
   "id": "dc423215-3c77-4105-ba30-10e4e5800267",
   "metadata": {},
   "outputs": [
    {
     "name": "stdout",
     "output_type": "stream",
     "text": [
      "139649587702832\n",
      "139649587701744\n"
     ]
    }
   ],
   "source": [
    "str1=\"Akshat\"\n",
    "str2=\"Akshat1\"\n",
    "print(id(str1))\n",
    "print(id(str2))"
   ]
  },
  {
   "cell_type": "code",
   "execution_count": 40,
   "id": "e1e1cfc2-7c24-4e4a-b7c9-2b6f8d485288",
   "metadata": {},
   "outputs": [
    {
     "data": {
      "text/plain": [
       "[1, 2, 3, 4]"
      ]
     },
     "execution_count": 40,
     "metadata": {},
     "output_type": "execute_result"
    }
   ],
   "source": [
    "st_a"
   ]
  },
  {
   "cell_type": "code",
   "execution_count": 41,
   "id": "9ba98d14-c313-4e77-a093-b4fa9055faef",
   "metadata": {},
   "outputs": [],
   "source": [
    "st_a[0]=10"
   ]
  },
  {
   "cell_type": "code",
   "execution_count": 42,
   "id": "8a707223-f770-47a1-a25d-40151eb24d7c",
   "metadata": {},
   "outputs": [
    {
     "data": {
      "text/plain": [
       "[10, 2, 3, 4]"
      ]
     },
     "execution_count": 42,
     "metadata": {},
     "output_type": "execute_result"
    }
   ],
   "source": [
    "st_a"
   ]
  },
  {
   "cell_type": "markdown",
   "id": "68c4aee8-6821-4c23-9bb5-a56e15aa648a",
   "metadata": {},
   "source": [
    "### Comparison Operators"
   ]
  },
  {
   "cell_type": "markdown",
   "id": "77d94f0a-897f-4607-9b58-4a3d14252b05",
   "metadata": {},
   "source": [
    "### Arthematic Operators"
   ]
  },
  {
   "cell_type": "code",
   "execution_count": 43,
   "id": "47c29d75-82d4-4de4-847b-5fffd1437c29",
   "metadata": {},
   "outputs": [],
   "source": [
    "a=4\n",
    "b=101\n"
   ]
  },
  {
   "cell_type": "code",
   "execution_count": 44,
   "id": "5e1f27aa-31f2-45bd-85e1-a9cab341d13e",
   "metadata": {},
   "outputs": [
    {
     "data": {
      "text/plain": [
       "105"
      ]
     },
     "execution_count": 44,
     "metadata": {},
     "output_type": "execute_result"
    }
   ],
   "source": [
    "a+b"
   ]
  },
  {
   "cell_type": "code",
   "execution_count": 45,
   "id": "b4ac4eb5-0c44-449f-8bbc-73705f4bce23",
   "metadata": {},
   "outputs": [
    {
     "data": {
      "text/plain": [
       "0.039603960396039604"
      ]
     },
     "execution_count": 45,
     "metadata": {},
     "output_type": "execute_result"
    }
   ],
   "source": [
    "a/b"
   ]
  },
  {
   "cell_type": "code",
   "execution_count": 46,
   "id": "43dac33a-8e47-4db4-a1bf-d542209097bb",
   "metadata": {},
   "outputs": [
    {
     "data": {
      "text/plain": [
       "25.25"
      ]
     },
     "execution_count": 46,
     "metadata": {},
     "output_type": "execute_result"
    }
   ],
   "source": [
    "b/a"
   ]
  },
  {
   "cell_type": "code",
   "execution_count": 47,
   "id": "45444d02-ae9c-423b-8f54-c5a1b0588e72",
   "metadata": {},
   "outputs": [
    {
     "data": {
      "text/plain": [
       "0"
      ]
     },
     "execution_count": 47,
     "metadata": {},
     "output_type": "execute_result"
    }
   ],
   "source": [
    "a//b"
   ]
  },
  {
   "cell_type": "code",
   "execution_count": 48,
   "id": "ba414574-6aa1-428d-b27c-5d6648cec020",
   "metadata": {},
   "outputs": [
    {
     "data": {
      "text/plain": [
       "25"
      ]
     },
     "execution_count": 48,
     "metadata": {},
     "output_type": "execute_result"
    }
   ],
   "source": [
    "b//a"
   ]
  },
  {
   "cell_type": "code",
   "execution_count": 49,
   "id": "308ae5cb-2690-4a65-9ff7-4092726159f2",
   "metadata": {},
   "outputs": [
    {
     "data": {
      "text/plain": [
       "4"
      ]
     },
     "execution_count": 49,
     "metadata": {},
     "output_type": "execute_result"
    }
   ],
   "source": [
    "a%b"
   ]
  },
  {
   "cell_type": "code",
   "execution_count": 50,
   "id": "7d2759e2-8c6c-4f5a-b347-9a71d6402ff8",
   "metadata": {},
   "outputs": [
    {
     "data": {
      "text/plain": [
       "1"
      ]
     },
     "execution_count": 50,
     "metadata": {},
     "output_type": "execute_result"
    }
   ],
   "source": [
    "b%a"
   ]
  },
  {
   "cell_type": "markdown",
   "id": "dfc84a5c-280f-4a82-b2ae-656f07b5b7cd",
   "metadata": {},
   "source": [
    "### Bitwise operators"
   ]
  },
  {
   "cell_type": "code",
   "execution_count": 51,
   "id": "32b774e3-73be-4b19-9ab0-2d666583947e",
   "metadata": {},
   "outputs": [
    {
     "data": {
      "text/plain": [
       "'0b1010'"
      ]
     },
     "execution_count": 51,
     "metadata": {},
     "output_type": "execute_result"
    }
   ],
   "source": [
    "var=10\n",
    "bin(var)"
   ]
  },
  {
   "cell_type": "code",
   "execution_count": 52,
   "id": "28a19fd0-472f-4415-85d2-1cafdd34f2b0",
   "metadata": {},
   "outputs": [
    {
     "data": {
      "text/plain": [
       "-11"
      ]
     },
     "execution_count": 52,
     "metadata": {},
     "output_type": "execute_result"
    }
   ],
   "source": [
    "~var"
   ]
  },
  {
   "cell_type": "markdown",
   "id": "aaa190b6-09f7-4ca7-bc42-cbe111bbfbb7",
   "metadata": {},
   "source": [
    "## Strings"
   ]
  },
  {
   "cell_type": "code",
   "execution_count": 53,
   "id": "11d56588-13c7-4ccf-ab15-ae819840f59a",
   "metadata": {},
   "outputs": [
    {
     "data": {
      "text/plain": [
       "'Welcome to Data Sciense Master'"
      ]
     },
     "execution_count": 53,
     "metadata": {},
     "output_type": "execute_result"
    }
   ],
   "source": [
    "\"Welcome to Data Sciense Master\""
   ]
  },
  {
   "cell_type": "code",
   "execution_count": 54,
   "id": "6186c70d-a88b-4cb6-a556-f9760d254803",
   "metadata": {},
   "outputs": [],
   "source": [
    "str1=\"Welcome to Data Sciense Master\""
   ]
  },
  {
   "cell_type": "code",
   "execution_count": 55,
   "id": "57d727c0-d413-4b7c-ad87-7b1985f200de",
   "metadata": {},
   "outputs": [
    {
     "data": {
      "text/plain": [
       "str"
      ]
     },
     "execution_count": 55,
     "metadata": {},
     "output_type": "execute_result"
    }
   ],
   "source": [
    "type(str1)"
   ]
  },
  {
   "cell_type": "code",
   "execution_count": 56,
   "id": "3494c2de-27c4-4cbf-850e-b31ff0cb13ed",
   "metadata": {},
   "outputs": [
    {
     "data": {
      "text/plain": [
       "'Welcome to Data Sciense Master'"
      ]
     },
     "execution_count": 56,
     "metadata": {},
     "output_type": "execute_result"
    }
   ],
   "source": [
    "str1"
   ]
  },
  {
   "cell_type": "code",
   "execution_count": 57,
   "id": "0cb9d124-9bc4-4099-9688-c8c2067a9b50",
   "metadata": {},
   "outputs": [],
   "source": [
    "str1=\"Akshat Srivastava\""
   ]
  },
  {
   "cell_type": "code",
   "execution_count": 58,
   "id": "682c39bb-5847-47a0-bf0f-eca1a91fd14a",
   "metadata": {},
   "outputs": [
    {
     "data": {
      "text/plain": [
       "'Akshat Srivastava'"
      ]
     },
     "execution_count": 58,
     "metadata": {},
     "output_type": "execute_result"
    }
   ],
   "source": [
    "str1"
   ]
  },
  {
   "cell_type": "code",
   "execution_count": 59,
   "id": "f767b62f-0f35-4495-9c7a-fa90479bc3b0",
   "metadata": {},
   "outputs": [
    {
     "ename": "SyntaxError",
     "evalue": "invalid syntax (2836301003.py, line 2)",
     "output_type": "error",
     "traceback": [
      "\u001b[0;36m  Cell \u001b[0;32mIn[59], line 2\u001b[0;36m\u001b[0m\n\u001b[0;31m    str1.(tab)\u001b[0m\n\u001b[0m         ^\u001b[0m\n\u001b[0;31mSyntaxError\u001b[0m\u001b[0;31m:\u001b[0m invalid syntax\n"
     ]
    }
   ],
   "source": [
    "# press tab after . gives suggestion of all inbuilt function\n",
    "str1.(tab)"
   ]
  },
  {
   "cell_type": "code",
   "execution_count": 63,
   "id": "f0c2db9a-6272-4932-8d79-13189a1a12d2",
   "metadata": {},
   "outputs": [
    {
     "data": {
      "text/plain": [
       "'t'"
      ]
     },
     "execution_count": 63,
     "metadata": {},
     "output_type": "execute_result"
    }
   ],
   "source": [
    "str1[5]"
   ]
  },
  {
   "cell_type": "code",
   "execution_count": 64,
   "id": "afbee2c9-2c3e-4856-9643-4ee99bf57b98",
   "metadata": {},
   "outputs": [
    {
     "data": {
      "text/plain": [
       "'t Srivastava'"
      ]
     },
     "execution_count": 64,
     "metadata": {},
     "output_type": "execute_result"
    }
   ],
   "source": [
    "str1[5:]"
   ]
  },
  {
   "cell_type": "code",
   "execution_count": 66,
   "id": "3e2d3d29-bb2b-4b33-849a-5d522ddaeebc",
   "metadata": {},
   "outputs": [
    {
     "data": {
      "text/plain": [
       "'t Sriv'"
      ]
     },
     "execution_count": 66,
     "metadata": {},
     "output_type": "execute_result"
    }
   ],
   "source": [
    "str1[5:11]"
   ]
  },
  {
   "cell_type": "code",
   "execution_count": 69,
   "id": "5a24687e-da48-4a11-8859-546e490ec829",
   "metadata": {},
   "outputs": [
    {
     "data": {
      "text/plain": [
       "'s'"
      ]
     },
     "execution_count": 69,
     "metadata": {},
     "output_type": "execute_result"
    }
   ],
   "source": [
    "str1[-5]"
   ]
  },
  {
   "cell_type": "code",
   "execution_count": 70,
   "id": "6d5db364-37ff-403a-b1d5-82af6f732fc3",
   "metadata": {},
   "outputs": [
    {
     "data": {
      "text/plain": [
       "'tava'"
      ]
     },
     "execution_count": 70,
     "metadata": {},
     "output_type": "execute_result"
    }
   ],
   "source": [
    "str1[-4:]"
   ]
  },
  {
   "cell_type": "code",
   "execution_count": 71,
   "id": "b7d21c08-fe75-41d7-9c30-227c188425c5",
   "metadata": {},
   "outputs": [
    {
     "data": {
      "text/plain": [
       "'vast'"
      ]
     },
     "execution_count": 71,
     "metadata": {},
     "output_type": "execute_result"
    }
   ],
   "source": [
    "str1[-7:-3]"
   ]
  },
  {
   "cell_type": "code",
   "execution_count": 72,
   "id": "2c80b79f-2e4d-4ad0-92ab-901469b0774b",
   "metadata": {},
   "outputs": [
    {
     "data": {
      "text/plain": [
       "'Aksh'"
      ]
     },
     "execution_count": 72,
     "metadata": {},
     "output_type": "execute_result"
    }
   ],
   "source": [
    "str1[:4]"
   ]
  },
  {
   "cell_type": "code",
   "execution_count": 73,
   "id": "ccbeaa9b-59ac-40e7-acad-a390743015d7",
   "metadata": {},
   "outputs": [
    {
     "data": {
      "text/plain": [
       "'Akshat Sriva'"
      ]
     },
     "execution_count": 73,
     "metadata": {},
     "output_type": "execute_result"
    }
   ],
   "source": [
    "str1[:-5]"
   ]
  },
  {
   "cell_type": "code",
   "execution_count": 74,
   "id": "3868f79e-ff0d-4dd2-8e7a-fc285605fc33",
   "metadata": {},
   "outputs": [
    {
     "data": {
      "text/plain": [
       "'avatsavirS tahskA'"
      ]
     },
     "execution_count": 74,
     "metadata": {},
     "output_type": "execute_result"
    }
   ],
   "source": [
    "str1[::-1]"
   ]
  },
  {
   "cell_type": "code",
   "execution_count": 75,
   "id": "2323a567-648c-48a3-b00b-52b2b9fac867",
   "metadata": {},
   "outputs": [
    {
     "data": {
      "text/plain": [
       "'aasvr asA'"
      ]
     },
     "execution_count": 75,
     "metadata": {},
     "output_type": "execute_result"
    }
   ],
   "source": [
    "str1[::-2]"
   ]
  },
  {
   "cell_type": "code",
   "execution_count": 76,
   "id": "469c0103-9fee-436b-b0bb-74e164805bf1",
   "metadata": {},
   "outputs": [
    {
     "data": {
      "text/plain": [
       "'avatsavirS tah'"
      ]
     },
     "execution_count": 76,
     "metadata": {},
     "output_type": "execute_result"
    }
   ],
   "source": [
    "str1[:2:-1]"
   ]
  },
  {
   "cell_type": "code",
   "execution_count": 77,
   "id": "bd1d4221-b802-4c30-9101-551ac43981cf",
   "metadata": {},
   "outputs": [
    {
     "data": {
      "text/plain": [
       "''"
      ]
     },
     "execution_count": 77,
     "metadata": {},
     "output_type": "execute_result"
    }
   ],
   "source": [
    "str1[0:5:-1]"
   ]
  },
  {
   "cell_type": "code",
   "execution_count": 78,
   "id": "b406a2bc-987c-4ec6-ae66-41b06127663f",
   "metadata": {},
   "outputs": [
    {
     "data": {
      "text/plain": [
       "' '"
      ]
     },
     "execution_count": 78,
     "metadata": {},
     "output_type": "execute_result"
    }
   ],
   "source": [
    "str1[6:3:-3]"
   ]
  },
  {
   "cell_type": "code",
   "execution_count": 79,
   "id": "72b77ae6-def0-4013-ba70-25fba3332e47",
   "metadata": {},
   "outputs": [
    {
     "data": {
      "text/plain": [
       "''"
      ]
     },
     "execution_count": 79,
     "metadata": {},
     "output_type": "execute_result"
    }
   ],
   "source": [
    "str1[3:6:-3]"
   ]
  },
  {
   "cell_type": "code",
   "execution_count": 80,
   "id": "de44bfe5-1ef7-4de0-aada-28fedf0b9b94",
   "metadata": {},
   "outputs": [
    {
     "data": {
      "text/plain": [
       "''"
      ]
     },
     "execution_count": 80,
     "metadata": {},
     "output_type": "execute_result"
    }
   ],
   "source": [
    "str1[:16:-3]"
   ]
  },
  {
   "cell_type": "code",
   "execution_count": 81,
   "id": "4555c640-055f-4608-80e4-88f2c314c96d",
   "metadata": {},
   "outputs": [
    {
     "data": {
      "text/plain": [
       "'Asa rvsaa'"
      ]
     },
     "execution_count": 81,
     "metadata": {},
     "output_type": "execute_result"
    }
   ],
   "source": [
    "str1[::2]"
   ]
  },
  {
   "cell_type": "code",
   "execution_count": 84,
   "id": "71f2a123-d433-41a0-a0a6-419f096e33f5",
   "metadata": {},
   "outputs": [
    {
     "data": {
      "text/plain": [
       "'sa '"
      ]
     },
     "execution_count": 84,
     "metadata": {},
     "output_type": "execute_result"
    }
   ],
   "source": [
    "str1[2:7:2]"
   ]
  },
  {
   "cell_type": "code",
   "execution_count": 85,
   "id": "f334f550-63e6-48f3-bbda-4983667c1ccd",
   "metadata": {},
   "outputs": [
    {
     "data": {
      "text/plain": [
       "'Akshat SrivastavaAkshat SrivastavaAkshat SrivastavaAkshat SrivastavaAkshat Srivastava'"
      ]
     },
     "execution_count": 85,
     "metadata": {},
     "output_type": "execute_result"
    }
   ],
   "source": [
    "str1*5"
   ]
  },
  {
   "cell_type": "code",
   "execution_count": 86,
   "id": "11b1c206-4b62-49b3-a195-8116331bc0eb",
   "metadata": {},
   "outputs": [
    {
     "data": {
      "text/plain": [
       "17"
      ]
     },
     "execution_count": 86,
     "metadata": {},
     "output_type": "execute_result"
    }
   ],
   "source": [
    "len(str1)"
   ]
  },
  {
   "cell_type": "code",
   "execution_count": 87,
   "id": "d05efa0f-94c4-41ed-913d-dff6ad7f9738",
   "metadata": {},
   "outputs": [
    {
     "data": {
      "text/plain": [
       "4"
      ]
     },
     "execution_count": 87,
     "metadata": {},
     "output_type": "execute_result"
    }
   ],
   "source": [
    "str1.find(\"a\")"
   ]
  },
  {
   "cell_type": "code",
   "execution_count": 88,
   "id": "b9d5e9e8-762a-4c00-8b49-351abcfdd24b",
   "metadata": {},
   "outputs": [
    {
     "data": {
      "text/plain": [
       "-1"
      ]
     },
     "execution_count": 88,
     "metadata": {},
     "output_type": "execute_result"
    }
   ],
   "source": [
    "str1.find(\"a\",5,10)"
   ]
  },
  {
   "cell_type": "code",
   "execution_count": 89,
   "id": "63c5cef8-55cb-45ad-8d70-a47579c432b8",
   "metadata": {},
   "outputs": [
    {
     "data": {
      "text/plain": [
       "4"
      ]
     },
     "execution_count": 89,
     "metadata": {},
     "output_type": "execute_result"
    }
   ],
   "source": [
    "str1.count('a')"
   ]
  },
  {
   "cell_type": "code",
   "execution_count": 90,
   "id": "bdfbfa2a-a9d9-4910-9afb-05280770c815",
   "metadata": {},
   "outputs": [
    {
     "data": {
      "text/plain": [
       "1"
      ]
     },
     "execution_count": 90,
     "metadata": {},
     "output_type": "execute_result"
    }
   ],
   "source": [
    "str1.count(' ')"
   ]
  },
  {
   "cell_type": "code",
   "execution_count": 91,
   "id": "f837d9eb-fed2-4a64-b09f-002cb6f19689",
   "metadata": {},
   "outputs": [
    {
     "data": {
      "text/plain": [
       "18"
      ]
     },
     "execution_count": 91,
     "metadata": {},
     "output_type": "execute_result"
    }
   ],
   "source": [
    "str1.count('')"
   ]
  },
  {
   "cell_type": "markdown",
   "id": "b76b7f54-b3d6-4c72-b342-4ce5dce377da",
   "metadata": {},
   "source": [
    "# string split function"
   ]
  },
  {
   "cell_type": "code",
   "execution_count": 92,
   "id": "1b60d7d9-5848-46aa-b8e7-422a925d3a15",
   "metadata": {},
   "outputs": [
    {
     "data": {
      "text/plain": [
       "['Akshat', 'Srivastava']"
      ]
     },
     "execution_count": 92,
     "metadata": {},
     "output_type": "execute_result"
    }
   ],
   "source": [
    "str1.split(\" \")"
   ]
  },
  {
   "cell_type": "code",
   "execution_count": 93,
   "id": "bad58ad2-c13d-49de-831a-ee703095541a",
   "metadata": {},
   "outputs": [
    {
     "data": {
      "text/plain": [
       "['Aksh', 't Sriv', 'st', 'v', '']"
      ]
     },
     "execution_count": 93,
     "metadata": {},
     "output_type": "execute_result"
    }
   ],
   "source": [
    "str1.split(\"a\")"
   ]
  },
  {
   "cell_type": "code",
   "execution_count": 94,
   "id": "925a90e5-b258-4a6c-a9c8-c9fc9af09a53",
   "metadata": {},
   "outputs": [
    {
     "data": {
      "text/plain": [
       "('Aksh', 'a', 't Srivastava')"
      ]
     },
     "execution_count": 94,
     "metadata": {},
     "output_type": "execute_result"
    }
   ],
   "source": [
    "str1.partition(\"a\")"
   ]
  },
  {
   "cell_type": "code",
   "execution_count": 95,
   "id": "d066586c-5b3e-4865-9785-a5f89f4f4720",
   "metadata": {},
   "outputs": [
    {
     "data": {
      "text/plain": [
       "'AKSHAT SRIVASTAVA'"
      ]
     },
     "execution_count": 95,
     "metadata": {},
     "output_type": "execute_result"
    }
   ],
   "source": [
    "str1.upper()"
   ]
  },
  {
   "cell_type": "code",
   "execution_count": 96,
   "id": "a4b4b2dd-2a60-4cfe-9e14-6318409c67c7",
   "metadata": {},
   "outputs": [
    {
     "data": {
      "text/plain": [
       "'akshat srivastava'"
      ]
     },
     "execution_count": 96,
     "metadata": {},
     "output_type": "execute_result"
    }
   ],
   "source": [
    "str1.lower()"
   ]
  },
  {
   "cell_type": "code",
   "execution_count": 97,
   "id": "a441c1f5-0e77-41ae-90af-30cef9bb3de3",
   "metadata": {},
   "outputs": [
    {
     "data": {
      "text/plain": [
       "'aKSHAT sRIVASTAVA'"
      ]
     },
     "execution_count": 97,
     "metadata": {},
     "output_type": "execute_result"
    }
   ],
   "source": [
    "str1.swapcase()"
   ]
  },
  {
   "cell_type": "code",
   "execution_count": 98,
   "id": "d8addc93-90d7-47cb-9990-b5b1605bfb42",
   "metadata": {},
   "outputs": [
    {
     "data": {
      "text/plain": [
       "'Akshat Srivastava'"
      ]
     },
     "execution_count": 98,
     "metadata": {},
     "output_type": "execute_result"
    }
   ],
   "source": [
    "str1.title()"
   ]
  },
  {
   "cell_type": "code",
   "execution_count": 100,
   "id": "a2f930ba-8e66-4829-8778-c5e60c7e1b27",
   "metadata": {},
   "outputs": [],
   "source": [
    "name = \"akshat srivastava\""
   ]
  },
  {
   "cell_type": "code",
   "execution_count": 101,
   "id": "c0ec07e2-39d3-4397-acbf-bd70d9a90076",
   "metadata": {},
   "outputs": [
    {
     "data": {
      "text/plain": [
       "'Akshat Srivastava'"
      ]
     },
     "execution_count": 101,
     "metadata": {},
     "output_type": "execute_result"
    }
   ],
   "source": [
    "name.title()"
   ]
  },
  {
   "cell_type": "code",
   "execution_count": null,
   "id": "6b3bdd29-b8e9-4a52-a4c0-fba438f531e5",
   "metadata": {},
   "outputs": [],
   "source": []
  }
 ],
 "metadata": {
  "kernelspec": {
   "display_name": "Python 3 (ipykernel)",
   "language": "python",
   "name": "python3"
  },
  "language_info": {
   "codemirror_mode": {
    "name": "ipython",
    "version": 3
   },
   "file_extension": ".py",
   "mimetype": "text/x-python",
   "name": "python",
   "nbconvert_exporter": "python",
   "pygments_lexer": "ipython3",
   "version": "3.10.8"
  }
 },
 "nbformat": 4,
 "nbformat_minor": 5
}
