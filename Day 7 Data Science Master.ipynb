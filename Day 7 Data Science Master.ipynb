{
 "cells": [
  {
   "cell_type": "markdown",
   "id": "208fee52-43cb-4fba-b42d-f4fbe7970781",
   "metadata": {},
   "source": [
    "# lambda Function"
   ]
  },
  {
   "cell_type": "code",
   "execution_count": 1,
   "id": "0532df08-509b-431a-8d8c-ab17cb4450bc",
   "metadata": {},
   "outputs": [],
   "source": [
    "n= 3\n",
    "p= 2"
   ]
  },
  {
   "cell_type": "code",
   "execution_count": 2,
   "id": "f95b8927-3c3f-4550-a3fb-33877ecd68cb",
   "metadata": {},
   "outputs": [],
   "source": [
    "def test(n,p):\n",
    "    return n**p"
   ]
  },
  {
   "cell_type": "code",
   "execution_count": 3,
   "id": "1d3ae1d3-deeb-442b-b294-3ed314796ef4",
   "metadata": {},
   "outputs": [
    {
     "data": {
      "text/plain": [
       "9"
      ]
     },
     "execution_count": 3,
     "metadata": {},
     "output_type": "execute_result"
    }
   ],
   "source": [
    "test(3,2)"
   ]
  },
  {
   "cell_type": "code",
   "execution_count": 4,
   "id": "6ebb9f4e-8587-4edb-80cb-1e5176445776",
   "metadata": {},
   "outputs": [
    {
     "data": {
      "text/plain": [
       "1099511627776"
      ]
     },
     "execution_count": 4,
     "metadata": {},
     "output_type": "execute_result"
    }
   ],
   "source": [
    "test(2,40)"
   ]
  },
  {
   "cell_type": "code",
   "execution_count": 5,
   "id": "c51b0a11-407b-411e-aa86-9e69e784bf72",
   "metadata": {},
   "outputs": [],
   "source": [
    "a=lambda n,p : n**p"
   ]
  },
  {
   "cell_type": "code",
   "execution_count": 6,
   "id": "a115dd94-9b84-4e77-9660-eba3e975d9c7",
   "metadata": {},
   "outputs": [
    {
     "data": {
      "text/plain": [
       "9"
      ]
     },
     "execution_count": 6,
     "metadata": {},
     "output_type": "execute_result"
    }
   ],
   "source": [
    "a(3,2)"
   ]
  },
  {
   "cell_type": "code",
   "execution_count": 7,
   "id": "f9bd358d-1c68-4826-8e57-00a441aa9685",
   "metadata": {},
   "outputs": [
    {
     "data": {
      "text/plain": [
       "1099511627776"
      ]
     },
     "execution_count": 7,
     "metadata": {},
     "output_type": "execute_result"
    }
   ],
   "source": [
    "a(2,40)"
   ]
  },
  {
   "cell_type": "code",
   "execution_count": 8,
   "id": "d6ca13c5-6731-4896-9be8-6a805dee4fcf",
   "metadata": {},
   "outputs": [],
   "source": [
    "add= lambda x,y : x+y"
   ]
  },
  {
   "cell_type": "code",
   "execution_count": 9,
   "id": "309a574d-c14f-4c0e-87c7-60501f46987e",
   "metadata": {},
   "outputs": [
    {
     "data": {
      "text/plain": [
       "32"
      ]
     },
     "execution_count": 9,
     "metadata": {},
     "output_type": "execute_result"
    }
   ],
   "source": [
    "add(17,15)"
   ]
  },
  {
   "cell_type": "code",
   "execution_count": 11,
   "id": "471c1e6e-c06e-450f-b204-faea7cce6608",
   "metadata": {},
   "outputs": [],
   "source": [
    "c_to_f=lambda c : (9/5)*c+32"
   ]
  },
  {
   "cell_type": "code",
   "execution_count": 12,
   "id": "e9c318cf-9b84-43ad-a7cc-d2e94d74c566",
   "metadata": {},
   "outputs": [
    {
     "data": {
      "text/plain": [
       "80.6"
      ]
     },
     "execution_count": 12,
     "metadata": {},
     "output_type": "execute_result"
    }
   ],
   "source": [
    "c_to_f(27)"
   ]
  },
  {
   "cell_type": "code",
   "execution_count": 13,
   "id": "aa20b479-0f03-4078-919e-af498e7132e9",
   "metadata": {},
   "outputs": [],
   "source": [
    "max_two = lambda x,y : x if x>y else y"
   ]
  },
  {
   "cell_type": "code",
   "execution_count": 14,
   "id": "d9018b30-18d2-415b-ae72-a99db3242cdf",
   "metadata": {},
   "outputs": [
    {
     "data": {
      "text/plain": [
       "17"
      ]
     },
     "execution_count": 14,
     "metadata": {},
     "output_type": "execute_result"
    }
   ],
   "source": [
    "max_two(17,15)"
   ]
  },
  {
   "cell_type": "code",
   "execution_count": 15,
   "id": "ba486158-c14c-4493-af20-cb0c5d505106",
   "metadata": {},
   "outputs": [
    {
     "data": {
      "text/plain": [
       "1345658137"
      ]
     },
     "execution_count": 15,
     "metadata": {},
     "output_type": "execute_result"
    }
   ],
   "source": [
    "max_two(26348734,1345658137)"
   ]
  },
  {
   "cell_type": "code",
   "execution_count": 19,
   "id": "2522ebc6-f7de-4742-9739-fa0b74696ff4",
   "metadata": {},
   "outputs": [],
   "source": [
    "s=\"AkshatSrivastava\""
   ]
  },
  {
   "cell_type": "code",
   "execution_count": 21,
   "id": "50a64f8c-402e-473f-9e60-b91d66ded632",
   "metadata": {},
   "outputs": [],
   "source": [
    "len_st=lambda s:len(s)"
   ]
  },
  {
   "cell_type": "code",
   "execution_count": 22,
   "id": "a7796329-fe15-49c3-b26d-bd3fb46b070d",
   "metadata": {},
   "outputs": [
    {
     "data": {
      "text/plain": [
       "16"
      ]
     },
     "execution_count": 22,
     "metadata": {},
     "output_type": "execute_result"
    }
   ],
   "source": [
    "len_st(s)"
   ]
  },
  {
   "cell_type": "markdown",
   "id": "13a82f8b-0b67-4d33-ad7f-d2c042c9e111",
   "metadata": {},
   "source": [
    "# Map , Reduce & Filter Function"
   ]
  },
  {
   "cell_type": "code",
   "execution_count": 23,
   "id": "0cff56ce-8f39-4fdc-b62c-b725986364da",
   "metadata": {},
   "outputs": [],
   "source": [
    " l=[1,2,3,4,5,6,7,8,9]"
   ]
  },
  {
   "cell_type": "code",
   "execution_count": 24,
   "id": "f4b60be3-f512-46ee-89ae-51cd93e1df14",
   "metadata": {},
   "outputs": [],
   "source": [
    "def test1(l):\n",
    "    l1=[]\n",
    "    for i in l:\n",
    "        l1.append(i**2)\n",
    "    return l1"
   ]
  },
  {
   "cell_type": "code",
   "execution_count": 25,
   "id": "61cd7920-c727-4726-8223-3bdb2ea416f3",
   "metadata": {},
   "outputs": [
    {
     "data": {
      "text/plain": [
       "[1, 4, 9, 16, 25, 36, 49, 64, 81]"
      ]
     },
     "execution_count": 25,
     "metadata": {},
     "output_type": "execute_result"
    }
   ],
   "source": [
    "test1(l)"
   ]
  },
  {
   "cell_type": "code",
   "execution_count": 26,
   "id": "3f82deb7-4b75-43e6-9d91-19f2e8309cb3",
   "metadata": {},
   "outputs": [],
   "source": [
    "def sq(x):\n",
    "    return x**2"
   ]
  },
  {
   "cell_type": "code",
   "execution_count": 27,
   "id": "2acfc8a7-71fb-4339-92a4-cbc1f2ea9058",
   "metadata": {},
   "outputs": [
    {
     "data": {
      "text/plain": [
       "[1, 4, 9, 16, 25, 36, 49, 64, 81]"
      ]
     },
     "execution_count": 27,
     "metadata": {},
     "output_type": "execute_result"
    }
   ],
   "source": [
    "list(map(sq,l))"
   ]
  },
  {
   "cell_type": "code",
   "execution_count": 28,
   "id": "475b9a5c-dc72-4ea2-9f3d-809939943522",
   "metadata": {},
   "outputs": [
    {
     "data": {
      "text/plain": [
       "[1, 4, 9, 16, 25, 36, 49, 64, 81]"
      ]
     },
     "execution_count": 28,
     "metadata": {},
     "output_type": "execute_result"
    }
   ],
   "source": [
    "list(map(lambda x:x**2,l))"
   ]
  },
  {
   "cell_type": "code",
   "execution_count": 29,
   "id": "3317409c-3442-4573-bb55-834d4e228c24",
   "metadata": {},
   "outputs": [
    {
     "data": {
      "text/plain": [
       "[11, 12, 13, 14, 15, 16, 17, 18, 19]"
      ]
     },
     "execution_count": 29,
     "metadata": {},
     "output_type": "execute_result"
    }
   ],
   "source": [
    "list(map(lambda x:x+10,l))"
   ]
  },
  {
   "cell_type": "code",
   "execution_count": 30,
   "id": "cb664eb8-012f-4a27-ac0f-3d29522a28a0",
   "metadata": {},
   "outputs": [
    {
     "data": {
      "text/plain": [
       "['1', '2', '3', '4', '5', '6', '7', '8', '9']"
      ]
     },
     "execution_count": 30,
     "metadata": {},
     "output_type": "execute_result"
    }
   ],
   "source": [
    "list(map(lambda x: str(x),l))"
   ]
  },
  {
   "cell_type": "code",
   "execution_count": 31,
   "id": "c4d65f46-434f-42e8-82cd-2ff909db586d",
   "metadata": {},
   "outputs": [],
   "source": [
    "l1=[1,2,3,4,5,6,7,8,9]\n",
    "l2=[9,8,7,6,5,4,3,2,1]"
   ]
  },
  {
   "cell_type": "code",
   "execution_count": 32,
   "id": "fa05a589-e352-42db-94e7-c1e16ffd4e67",
   "metadata": {},
   "outputs": [
    {
     "data": {
      "text/plain": [
       "[10, 10, 10, 10, 10, 10, 10, 10, 10]"
      ]
     },
     "execution_count": 32,
     "metadata": {},
     "output_type": "execute_result"
    }
   ],
   "source": [
    "list(map(lambda x,y: x+y,l1,l2))"
   ]
  },
  {
   "cell_type": "code",
   "execution_count": 35,
   "id": "12898e7c-0ca8-4c9c-ae2e-f74be3a855e5",
   "metadata": {},
   "outputs": [
    {
     "data": {
      "text/plain": [
       "[10, 10, 10, 10, 10, 10, 10, 10, 10]"
      ]
     },
     "execution_count": 35,
     "metadata": {},
     "output_type": "execute_result"
    }
   ],
   "source": [
    "list(map(f,l1,l2))"
   ]
  },
  {
   "cell_type": "code",
   "execution_count": 34,
   "id": "4ef6e681-b032-4560-ac56-0681b44da597",
   "metadata": {},
   "outputs": [],
   "source": [
    "f=lambda x,y: x+y"
   ]
  },
  {
   "cell_type": "code",
   "execution_count": 36,
   "id": "19a2c7da-73d4-4b91-8889-a5bd207f09c0",
   "metadata": {},
   "outputs": [],
   "source": [
    "s=\"Akshat\""
   ]
  },
  {
   "cell_type": "code",
   "execution_count": 37,
   "id": "0423f5c0-be37-43f2-b8e7-9606da5f251e",
   "metadata": {},
   "outputs": [
    {
     "data": {
      "text/plain": [
       "['A', 'K', 'S', 'H', 'A', 'T']"
      ]
     },
     "execution_count": 37,
     "metadata": {},
     "output_type": "execute_result"
    }
   ],
   "source": [
    "list(map(lambda x:x.upper(), s))"
   ]
  },
  {
   "cell_type": "code",
   "execution_count": 38,
   "id": "bdf96174-e81c-4b24-8fcd-ad49082a21fd",
   "metadata": {},
   "outputs": [],
   "source": [
    "from functools import reduce"
   ]
  },
  {
   "cell_type": "code",
   "execution_count": 39,
   "id": "ee441f29-7c5d-4370-96dd-ad9d1d0ee136",
   "metadata": {},
   "outputs": [],
   "source": [
    "l=[1,2,3,4,5,6]"
   ]
  },
  {
   "cell_type": "code",
   "execution_count": 40,
   "id": "ef1e63a0-f2c3-4b1b-adbc-588834b51fe3",
   "metadata": {},
   "outputs": [
    {
     "data": {
      "text/plain": [
       "21"
      ]
     },
     "execution_count": 40,
     "metadata": {},
     "output_type": "execute_result"
    }
   ],
   "source": [
    "reduce(lambda x,y:x+y,l)"
   ]
  },
  {
   "cell_type": "code",
   "execution_count": 41,
   "id": "caf4cb64-eb43-4c8c-aa72-470f7f3b64ff",
   "metadata": {},
   "outputs": [],
   "source": [
    "def add(x,y):\n",
    "    return x+y"
   ]
  },
  {
   "cell_type": "code",
   "execution_count": 42,
   "id": "64ec5996-069a-431f-86b4-bbaab7f23175",
   "metadata": {},
   "outputs": [
    {
     "data": {
      "text/plain": [
       "21"
      ]
     },
     "execution_count": 42,
     "metadata": {},
     "output_type": "execute_result"
    }
   ],
   "source": [
    "reduce(add,l)"
   ]
  },
  {
   "cell_type": "code",
   "execution_count": 43,
   "id": "f940acf4-45ae-4b38-9b22-5e1603032753",
   "metadata": {},
   "outputs": [
    {
     "ename": "TypeError",
     "evalue": "<lambda>() missing 1 required positional argument: 'z'",
     "output_type": "error",
     "traceback": [
      "\u001b[0;31m---------------------------------------------------------------------------\u001b[0m",
      "\u001b[0;31mTypeError\u001b[0m                                 Traceback (most recent call last)",
      "Cell \u001b[0;32mIn[43], line 1\u001b[0m\n\u001b[0;32m----> 1\u001b[0m \u001b[43mreduce\u001b[49m\u001b[43m(\u001b[49m\u001b[38;5;28;43;01mlambda\u001b[39;49;00m\u001b[43m \u001b[49m\u001b[43mx\u001b[49m\u001b[43m,\u001b[49m\u001b[43my\u001b[49m\u001b[43m,\u001b[49m\u001b[43mz\u001b[49m\u001b[43m:\u001b[49m\u001b[43m \u001b[49m\u001b[43mx\u001b[49m\u001b[38;5;241;43m+\u001b[39;49m\u001b[43my\u001b[49m\u001b[38;5;241;43m+\u001b[39;49m\u001b[43mz\u001b[49m\u001b[43m,\u001b[49m\u001b[43ml\u001b[49m\u001b[43m)\u001b[49m\n",
      "\u001b[0;31mTypeError\u001b[0m: <lambda>() missing 1 required positional argument: 'z'"
     ]
    }
   ],
   "source": [
    "reduce(lambda x,y,z: x+y+z,l)"
   ]
  },
  {
   "cell_type": "code",
   "execution_count": 44,
   "id": "ab83b32d-1bb6-4156-9d39-ab6eed876274",
   "metadata": {},
   "outputs": [
    {
     "ename": "TypeError",
     "evalue": "reduce() of empty iterable with no initial value",
     "output_type": "error",
     "traceback": [
      "\u001b[0;31m---------------------------------------------------------------------------\u001b[0m",
      "\u001b[0;31mTypeError\u001b[0m                                 Traceback (most recent call last)",
      "Cell \u001b[0;32mIn[44], line 1\u001b[0m\n\u001b[0;32m----> 1\u001b[0m \u001b[43mreduce\u001b[49m\u001b[43m(\u001b[49m\u001b[38;5;28;43;01mlambda\u001b[39;49;00m\u001b[43m \u001b[49m\u001b[43mx\u001b[49m\u001b[43m,\u001b[49m\u001b[43my\u001b[49m\u001b[43m:\u001b[49m\u001b[43m \u001b[49m\u001b[43mx\u001b[49m\u001b[38;5;241;43m+\u001b[39;49m\u001b[43my\u001b[49m\u001b[43m,\u001b[49m\u001b[43m[\u001b[49m\u001b[43m]\u001b[49m\u001b[43m)\u001b[49m\n",
      "\u001b[0;31mTypeError\u001b[0m: reduce() of empty iterable with no initial value"
     ]
    }
   ],
   "source": [
    "reduce(lambda x,y: x+y,[])"
   ]
  },
  {
   "cell_type": "code",
   "execution_count": 45,
   "id": "e75cff95-d212-43b4-aa92-e40cf6639851",
   "metadata": {},
   "outputs": [
    {
     "data": {
      "text/plain": [
       "1"
      ]
     },
     "execution_count": 45,
     "metadata": {},
     "output_type": "execute_result"
    }
   ],
   "source": [
    "reduce(lambda x,y: x+y,[1])"
   ]
  },
  {
   "cell_type": "code",
   "execution_count": 46,
   "id": "41f03a8b-c27d-4d3f-982f-8623380cdefb",
   "metadata": {},
   "outputs": [
    {
     "data": {
      "text/plain": [
       "[1, 2, 3, 4, 5, 6]"
      ]
     },
     "execution_count": 46,
     "metadata": {},
     "output_type": "execute_result"
    }
   ],
   "source": [
    "l"
   ]
  },
  {
   "cell_type": "code",
   "execution_count": 47,
   "id": "78b0f01e-a837-4fc7-8c3a-d0e64149a037",
   "metadata": {},
   "outputs": [
    {
     "data": {
      "text/plain": [
       "6"
      ]
     },
     "execution_count": 47,
     "metadata": {},
     "output_type": "execute_result"
    }
   ],
   "source": [
    "reduce(lambda x,y:x if x>y else y,l)"
   ]
  },
  {
   "cell_type": "code",
   "execution_count": 49,
   "id": "696ca89d-ed32-46a4-b270-58981cca55ca",
   "metadata": {},
   "outputs": [
    {
     "data": {
      "text/plain": [
       "89"
      ]
     },
     "execution_count": 49,
     "metadata": {},
     "output_type": "execute_result"
    }
   ],
   "source": [
    "reduce(lambda x,y:x if x>y else y,l1)"
   ]
  },
  {
   "cell_type": "code",
   "execution_count": 48,
   "id": "03da860a-ac01-4bac-abf1-98772d88a602",
   "metadata": {},
   "outputs": [],
   "source": [
    "l1=[23,42,14,76,32,89,14,74,3]"
   ]
  },
  {
   "cell_type": "code",
   "execution_count": 50,
   "id": "56838c98-c50a-4fd4-a8b5-9cccf740ea31",
   "metadata": {},
   "outputs": [
    {
     "data": {
      "text/plain": [
       "[42, 14, 76, 32, 14, 74]"
      ]
     },
     "execution_count": 50,
     "metadata": {},
     "output_type": "execute_result"
    }
   ],
   "source": [
    "list(filter(lambda x: x % 2==0,l1))"
   ]
  },
  {
   "cell_type": "code",
   "execution_count": 51,
   "id": "964c7d6f-d1ca-4755-a595-552c24164d0f",
   "metadata": {},
   "outputs": [
    {
     "data": {
      "text/plain": [
       "[23, 89, 3]"
      ]
     },
     "execution_count": 51,
     "metadata": {},
     "output_type": "execute_result"
    }
   ],
   "source": [
    "list(filter(lambda x: x % 2!=0,l1))"
   ]
  },
  {
   "cell_type": "code",
   "execution_count": 52,
   "id": "c768bea0-4a73-43b9-9503-d9c80f689bf0",
   "metadata": {},
   "outputs": [],
   "source": [
    "l2=[-2,-54,3234,52,-13,-56,23,-17]"
   ]
  },
  {
   "cell_type": "code",
   "execution_count": 53,
   "id": "5142fdb3-f81b-4cd5-995c-67abdc320e6a",
   "metadata": {},
   "outputs": [
    {
     "data": {
      "text/plain": [
       "[3234, 52, 23]"
      ]
     },
     "execution_count": 53,
     "metadata": {},
     "output_type": "execute_result"
    }
   ],
   "source": [
    "list(filter(lambda x:x>=0,l2))"
   ]
  },
  {
   "cell_type": "code",
   "execution_count": 54,
   "id": "c5c6302c-7992-4be7-a351-27064f3b29a8",
   "metadata": {},
   "outputs": [
    {
     "data": {
      "text/plain": [
       "[-2, -54, -13, -56, -17]"
      ]
     },
     "execution_count": 54,
     "metadata": {},
     "output_type": "execute_result"
    }
   ],
   "source": [
    "list(filter(lambda x:x<=0,l2))"
   ]
  },
  {
   "cell_type": "code",
   "execution_count": 55,
   "id": "76bbd146-d46f-4f84-a267-a9590950ee42",
   "metadata": {},
   "outputs": [],
   "source": [
    "l3=[\"Akshat\",\"Srivastava\",\"Prabhu\",\"Tanu\",\"Ishani\",\"Versha\"]"
   ]
  },
  {
   "cell_type": "code",
   "execution_count": 56,
   "id": "1043870b-0ff7-402d-9aaf-3d9b3fcf032c",
   "metadata": {},
   "outputs": [
    {
     "data": {
      "text/plain": [
       "['Srivastava']"
      ]
     },
     "execution_count": 56,
     "metadata": {},
     "output_type": "execute_result"
    }
   ],
   "source": [
    "list(filter(lambda x:len(x)>6,l3))"
   ]
  },
  {
   "cell_type": "code",
   "execution_count": 58,
   "id": "df89ee70-b928-4365-80b8-25bdbee1425d",
   "metadata": {},
   "outputs": [
    {
     "data": {
      "text/plain": [
       "['Akshat', 'Prabhu', 'Tanu', 'Ishani', 'Versha']"
      ]
     },
     "execution_count": 58,
     "metadata": {},
     "output_type": "execute_result"
    }
   ],
   "source": [
    "list(filter(lambda x:len(x)<=6,l3))"
   ]
  },
  {
   "cell_type": "code",
   "execution_count": null,
   "id": "7f7c40ce-b8e1-423d-85ba-8fc6fab3ad7d",
   "metadata": {},
   "outputs": [],
   "source": []
  }
 ],
 "metadata": {
  "kernelspec": {
   "display_name": "Python 3 (ipykernel)",
   "language": "python",
   "name": "python3"
  },
  "language_info": {
   "codemirror_mode": {
    "name": "ipython",
    "version": 3
   },
   "file_extension": ".py",
   "mimetype": "text/x-python",
   "name": "python",
   "nbconvert_exporter": "python",
   "pygments_lexer": "ipython3",
   "version": "3.10.8"
  }
 },
 "nbformat": 4,
 "nbformat_minor": 5
}
